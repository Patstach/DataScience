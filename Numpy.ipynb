{
  "nbformat": 4,
  "nbformat_minor": 0,
  "metadata": {
    "colab": {
      "provenance": [],
      "authorship_tag": "ABX9TyPxYgsefNaPHp9pxZMSI6EX",
      "include_colab_link": true
    },
    "kernelspec": {
      "name": "python3",
      "display_name": "Python 3"
    },
    "language_info": {
      "name": "python"
    }
  },
  "cells": [
    {
      "cell_type": "markdown",
      "metadata": {
        "id": "view-in-github",
        "colab_type": "text"
      },
      "source": [
        "<a href=\"https://colab.research.google.com/github/Patstach/DataScience/blob/main/Numpy.ipynb\" target=\"_parent\"><img src=\"https://colab.research.google.com/assets/colab-badge.svg\" alt=\"Open In Colab\"/></a>"
      ]
    },
    {
      "cell_type": "markdown",
      "source": [
        "# **NUMPY**"
      ],
      "metadata": {
        "id": "HSdww2QQ6Yxd"
      }
    },
    {
      "cell_type": "markdown",
      "source": [
        "Biblioteka"
      ],
      "metadata": {
        "id": "7PPq1oEZ8iNm"
      }
    },
    {
      "cell_type": "code",
      "source": [
        "import numpy as np"
      ],
      "metadata": {
        "id": "fViOneWH8hdd"
      },
      "execution_count": 357,
      "outputs": []
    },
    {
      "cell_type": "markdown",
      "source": [
        "* Sklara czyli pojedyncza cyfra jest 0-wymiarowym tensorem (0D)\n",
        "* Wektor to tensor 1-wymiarowy (1D)\n",
        "* Macierz to tensor 2-wymiarowy (2D)\n",
        "* Wystepuje też macierz 3-wymiarowa, jest to tensor (3D)"
      ],
      "metadata": {
        "id": "fyFbbict6lEQ"
      }
    },
    {
      "cell_type": "markdown",
      "source": [
        "#**WEKTOR**"
      ],
      "metadata": {
        "id": "FBu8RMjoCkbA"
      }
    },
    {
      "cell_type": "code",
      "source": [
        "df = np.array([[1,2,3],[4,5,6]]) \n",
        "df"
      ],
      "metadata": {
        "colab": {
          "base_uri": "https://localhost:8080/"
        },
        "id": "QU3HPSf1dnFh",
        "outputId": "05bf5bc5-0b79-4926-e5bc-25ff944d7faa"
      },
      "execution_count": 358,
      "outputs": [
        {
          "output_type": "execute_result",
          "data": {
            "text/plain": [
              "array([[1, 2, 3],\n",
              "       [4, 5, 6]])"
            ]
          },
          "metadata": {},
          "execution_count": 358
        }
      ]
    },
    {
      "cell_type": "code",
      "source": [
        "np.shape(df)"
      ],
      "metadata": {
        "colab": {
          "base_uri": "https://localhost:8080/"
        },
        "id": "KeTvQ8U4dq_P",
        "outputId": "887127eb-154e-47e1-91ca-ea56d7d9df10"
      },
      "execution_count": 359,
      "outputs": [
        {
          "output_type": "execute_result",
          "data": {
            "text/plain": [
              "(2, 3)"
            ]
          },
          "metadata": {},
          "execution_count": 359
        }
      ]
    },
    {
      "cell_type": "markdown",
      "source": [
        "1) Tworzenie wektorów, czyli tensora 1-wymiarowego (1D)"
      ],
      "metadata": {
        "id": "oPCrS9UX7GJN"
      }
    },
    {
      "cell_type": "markdown",
      "source": [
        "  * poprzez uzycie listy:"
      ],
      "metadata": {
        "id": "5AyNPmVc8Y2O"
      }
    },
    {
      "cell_type": "code",
      "source": [
        "wektor = np.array([1, 2, 3, 4, 5, 6])\n",
        "wektor"
      ],
      "metadata": {
        "colab": {
          "base_uri": "https://localhost:8080/"
        },
        "id": "gdJH5zxK8YDC",
        "outputId": "6baa5616-cafc-4fe3-c18e-ea6856309f66"
      },
      "execution_count": 360,
      "outputs": [
        {
          "output_type": "execute_result",
          "data": {
            "text/plain": [
              "array([1, 2, 3, 4, 5, 6])"
            ]
          },
          "metadata": {},
          "execution_count": 360
        }
      ]
    },
    {
      "cell_type": "markdown",
      "source": [
        "      lub:"
      ],
      "metadata": {
        "id": "CghLszOv8wlL"
      }
    },
    {
      "cell_type": "code",
      "source": [
        "mylist = [1, 2, 3, 4, 5]                                                        # Tworzymy wczesniej liste\n",
        "mylist"
      ],
      "metadata": {
        "colab": {
          "base_uri": "https://localhost:8080/"
        },
        "id": "giZ4FMa77F39",
        "outputId": "11511541-5b6d-4709-d5b5-8cb99843b658"
      },
      "execution_count": 361,
      "outputs": [
        {
          "output_type": "execute_result",
          "data": {
            "text/plain": [
              "[1, 2, 3, 4, 5]"
            ]
          },
          "metadata": {},
          "execution_count": 361
        }
      ]
    },
    {
      "cell_type": "code",
      "source": [
        "wektor2 = np.array(mylist)                                                      # Tworzymy wektor z wczesniejszej listy\n",
        "wektor2"
      ],
      "metadata": {
        "colab": {
          "base_uri": "https://localhost:8080/"
        },
        "id": "PiKTmroA7Ew9",
        "outputId": "a7bc6667-0dd5-4a27-a579-c9817b2296f5"
      },
      "execution_count": 362,
      "outputs": [
        {
          "output_type": "execute_result",
          "data": {
            "text/plain": [
              "array([1, 2, 3, 4, 5])"
            ]
          },
          "metadata": {},
          "execution_count": 362
        }
      ]
    },
    {
      "cell_type": "markdown",
      "source": [
        "2) Tworzenie wektora w sytuacji w której wiemy jakie maja być wartości - ciąg liczbowy"
      ],
      "metadata": {
        "id": "DnBHa9ap9R2Y"
      }
    },
    {
      "cell_type": "code",
      "source": [
        "wektor3 = np.arange(2,8,2)\n",
        "wektor3                                                                         # podajemy wartość początkową (np.2), końcową (np.8), z przeskokiem co 2."
      ],
      "metadata": {
        "colab": {
          "base_uri": "https://localhost:8080/"
        },
        "id": "6apWzQ1w6kvg",
        "outputId": "d6c5d4c4-527d-4c0a-99b9-259f3cd2d8f5"
      },
      "execution_count": 363,
      "outputs": [
        {
          "output_type": "execute_result",
          "data": {
            "text/plain": [
              "array([2, 4, 6])"
            ]
          },
          "metadata": {},
          "execution_count": 363
        }
      ]
    },
    {
      "cell_type": "markdown",
      "source": [
        "3) Tworzenie wektora, jeśli chcemy stworzyć wartości w RÓWNYCH odstepach"
      ],
      "metadata": {
        "id": "tJcRvyRq-SeR"
      }
    },
    {
      "cell_type": "code",
      "source": [
        "wektor4 = np.linspace(0, 10, 3)                                                 # stworzy wektor z 3 elementami (ostatni argument), pierwszy to poczatek przedzialu, \n",
        "wektor4                                                                         #  drugi to koniec przedziału"
      ],
      "metadata": {
        "colab": {
          "base_uri": "https://localhost:8080/"
        },
        "id": "puaBQ-8q6ksK",
        "outputId": "2161340c-d100-4b35-bb20-c7d3500b6115"
      },
      "execution_count": 364,
      "outputs": [
        {
          "output_type": "execute_result",
          "data": {
            "text/plain": [
              "array([ 0.,  5., 10.])"
            ]
          },
          "metadata": {},
          "execution_count": 364
        }
      ]
    },
    {
      "cell_type": "markdown",
      "source": [
        "4) Zerowy wektor"
      ],
      "metadata": {
        "id": "UMVoWbaY-6AU"
      }
    },
    {
      "cell_type": "code",
      "source": [
        "wektor5 = np.zeros(4)                                                           # wektor zerowy z 4 elementami\n",
        "wektor5"
      ],
      "metadata": {
        "colab": {
          "base_uri": "https://localhost:8080/"
        },
        "id": "yO4TNIpf-bGE",
        "outputId": "b853e32d-5990-4308-bfff-307f4ecf43e9"
      },
      "execution_count": 365,
      "outputs": [
        {
          "output_type": "execute_result",
          "data": {
            "text/plain": [
              "array([0., 0., 0., 0.])"
            ]
          },
          "metadata": {},
          "execution_count": 365
        }
      ]
    },
    {
      "cell_type": "markdown",
      "source": [
        "5) Jedynkowy wektor"
      ],
      "metadata": {
        "id": "V1dILD2u_GHy"
      }
    },
    {
      "cell_type": "code",
      "source": [
        "wektor6 = np.ones(5)                                                            # wektor jedynkowy z 5 elementami\n",
        "wektor6"
      ],
      "metadata": {
        "colab": {
          "base_uri": "https://localhost:8080/"
        },
        "id": "6dAQGDQJ_B04",
        "outputId": "effeb598-2e75-4070-b18e-0ab851a37dca"
      },
      "execution_count": 366,
      "outputs": [
        {
          "output_type": "execute_result",
          "data": {
            "text/plain": [
              "array([1., 1., 1., 1., 1.])"
            ]
          },
          "metadata": {},
          "execution_count": 366
        }
      ]
    },
    {
      "cell_type": "markdown",
      "source": [
        "6) Wektor ze stałą wartością"
      ],
      "metadata": {
        "id": "KQKBEI5W_2fl"
      }
    },
    {
      "cell_type": "code",
      "source": [
        "wektor7 = np.full((5),7)                                                        # wektor z 5 elementami i stałą wrtością elementów (7)\n",
        "wektor7"
      ],
      "metadata": {
        "colab": {
          "base_uri": "https://localhost:8080/"
        },
        "id": "O7oPrHu3_Tc-",
        "outputId": "f67494b3-9be2-4317-f96a-91329125c11e"
      },
      "execution_count": 367,
      "outputs": [
        {
          "output_type": "execute_result",
          "data": {
            "text/plain": [
              "array([7, 7, 7, 7, 7])"
            ]
          },
          "metadata": {},
          "execution_count": 367
        }
      ]
    },
    {
      "cell_type": "markdown",
      "source": [
        "7) Wektor pusty - Należy używać ostrożnie"
      ],
      "metadata": {
        "id": "caSoHr6hBk22"
      }
    },
    {
      "cell_type": "code",
      "source": [
        "wektor8 = np.empty((3))                                                         # Tworzy 'pusty' wektor który należy samemu uzupełnić?\n",
        "wektor8"
      ],
      "metadata": {
        "colab": {
          "base_uri": "https://localhost:8080/"
        },
        "id": "gLrGyJMpAJIh",
        "outputId": "e7b79b30-b764-46bd-cd78-1e163d0c3e37"
      },
      "execution_count": 368,
      "outputs": [
        {
          "output_type": "execute_result",
          "data": {
            "text/plain": [
              "array([ 0.,  5., 10.])"
            ]
          },
          "metadata": {},
          "execution_count": 368
        }
      ]
    },
    {
      "cell_type": "markdown",
      "source": [
        "8) Wektor z losowymi wartościami"
      ],
      "metadata": {
        "id": "tuolwxHbB8jW"
      }
    },
    {
      "cell_type": "code",
      "source": [
        "wektor9 = np.random.random(5)                                                   # wektor z 5 losowymi elementami\n",
        "wektor9"
      ],
      "metadata": {
        "colab": {
          "base_uri": "https://localhost:8080/"
        },
        "id": "fRXk398AAjDK",
        "outputId": "70e3f9f0-a171-487c-a6c1-9e5df79c65c5"
      },
      "execution_count": 369,
      "outputs": [
        {
          "output_type": "execute_result",
          "data": {
            "text/plain": [
              "array([0.82104341, 0.50611097, 0.22513156, 0.84386678, 0.35621772])"
            ]
          },
          "metadata": {},
          "execution_count": 369
        }
      ]
    },
    {
      "cell_type": "markdown",
      "source": [
        "#**MACIERZ**"
      ],
      "metadata": {
        "id": "5sKvBKi0Cpfr"
      }
    },
    {
      "cell_type": "markdown",
      "source": [
        "Macierz jest 2-wymiarowym tensorem, wiekszosc procedur jest wykonywana analogiczne do wektora. Należy podawać jedynie argumenty dla '2-go wymiaru'\n",
        "np."
      ],
      "metadata": {
        "id": "2lUtijjBCtja"
      }
    },
    {
      "cell_type": "code",
      "source": [
        "macierz = np.array([[1, 2, 3, 4, 5],\n",
        "                   [6, 7, 8, 9, 10]])\n",
        "macierz"
      ],
      "metadata": {
        "colab": {
          "base_uri": "https://localhost:8080/"
        },
        "id": "KzM7q2wFBy32",
        "outputId": "04d45e70-8f77-40ab-8768-1c7145e2ee99"
      },
      "execution_count": 370,
      "outputs": [
        {
          "output_type": "execute_result",
          "data": {
            "text/plain": [
              "array([[ 1,  2,  3,  4,  5],\n",
              "       [ 6,  7,  8,  9, 10]])"
            ]
          },
          "metadata": {},
          "execution_count": 370
        }
      ]
    },
    {
      "cell_type": "code",
      "source": [
        "macierz2 = np.array([np.random.randint(3, 10, size=3),\n",
        "                     np.random.randint(3,10, size=3)])\n",
        "macierz2"
      ],
      "metadata": {
        "colab": {
          "base_uri": "https://localhost:8080/"
        },
        "id": "QD_7Whi926_R",
        "outputId": "b1a82248-ebe1-4c70-b0b4-ced96949ffa3"
      },
      "execution_count": 371,
      "outputs": [
        {
          "output_type": "execute_result",
          "data": {
            "text/plain": [
              "array([[6, 6, 8],\n",
              "       [9, 6, 6]])"
            ]
          },
          "metadata": {},
          "execution_count": 371
        }
      ]
    },
    {
      "cell_type": "code",
      "source": [
        "macierz3 = np.array([np.arange(0, 10, 3),\n",
        "                    np.arange(10, 20, 3)])\n",
        "macierz3"
      ],
      "metadata": {
        "colab": {
          "base_uri": "https://localhost:8080/"
        },
        "id": "3HYs23wIDVoF",
        "outputId": "a52b8b9d-b10f-4415-b48d-761a636ac935"
      },
      "execution_count": 372,
      "outputs": [
        {
          "output_type": "execute_result",
          "data": {
            "text/plain": [
              "array([[ 0,  3,  6,  9],\n",
              "       [10, 13, 16, 19]])"
            ]
          },
          "metadata": {},
          "execution_count": 372
        }
      ]
    },
    {
      "cell_type": "code",
      "source": [
        "macierz4 = np.array([np.linspace(0, 10, 3),\n",
        "                    np.linspace(10, 20, 3)])\n",
        "macierz4"
      ],
      "metadata": {
        "colab": {
          "base_uri": "https://localhost:8080/"
        },
        "id": "NY-5jojOFZLq",
        "outputId": "c364a133-2874-4029-af54-5e9a9d16726e"
      },
      "execution_count": 373,
      "outputs": [
        {
          "output_type": "execute_result",
          "data": {
            "text/plain": [
              "array([[ 0.,  5., 10.],\n",
              "       [10., 15., 20.]])"
            ]
          },
          "metadata": {},
          "execution_count": 373
        }
      ]
    },
    {
      "cell_type": "code",
      "source": [
        "macierz5 = np.zeros((4,4))                                                      # macierz zerowa 4x4\n",
        "macierz5"
      ],
      "metadata": {
        "colab": {
          "base_uri": "https://localhost:8080/"
        },
        "id": "xz7Ruuw-Fi2v",
        "outputId": "a56d1d07-8a27-4f81-b3ff-c1d3fb062f55"
      },
      "execution_count": 374,
      "outputs": [
        {
          "output_type": "execute_result",
          "data": {
            "text/plain": [
              "array([[0., 0., 0., 0.],\n",
              "       [0., 0., 0., 0.],\n",
              "       [0., 0., 0., 0.],\n",
              "       [0., 0., 0., 0.]])"
            ]
          },
          "metadata": {},
          "execution_count": 374
        }
      ]
    },
    {
      "cell_type": "code",
      "source": [
        "macierz6 = np.ones((5,5))                                                       # macierz jedynkowa 4x4\n",
        "macierz6"
      ],
      "metadata": {
        "colab": {
          "base_uri": "https://localhost:8080/"
        },
        "id": "w_Y-ptyeFpaM",
        "outputId": "0746dddf-72fa-45e7-8cec-2b7ff3335322"
      },
      "execution_count": 375,
      "outputs": [
        {
          "output_type": "execute_result",
          "data": {
            "text/plain": [
              "array([[1., 1., 1., 1., 1.],\n",
              "       [1., 1., 1., 1., 1.],\n",
              "       [1., 1., 1., 1., 1.],\n",
              "       [1., 1., 1., 1., 1.],\n",
              "       [1., 1., 1., 1., 1.]])"
            ]
          },
          "metadata": {},
          "execution_count": 375
        }
      ]
    },
    {
      "cell_type": "code",
      "source": [
        "macierz7 = np.full((5,4),7)                                                     # macierz 5x4 ze stałą wrtością elementów (7)\n",
        "macierz7"
      ],
      "metadata": {
        "colab": {
          "base_uri": "https://localhost:8080/"
        },
        "id": "z6BuOxNQF1Ak",
        "outputId": "e4234eae-b261-4bd4-8b79-e170f60477c0"
      },
      "execution_count": 376,
      "outputs": [
        {
          "output_type": "execute_result",
          "data": {
            "text/plain": [
              "array([[7, 7, 7, 7],\n",
              "       [7, 7, 7, 7],\n",
              "       [7, 7, 7, 7],\n",
              "       [7, 7, 7, 7],\n",
              "       [7, 7, 7, 7]])"
            ]
          },
          "metadata": {},
          "execution_count": 376
        }
      ]
    },
    {
      "cell_type": "code",
      "source": [
        "macierz9 = np.random.random((5,5))                                              # macierz 5x5 z losową wartościa elementów                  \n",
        "macierz9"
      ],
      "metadata": {
        "colab": {
          "base_uri": "https://localhost:8080/"
        },
        "id": "HzZFU1T8F8_a",
        "outputId": "9165a461-63bb-4efc-b1dc-a0396c98b198"
      },
      "execution_count": 377,
      "outputs": [
        {
          "output_type": "execute_result",
          "data": {
            "text/plain": [
              "array([[0.57953902, 0.39548006, 0.84203907, 0.70618343, 0.27608973],\n",
              "       [0.21293778, 0.29995869, 0.61747209, 0.72158846, 0.34174634],\n",
              "       [0.31234377, 0.64084684, 0.13122441, 0.59781591, 0.65325762],\n",
              "       [0.04790158, 0.09584931, 0.20034563, 0.3663862 , 0.26422151],\n",
              "       [0.81840157, 0.67167492, 0.66409475, 0.3281231 , 0.8577234 ]])"
            ]
          },
          "metadata": {},
          "execution_count": 377
        }
      ]
    },
    {
      "cell_type": "code",
      "source": [
        "macierz10 = np.identity(3)                                                      # macierz kwadratowa jednostkowa 3x3\n",
        "macierz10"
      ],
      "metadata": {
        "colab": {
          "base_uri": "https://localhost:8080/"
        },
        "id": "h-OfHPKXr3c5",
        "outputId": "abba4569-38dd-451b-88e1-68d97b3bff0e"
      },
      "execution_count": 378,
      "outputs": [
        {
          "output_type": "execute_result",
          "data": {
            "text/plain": [
              "array([[1., 0., 0.],\n",
              "       [0., 1., 0.],\n",
              "       [0., 0., 1.]])"
            ]
          },
          "metadata": {},
          "execution_count": 378
        }
      ]
    },
    {
      "cell_type": "code",
      "source": [
        "macierz11 = np.eye(3,4)                                                         # macierz 2D z przekątną z '1', reszta elementow '0', nie musi być kwadratowa\n",
        "macierz11"
      ],
      "metadata": {
        "colab": {
          "base_uri": "https://localhost:8080/"
        },
        "id": "tzoYTN7QsiG-",
        "outputId": "731e2fe6-5414-40a5-840e-4a4c914e2304"
      },
      "execution_count": 379,
      "outputs": [
        {
          "output_type": "execute_result",
          "data": {
            "text/plain": [
              "array([[1., 0., 0., 0.],\n",
              "       [0., 1., 0., 0.],\n",
              "       [0., 0., 1., 0.]])"
            ]
          },
          "metadata": {},
          "execution_count": 379
        }
      ]
    },
    {
      "cell_type": "code",
      "source": [
        "macierz12 = np.eye(4, 5, k = 2)                                                 # można przesuwać przekątną z 1 za pomocą parametru k, jeżeli k>0 to przesuwamy po kolumnach\n",
        "macierz12"
      ],
      "metadata": {
        "colab": {
          "base_uri": "https://localhost:8080/"
        },
        "id": "eZwHAmovtOoW",
        "outputId": "30f7f95d-a786-42db-a28e-94c44b11a6cc"
      },
      "execution_count": 380,
      "outputs": [
        {
          "output_type": "execute_result",
          "data": {
            "text/plain": [
              "array([[0., 0., 1., 0., 0.],\n",
              "       [0., 0., 0., 1., 0.],\n",
              "       [0., 0., 0., 0., 1.],\n",
              "       [0., 0., 0., 0., 0.]])"
            ]
          },
          "metadata": {},
          "execution_count": 380
        }
      ]
    },
    {
      "cell_type": "code",
      "source": [
        "macierz12 = np.eye(4, 5, k = -2)                                                 # można przesuwać przekątną z 1 za pomocą parametru k, jeżeli k<0 to przesuwamy po wierszach\n",
        "macierz12"
      ],
      "metadata": {
        "colab": {
          "base_uri": "https://localhost:8080/"
        },
        "id": "w4gmHNbatyVT",
        "outputId": "93bf60e4-6781-418d-9048-e12546864a72"
      },
      "execution_count": 381,
      "outputs": [
        {
          "output_type": "execute_result",
          "data": {
            "text/plain": [
              "array([[0., 0., 0., 0., 0.],\n",
              "       [0., 0., 0., 0., 0.],\n",
              "       [1., 0., 0., 0., 0.],\n",
              "       [0., 1., 0., 0., 0.]])"
            ]
          },
          "metadata": {},
          "execution_count": 381
        }
      ]
    },
    {
      "cell_type": "markdown",
      "source": [
        "#**Atrybuty NUMPY**"
      ],
      "metadata": {
        "id": "E7p0HoIKGvLQ"
      }
    },
    {
      "cell_type": "markdown",
      "source": [
        "1) Jesli chcemy dowiedzieć sie o skaldni danego atrybutu możemy to z robić za pomocą atrybutu. np"
      ],
      "metadata": {
        "id": "sQ7NZGF-HDOY"
      }
    },
    {
      "cell_type": "code",
      "source": [
        "np.info(np.arange)                                                              # w tym przypadku wyrzuci nam instrukcję dotyczącą atrybutu 'arange'"
      ],
      "metadata": {
        "colab": {
          "base_uri": "https://localhost:8080/"
        },
        "id": "cJGnMsQqGVMT",
        "outputId": "e831b811-80bb-4b42-ecc3-5cbcfcaf1a2c"
      },
      "execution_count": 382,
      "outputs": [
        {
          "output_type": "stream",
          "name": "stdout",
          "text": [
            "arange([start,] stop[, step,], dtype=None, *, like=None)\n",
            "\n",
            "Return evenly spaced values within a given interval.\n",
            "\n",
            "Values are generated within the half-open interval ``[start, stop)``\n",
            "(in other words, the interval including `start` but excluding `stop`).\n",
            "For integer arguments the function is equivalent to the Python built-in\n",
            "`range` function, but returns an ndarray rather than a list.\n",
            "\n",
            "When using a non-integer step, such as 0.1, it is often better to use\n",
            "`numpy.linspace`. See the warnings section below for more information.\n",
            "\n",
            "Parameters\n",
            "----------\n",
            "start : integer or real, optional\n",
            "    Start of interval.  The interval includes this value.  The default\n",
            "    start value is 0.\n",
            "stop : integer or real\n",
            "    End of interval.  The interval does not include this value, except\n",
            "    in some cases where `step` is not an integer and floating point\n",
            "    round-off affects the length of `out`.\n",
            "step : integer or real, optional\n",
            "    Spacing between values.  For any output `out`, this is the distance\n",
            "    between two adjacent values, ``out[i+1] - out[i]``.  The default\n",
            "    step size is 1.  If `step` is specified as a position argument,\n",
            "    `start` must also be given.\n",
            "dtype : dtype\n",
            "    The type of the output array.  If `dtype` is not given, infer the data\n",
            "    type from the other input arguments.\n",
            "like : array_like\n",
            "    Reference object to allow the creation of arrays which are not\n",
            "    NumPy arrays. If an array-like passed in as ``like`` supports\n",
            "    the ``__array_function__`` protocol, the result will be defined\n",
            "    by it. In this case, it ensures the creation of an array object\n",
            "    compatible with that passed in via this argument.\n",
            "\n",
            "    .. versionadded:: 1.20.0\n",
            "\n",
            "Returns\n",
            "-------\n",
            "arange : ndarray\n",
            "    Array of evenly spaced values.\n",
            "\n",
            "    For floating point arguments, the length of the result is\n",
            "    ``ceil((stop - start)/step)``.  Because of floating point overflow,\n",
            "    this rule may result in the last element of `out` being greater\n",
            "    than `stop`.\n",
            "\n",
            "Warnings\n",
            "--------\n",
            "The length of the output might not be numerically stable.\n",
            "\n",
            "Another stability issue is due to the internal implementation of\n",
            "`numpy.arange`.\n",
            "The actual step value used to populate the array is\n",
            "``dtype(start + step) - dtype(start)`` and not `step`. Precision loss\n",
            "can occur here, due to casting or due to using floating points when\n",
            "`start` is much larger than `step`. This can lead to unexpected\n",
            "behaviour. For example::\n",
            "\n",
            "  >>> np.arange(0, 5, 0.5, dtype=int)\n",
            "  array([0, 0, 0, 0, 0, 0, 0, 0, 0, 0])\n",
            "  >>> np.arange(-3, 3, 0.5, dtype=int)\n",
            "  array([-3, -2, -1,  0,  1,  2,  3,  4,  5,  6,  7,  8])\n",
            "\n",
            "In such cases, the use of `numpy.linspace` should be preferred.\n",
            "\n",
            "See Also\n",
            "--------\n",
            "numpy.linspace : Evenly spaced numbers with careful handling of endpoints.\n",
            "numpy.ogrid: Arrays of evenly spaced numbers in N-dimensions.\n",
            "numpy.mgrid: Grid-shaped arrays of evenly spaced numbers in N-dimensions.\n",
            "\n",
            "Examples\n",
            "--------\n",
            ">>> np.arange(3)\n",
            "array([0, 1, 2])\n",
            ">>> np.arange(3.0)\n",
            "array([ 0.,  1.,  2.])\n",
            ">>> np.arange(3,7)\n",
            "array([3, 4, 5, 6])\n",
            ">>> np.arange(3,7,2)\n",
            "array([3, 5])\n"
          ]
        }
      ]
    },
    {
      "cell_type": "markdown",
      "source": [
        "2) Ilość wierszy i kolumn"
      ],
      "metadata": {
        "id": "sm2Xi_7cHe5K"
      }
    },
    {
      "cell_type": "code",
      "source": [
        "macierz9.shape                                                           # na podstawie wczesniej stworzonej zmiennej 'macierz9' - 5 wierszy i 5 kolumn (macierz-> 2 wymiary)"
      ],
      "metadata": {
        "colab": {
          "base_uri": "https://localhost:8080/"
        },
        "id": "J0UcXPHIG1M5",
        "outputId": "339f076a-24b0-4445-ca81-85f48c0c06e1"
      },
      "execution_count": 383,
      "outputs": [
        {
          "output_type": "execute_result",
          "data": {
            "text/plain": [
              "(5, 5)"
            ]
          },
          "metadata": {},
          "execution_count": 383
        }
      ]
    },
    {
      "cell_type": "code",
      "source": [
        "wektor7.shape                                                                   # na podstawie wczesniej stworzonej zmiennej 'wektor7' - 5 elementów (wektor-> 1 wymiar)"
      ],
      "metadata": {
        "colab": {
          "base_uri": "https://localhost:8080/"
        },
        "id": "RrfnZ9HgHdkK",
        "outputId": "b2ab9d84-d535-441e-f993-95565955aeea"
      },
      "execution_count": 384,
      "outputs": [
        {
          "output_type": "execute_result",
          "data": {
            "text/plain": [
              "(5,)"
            ]
          },
          "metadata": {},
          "execution_count": 384
        }
      ]
    },
    {
      "cell_type": "markdown",
      "source": [
        "3) Ilość elementów macierzy/wektora"
      ],
      "metadata": {
        "id": "mNCZbOubIFzE"
      }
    },
    {
      "cell_type": "code",
      "source": [
        "macierz7.size                                                                   # na podstawie wczesniej stworzonej zmiennej 'macierz7'"
      ],
      "metadata": {
        "colab": {
          "base_uri": "https://localhost:8080/"
        },
        "id": "dWXr9b9yHvqU",
        "outputId": "2c0b40c8-5684-4d0d-91eb-d4f5ff475f85"
      },
      "execution_count": 385,
      "outputs": [
        {
          "output_type": "execute_result",
          "data": {
            "text/plain": [
              "20"
            ]
          },
          "metadata": {},
          "execution_count": 385
        }
      ]
    },
    {
      "cell_type": "code",
      "source": [
        "wektor3.size                                                                    # na podstawie wczesniej stworzonej zmiennej 'wektor3'"
      ],
      "metadata": {
        "colab": {
          "base_uri": "https://localhost:8080/"
        },
        "id": "Fa6G4uD1IPVW",
        "outputId": "b8c58d73-d58b-4149-bf7c-8fe4b59ac09a"
      },
      "execution_count": 386,
      "outputs": [
        {
          "output_type": "execute_result",
          "data": {
            "text/plain": [
              "3"
            ]
          },
          "metadata": {},
          "execution_count": 386
        }
      ]
    },
    {
      "cell_type": "markdown",
      "source": [
        "4) Ilość wymiarów - sprawdzamy czy jest to wektor, macierz 2D, macierz 3D"
      ],
      "metadata": {
        "id": "g9v1isRYIe_-"
      }
    },
    {
      "cell_type": "code",
      "source": [
        "macierz4.ndim                                                                   # na podstawie wczesniej stworzonej zmiennej 'macierz4' -> 2 wymiary bo macierz"
      ],
      "metadata": {
        "colab": {
          "base_uri": "https://localhost:8080/"
        },
        "id": "XVZxydciIX5W",
        "outputId": "6bf5c957-6ef2-4721-9b0c-5b1fda9b847e"
      },
      "execution_count": 387,
      "outputs": [
        {
          "output_type": "execute_result",
          "data": {
            "text/plain": [
              "2"
            ]
          },
          "metadata": {},
          "execution_count": 387
        }
      ]
    },
    {
      "cell_type": "code",
      "source": [
        "wektor2.ndim                                                                    # na podstawie wczesniej stworzonej zmiennej 'wektor2' -> 1 wymiar bo wektor"
      ],
      "metadata": {
        "colab": {
          "base_uri": "https://localhost:8080/"
        },
        "id": "dGWduJNbIoq2",
        "outputId": "1e90ecdf-b4ca-4bd1-d274-58b6d8c50fca"
      },
      "execution_count": 388,
      "outputs": [
        {
          "output_type": "execute_result",
          "data": {
            "text/plain": [
              "1"
            ]
          },
          "metadata": {},
          "execution_count": 388
        }
      ]
    },
    {
      "cell_type": "markdown",
      "source": [
        "5) Typ elementów macierzy/wektora (int64, float32, complex, bool, object, string, unicode)\n",
        "\n"
      ],
      "metadata": {
        "id": "jWSI1oNjJkhN"
      }
    },
    {
      "cell_type": "code",
      "source": [
        "macierz7.dtype"
      ],
      "metadata": {
        "colab": {
          "base_uri": "https://localhost:8080/"
        },
        "id": "_QcgY5oiIy5x",
        "outputId": "ab002098-911b-40d7-dc16-85546ec953fd"
      },
      "execution_count": 389,
      "outputs": [
        {
          "output_type": "execute_result",
          "data": {
            "text/plain": [
              "dtype('int64')"
            ]
          },
          "metadata": {},
          "execution_count": 389
        }
      ]
    },
    {
      "cell_type": "code",
      "source": [
        "wektor3.dtype"
      ],
      "metadata": {
        "colab": {
          "base_uri": "https://localhost:8080/"
        },
        "id": "LKeLHSmaJTsz",
        "outputId": "3a01b723-ef57-41d1-a7d8-5777df61c831"
      },
      "execution_count": 390,
      "outputs": [
        {
          "output_type": "execute_result",
          "data": {
            "text/plain": [
              "dtype('int64')"
            ]
          },
          "metadata": {},
          "execution_count": 390
        }
      ]
    },
    {
      "cell_type": "markdown",
      "source": [
        "6) Zmiana typu elementów"
      ],
      "metadata": {
        "id": "E5Py3H-dKYEq"
      }
    },
    {
      "cell_type": "code",
      "source": [
        "macierz7"
      ],
      "metadata": {
        "colab": {
          "base_uri": "https://localhost:8080/"
        },
        "id": "R6FYnLQyK1KN",
        "outputId": "9eb81671-b23e-4fe8-bb10-e6e94b8d6029"
      },
      "execution_count": 391,
      "outputs": [
        {
          "output_type": "execute_result",
          "data": {
            "text/plain": [
              "array([[7, 7, 7, 7],\n",
              "       [7, 7, 7, 7],\n",
              "       [7, 7, 7, 7],\n",
              "       [7, 7, 7, 7],\n",
              "       [7, 7, 7, 7]])"
            ]
          },
          "metadata": {},
          "execution_count": 391
        }
      ]
    },
    {
      "cell_type": "code",
      "source": [
        "macierz7.dtype"
      ],
      "metadata": {
        "colab": {
          "base_uri": "https://localhost:8080/"
        },
        "id": "9DDPvu-gK3bN",
        "outputId": "77169696-5b08-4c5c-8287-4a69f38419bc"
      },
      "execution_count": 392,
      "outputs": [
        {
          "output_type": "execute_result",
          "data": {
            "text/plain": [
              "dtype('int64')"
            ]
          },
          "metadata": {},
          "execution_count": 392
        }
      ]
    },
    {
      "cell_type": "code",
      "source": [
        "macierz7.astype(str)                                                            # zamiana elementów na 'str'"
      ],
      "metadata": {
        "colab": {
          "base_uri": "https://localhost:8080/"
        },
        "id": "oH__z2sDJWhz",
        "outputId": "2b5aaaad-8e0a-41d0-b0fa-b294a99fd49f"
      },
      "execution_count": 393,
      "outputs": [
        {
          "output_type": "execute_result",
          "data": {
            "text/plain": [
              "array([['7', '7', '7', '7'],\n",
              "       ['7', '7', '7', '7'],\n",
              "       ['7', '7', '7', '7'],\n",
              "       ['7', '7', '7', '7'],\n",
              "       ['7', '7', '7', '7']], dtype='<U21')"
            ]
          },
          "metadata": {},
          "execution_count": 393
        }
      ]
    },
    {
      "cell_type": "markdown",
      "source": [
        "7) Sprawdzenie czy aarray zawiera element NaN"
      ],
      "metadata": {
        "id": "LBqvokB7Dg1K"
      }
    },
    {
      "cell_type": "code",
      "source": [
        "macierz12 = np.array([[1, 2, 4, np.nan],\n",
        "                     [3, np.nan, 6, 7]])\n",
        "macierz12"
      ],
      "metadata": {
        "colab": {
          "base_uri": "https://localhost:8080/"
        },
        "id": "akmrAdcGDgqj",
        "outputId": "56400ffb-bb7c-4ca3-ccbd-ff6acd038ce9"
      },
      "execution_count": 394,
      "outputs": [
        {
          "output_type": "execute_result",
          "data": {
            "text/plain": [
              "array([[ 1.,  2.,  4., nan],\n",
              "       [ 3., nan,  6.,  7.]])"
            ]
          },
          "metadata": {},
          "execution_count": 394
        }
      ]
    },
    {
      "cell_type": "code",
      "source": [
        "np.isnan(macierz12)"
      ],
      "metadata": {
        "colab": {
          "base_uri": "https://localhost:8080/"
        },
        "id": "B2Skcn5LDgnt",
        "outputId": "02d7117a-34e0-42ee-a0c2-cfbf1c0b1c96"
      },
      "execution_count": 395,
      "outputs": [
        {
          "output_type": "execute_result",
          "data": {
            "text/plain": [
              "array([[False, False, False,  True],\n",
              "       [False,  True, False, False]])"
            ]
          },
          "metadata": {},
          "execution_count": 395
        }
      ]
    },
    {
      "cell_type": "markdown",
      "source": [
        "8) Operacja logiczna 'and'"
      ],
      "metadata": {
        "id": "BRjoXdCmDgk3"
      }
    },
    {
      "cell_type": "code",
      "source": [
        "x = np.arange(5)\n",
        "x"
      ],
      "metadata": {
        "colab": {
          "base_uri": "https://localhost:8080/"
        },
        "id": "84Yi62jnDgiP",
        "outputId": "d0821c0b-40ad-489c-c4da-3f8678fa5ceb"
      },
      "execution_count": 396,
      "outputs": [
        {
          "output_type": "execute_result",
          "data": {
            "text/plain": [
              "array([0, 1, 2, 3, 4])"
            ]
          },
          "metadata": {},
          "execution_count": 396
        }
      ]
    },
    {
      "cell_type": "code",
      "source": [
        "np.logical_and(x > 1, x < 4)"
      ],
      "metadata": {
        "colab": {
          "base_uri": "https://localhost:8080/"
        },
        "id": "N2LOPPbuDgfW",
        "outputId": "6628d39f-1484-441b-db5b-68a598d52f17"
      },
      "execution_count": 397,
      "outputs": [
        {
          "output_type": "execute_result",
          "data": {
            "text/plain": [
              "array([False, False,  True,  True, False])"
            ]
          },
          "metadata": {},
          "execution_count": 397
        }
      ]
    },
    {
      "cell_type": "markdown",
      "source": [
        "9) Operacja logiczna 'lub'"
      ],
      "metadata": {
        "id": "6ZnLPJcUDgcP"
      }
    },
    {
      "cell_type": "code",
      "source": [
        "x = np.arange(5)\n",
        "x"
      ],
      "metadata": {
        "colab": {
          "base_uri": "https://localhost:8080/"
        },
        "id": "PfRXZMqlDgVw",
        "outputId": "bed23acf-a583-4bbc-fbf5-d7a483404aee"
      },
      "execution_count": 398,
      "outputs": [
        {
          "output_type": "execute_result",
          "data": {
            "text/plain": [
              "array([0, 1, 2, 3, 4])"
            ]
          },
          "metadata": {},
          "execution_count": 398
        }
      ]
    },
    {
      "cell_type": "code",
      "source": [
        "np.logical_or(x > 1, x < 4)"
      ],
      "metadata": {
        "colab": {
          "base_uri": "https://localhost:8080/"
        },
        "id": "S3eMt-eRDgSJ",
        "outputId": "305f9c85-bea0-4885-9f0d-f37613120a13"
      },
      "execution_count": 399,
      "outputs": [
        {
          "output_type": "execute_result",
          "data": {
            "text/plain": [
              "array([ True,  True,  True,  True,  True])"
            ]
          },
          "metadata": {},
          "execution_count": 399
        }
      ]
    },
    {
      "cell_type": "markdown",
      "source": [
        "10) Zaprzeczenie logiczne"
      ],
      "metadata": {
        "id": "DPVaVvNzG4i4"
      }
    },
    {
      "cell_type": "code",
      "source": [
        "x = np.arange(5)\n",
        "x"
      ],
      "metadata": {
        "colab": {
          "base_uri": "https://localhost:8080/"
        },
        "id": "q6v_jTX3G4fq",
        "outputId": "75463a25-dee7-4ac2-dc2c-4ed1ed7f06b6"
      },
      "execution_count": 400,
      "outputs": [
        {
          "output_type": "execute_result",
          "data": {
            "text/plain": [
              "array([0, 1, 2, 3, 4])"
            ]
          },
          "metadata": {},
          "execution_count": 400
        }
      ]
    },
    {
      "cell_type": "code",
      "source": [
        "np.logical_not(x < 3)                                                           # jeśli warunek jest True, to metoda zwraca nam False i odwrotnie"
      ],
      "metadata": {
        "colab": {
          "base_uri": "https://localhost:8080/"
        },
        "id": "C7cA5LJVG4dI",
        "outputId": "0bbd2185-354e-4e59-b1c8-ded900e83ef9"
      },
      "execution_count": 401,
      "outputs": [
        {
          "output_type": "execute_result",
          "data": {
            "text/plain": [
              "array([False, False, False,  True,  True])"
            ]
          },
          "metadata": {},
          "execution_count": 401
        }
      ]
    },
    {
      "cell_type": "markdown",
      "source": [
        "11) Operacja logiczna 'wieksze'"
      ],
      "metadata": {
        "id": "pK_hK119G4aO"
      }
    },
    {
      "cell_type": "code",
      "source": [
        "macierz13 = np.random.random((3,3))            \n",
        "macierz13"
      ],
      "metadata": {
        "colab": {
          "base_uri": "https://localhost:8080/"
        },
        "id": "X3wLaJgvG3zZ",
        "outputId": "b3fda762-0807-4031-b3e5-1df801d7612e"
      },
      "execution_count": 402,
      "outputs": [
        {
          "output_type": "execute_result",
          "data": {
            "text/plain": [
              "array([[0.98284497, 0.11144726, 0.60218667],\n",
              "       [0.88458041, 0.41930201, 0.53887288],\n",
              "       [0.27278745, 0.4692638 , 0.46308456]])"
            ]
          },
          "metadata": {},
          "execution_count": 402
        }
      ]
    },
    {
      "cell_type": "code",
      "source": [
        "macierz14 = np.random.random((3,3))            \n",
        "macierz14"
      ],
      "metadata": {
        "colab": {
          "base_uri": "https://localhost:8080/"
        },
        "id": "3pbos06pJLb5",
        "outputId": "732daa47-28ff-465d-e040-80a95708abfe"
      },
      "execution_count": 403,
      "outputs": [
        {
          "output_type": "execute_result",
          "data": {
            "text/plain": [
              "array([[0.93830768, 0.44237549, 0.66145077],\n",
              "       [0.40772167, 0.89078838, 0.82076795],\n",
              "       [0.43863284, 0.62568708, 0.83384832]])"
            ]
          },
          "metadata": {},
          "execution_count": 403
        }
      ]
    },
    {
      "cell_type": "code",
      "source": [
        "macierz13 > macierz14"
      ],
      "metadata": {
        "colab": {
          "base_uri": "https://localhost:8080/"
        },
        "id": "YkxqkWAtJLXT",
        "outputId": "3079c57f-d3cf-4608-afc7-bd0f33bd7521"
      },
      "execution_count": 404,
      "outputs": [
        {
          "output_type": "execute_result",
          "data": {
            "text/plain": [
              "array([[ True, False, False],\n",
              "       [ True, False, False],\n",
              "       [False, False, False]])"
            ]
          },
          "metadata": {},
          "execution_count": 404
        }
      ]
    },
    {
      "cell_type": "markdown",
      "source": [
        "      lub"
      ],
      "metadata": {
        "id": "20yJ29YbJLUa"
      }
    },
    {
      "cell_type": "code",
      "source": [
        "np.greater(macierz13, macierz14)"
      ],
      "metadata": {
        "colab": {
          "base_uri": "https://localhost:8080/"
        },
        "id": "rbEYl4swJLRc",
        "outputId": "d08c2fd5-d2cf-4387-e067-554c643933f6"
      },
      "execution_count": 405,
      "outputs": [
        {
          "output_type": "execute_result",
          "data": {
            "text/plain": [
              "array([[ True, False, False],\n",
              "       [ True, False, False],\n",
              "       [False, False, False]])"
            ]
          },
          "metadata": {},
          "execution_count": 405
        }
      ]
    },
    {
      "cell_type": "markdown",
      "source": [
        "12) Operacja logiczna 'wieksze i rowne'"
      ],
      "metadata": {
        "id": "VOh8KVzYJLO6"
      }
    },
    {
      "cell_type": "code",
      "source": [
        "macierz13 >= macierz14"
      ],
      "metadata": {
        "colab": {
          "base_uri": "https://localhost:8080/"
        },
        "id": "q7Ic5hrtJLKI",
        "outputId": "2efd7cfe-da52-45d2-c9fe-2c06027904fc"
      },
      "execution_count": 406,
      "outputs": [
        {
          "output_type": "execute_result",
          "data": {
            "text/plain": [
              "array([[ True, False, False],\n",
              "       [ True, False, False],\n",
              "       [False, False, False]])"
            ]
          },
          "metadata": {},
          "execution_count": 406
        }
      ]
    },
    {
      "cell_type": "markdown",
      "source": [
        "      lub"
      ],
      "metadata": {
        "id": "lyZ7eMK9JLHg"
      }
    },
    {
      "cell_type": "code",
      "source": [
        "np.greater_equal(macierz13, macierz14)"
      ],
      "metadata": {
        "colab": {
          "base_uri": "https://localhost:8080/"
        },
        "id": "9NlWQsyVKFUY",
        "outputId": "831a6a65-180a-43b5-e0fe-5a1a8ca12960"
      },
      "execution_count": 407,
      "outputs": [
        {
          "output_type": "execute_result",
          "data": {
            "text/plain": [
              "array([[ True, False, False],\n",
              "       [ True, False, False],\n",
              "       [False, False, False]])"
            ]
          },
          "metadata": {},
          "execution_count": 407
        }
      ]
    },
    {
      "cell_type": "markdown",
      "source": [
        "13) Operacja logiczna 'mniejsze'"
      ],
      "metadata": {
        "id": "ReMOE9QMKFRy"
      }
    },
    {
      "cell_type": "code",
      "source": [
        "macierz13 < macierz14"
      ],
      "metadata": {
        "colab": {
          "base_uri": "https://localhost:8080/"
        },
        "id": "VbcQHyErKFPG",
        "outputId": "3a0f7507-1bb5-49c9-be7d-5fd542b49f0a"
      },
      "execution_count": 408,
      "outputs": [
        {
          "output_type": "execute_result",
          "data": {
            "text/plain": [
              "array([[False,  True,  True],\n",
              "       [False,  True,  True],\n",
              "       [ True,  True,  True]])"
            ]
          },
          "metadata": {},
          "execution_count": 408
        }
      ]
    },
    {
      "cell_type": "markdown",
      "source": [
        "      lub"
      ],
      "metadata": {
        "id": "NuAmnwEGKFMU"
      }
    },
    {
      "cell_type": "code",
      "source": [
        "np.less(macierz13, macierz14)"
      ],
      "metadata": {
        "colab": {
          "base_uri": "https://localhost:8080/"
        },
        "id": "JjNMTKXGKFIs",
        "outputId": "7cae6afb-ceee-4f59-f580-81c11aad964d"
      },
      "execution_count": 409,
      "outputs": [
        {
          "output_type": "execute_result",
          "data": {
            "text/plain": [
              "array([[False,  True,  True],\n",
              "       [False,  True,  True],\n",
              "       [ True,  True,  True]])"
            ]
          },
          "metadata": {},
          "execution_count": 409
        }
      ]
    },
    {
      "cell_type": "markdown",
      "source": [
        "14) Operacja logiczna 'mniejsze i rowne'"
      ],
      "metadata": {
        "id": "ffn-AOGUKkky"
      }
    },
    {
      "cell_type": "code",
      "source": [
        "macierz13 <= macierz14"
      ],
      "metadata": {
        "colab": {
          "base_uri": "https://localhost:8080/"
        },
        "id": "yPGJdtASKkiX",
        "outputId": "47af45dd-9173-4f5b-b08d-6f48cc2adcd6"
      },
      "execution_count": 410,
      "outputs": [
        {
          "output_type": "execute_result",
          "data": {
            "text/plain": [
              "array([[False,  True,  True],\n",
              "       [False,  True,  True],\n",
              "       [ True,  True,  True]])"
            ]
          },
          "metadata": {},
          "execution_count": 410
        }
      ]
    },
    {
      "cell_type": "markdown",
      "source": [
        "      lub"
      ],
      "metadata": {
        "id": "pxONN12BKkfl"
      }
    },
    {
      "cell_type": "code",
      "source": [
        "np.less_equal(macierz13, macierz14)"
      ],
      "metadata": {
        "colab": {
          "base_uri": "https://localhost:8080/"
        },
        "id": "HXUmw4cmKkcq",
        "outputId": "41b8e52a-b9e2-4fa3-c68d-a17acfbfb75e"
      },
      "execution_count": 411,
      "outputs": [
        {
          "output_type": "execute_result",
          "data": {
            "text/plain": [
              "array([[False,  True,  True],\n",
              "       [False,  True,  True],\n",
              "       [ True,  True,  True]])"
            ]
          },
          "metadata": {},
          "execution_count": 411
        }
      ]
    },
    {
      "cell_type": "markdown",
      "source": [
        "15) Operacja logiczna 'rowne'"
      ],
      "metadata": {
        "id": "3InhLQhOKkaJ"
      }
    },
    {
      "cell_type": "code",
      "source": [
        "macierz15 = np.array([[1, 2, 3, 4],\n",
        "                      [3, 4, 5, 6]])\n",
        "macierz15"
      ],
      "metadata": {
        "colab": {
          "base_uri": "https://localhost:8080/"
        },
        "id": "fjqGA0rjKkXc",
        "outputId": "6ce5b1f5-4545-44a2-9b5f-91768906bc0f"
      },
      "execution_count": 412,
      "outputs": [
        {
          "output_type": "execute_result",
          "data": {
            "text/plain": [
              "array([[1, 2, 3, 4],\n",
              "       [3, 4, 5, 6]])"
            ]
          },
          "metadata": {},
          "execution_count": 412
        }
      ]
    },
    {
      "cell_type": "code",
      "source": [
        "macierz16 = np.array([[1, 3, 3, 5],\n",
        "                      [3, 5, 5, 7]])\n",
        "macierz16"
      ],
      "metadata": {
        "colab": {
          "base_uri": "https://localhost:8080/"
        },
        "id": "39-EiQ6fKkUq",
        "outputId": "faafa185-7551-4883-843b-3549f1919d06"
      },
      "execution_count": 413,
      "outputs": [
        {
          "output_type": "execute_result",
          "data": {
            "text/plain": [
              "array([[1, 3, 3, 5],\n",
              "       [3, 5, 5, 7]])"
            ]
          },
          "metadata": {},
          "execution_count": 413
        }
      ]
    },
    {
      "cell_type": "code",
      "source": [
        "macierz15 == macierz16"
      ],
      "metadata": {
        "colab": {
          "base_uri": "https://localhost:8080/"
        },
        "id": "49730_hvKFFa",
        "outputId": "4adc40af-f8d4-418d-9169-7987afa90442"
      },
      "execution_count": 414,
      "outputs": [
        {
          "output_type": "execute_result",
          "data": {
            "text/plain": [
              "array([[ True, False,  True, False],\n",
              "       [ True, False,  True, False]])"
            ]
          },
          "metadata": {},
          "execution_count": 414
        }
      ]
    },
    {
      "cell_type": "markdown",
      "source": [
        "      lub"
      ],
      "metadata": {
        "id": "hZH8zcHLKFCA"
      }
    },
    {
      "cell_type": "code",
      "source": [
        "np.equal(macierz15, macierz16)"
      ],
      "metadata": {
        "colab": {
          "base_uri": "https://localhost:8080/"
        },
        "id": "Hq2UwqhILhcO",
        "outputId": "028f44c3-2f57-448a-d9fa-4cde01f79c08"
      },
      "execution_count": 415,
      "outputs": [
        {
          "output_type": "execute_result",
          "data": {
            "text/plain": [
              "array([[ True, False,  True, False],\n",
              "       [ True, False,  True, False]])"
            ]
          },
          "metadata": {},
          "execution_count": 415
        }
      ]
    },
    {
      "cell_type": "markdown",
      "source": [
        "16) Operacja logiczna 'nierówna się'"
      ],
      "metadata": {
        "id": "ac0FLX_tLvR-"
      }
    },
    {
      "cell_type": "code",
      "source": [
        "macierz15"
      ],
      "metadata": {
        "colab": {
          "base_uri": "https://localhost:8080/"
        },
        "id": "Cq7q7xlAL-lU",
        "outputId": "cbb0f3ac-a1db-40ee-dcb3-8a92255cea71"
      },
      "execution_count": 416,
      "outputs": [
        {
          "output_type": "execute_result",
          "data": {
            "text/plain": [
              "array([[1, 2, 3, 4],\n",
              "       [3, 4, 5, 6]])"
            ]
          },
          "metadata": {},
          "execution_count": 416
        }
      ]
    },
    {
      "cell_type": "code",
      "source": [
        "macierz16"
      ],
      "metadata": {
        "colab": {
          "base_uri": "https://localhost:8080/"
        },
        "id": "gTXC9GYpLvN9",
        "outputId": "429c2f58-c4a5-4754-ce18-a87f5a4f56c7"
      },
      "execution_count": 417,
      "outputs": [
        {
          "output_type": "execute_result",
          "data": {
            "text/plain": [
              "array([[1, 3, 3, 5],\n",
              "       [3, 5, 5, 7]])"
            ]
          },
          "metadata": {},
          "execution_count": 417
        }
      ]
    },
    {
      "cell_type": "code",
      "source": [
        "macierz15 != macierz16"
      ],
      "metadata": {
        "colab": {
          "base_uri": "https://localhost:8080/"
        },
        "id": "_Ea2KP5_LvLW",
        "outputId": "2d27149f-d291-4801-89e5-236be624772b"
      },
      "execution_count": 418,
      "outputs": [
        {
          "output_type": "execute_result",
          "data": {
            "text/plain": [
              "array([[False,  True, False,  True],\n",
              "       [False,  True, False,  True]])"
            ]
          },
          "metadata": {},
          "execution_count": 418
        }
      ]
    },
    {
      "cell_type": "markdown",
      "source": [
        "      lub"
      ],
      "metadata": {
        "id": "LUhdpEw2LvIf"
      }
    },
    {
      "cell_type": "code",
      "source": [
        "np.not_equal(macierz15, macierz16)"
      ],
      "metadata": {
        "colab": {
          "base_uri": "https://localhost:8080/"
        },
        "id": "VGmVvlfnLvFZ",
        "outputId": "7400deef-c5dd-4477-fd2c-891f77f59271"
      },
      "execution_count": 419,
      "outputs": [
        {
          "output_type": "execute_result",
          "data": {
            "text/plain": [
              "array([[False,  True, False,  True],\n",
              "       [False,  True, False,  True]])"
            ]
          },
          "metadata": {},
          "execution_count": 419
        }
      ]
    },
    {
      "cell_type": "markdown",
      "source": [
        "17) Stworzenie maski na macierzy"
      ],
      "metadata": {
        "id": "F2Qy_mQcNxVa"
      }
    },
    {
      "cell_type": "code",
      "source": [
        "macierz16"
      ],
      "metadata": {
        "colab": {
          "base_uri": "https://localhost:8080/"
        },
        "id": "vmUyk9ktN34T",
        "outputId": "40419d85-8ac8-4ae2-ab43-395dd7fa551f"
      },
      "execution_count": 420,
      "outputs": [
        {
          "output_type": "execute_result",
          "data": {
            "text/plain": [
              "array([[1, 3, 3, 5],\n",
              "       [3, 5, 5, 7]])"
            ]
          },
          "metadata": {},
          "execution_count": 420
        }
      ]
    },
    {
      "cell_type": "code",
      "source": [
        "np.ma.array(macierz16, mask = [[False,  True, False,  True],\n",
        "                              [False,  True, False,  True]])                    # tam gdzie jest True w wyniku obliczeń wartość będzie niewidoczna"
      ],
      "metadata": {
        "colab": {
          "base_uri": "https://localhost:8080/"
        },
        "id": "JZIvTgyBLtmK",
        "outputId": "7c515cae-d1bc-4bcc-fdca-01bbff17d5c2"
      },
      "execution_count": 421,
      "outputs": [
        {
          "output_type": "execute_result",
          "data": {
            "text/plain": [
              "masked_array(\n",
              "  data=[[1, --, 3, --],\n",
              "        [3, --, 5, --]],\n",
              "  mask=[[False,  True, False,  True],\n",
              "        [False,  True, False,  True]],\n",
              "  fill_value=999999)"
            ]
          },
          "metadata": {},
          "execution_count": 421
        }
      ]
    },
    {
      "cell_type": "markdown",
      "source": [
        "18) Kopiowanie elementów jednego array i zastepowanie w drugim arrayu"
      ],
      "metadata": {
        "id": "oIOgauObMMRW"
      }
    },
    {
      "cell_type": "code",
      "source": [
        "wektor = np.array([1, 2, 3, 4, 5, 6])\n",
        "wektor"
      ],
      "metadata": {
        "colab": {
          "base_uri": "https://localhost:8080/"
        },
        "id": "c776h4czMMN2",
        "outputId": "257a86f2-5842-4fce-9f5e-b8b51df791b8"
      },
      "execution_count": 422,
      "outputs": [
        {
          "output_type": "execute_result",
          "data": {
            "text/plain": [
              "array([1, 2, 3, 4, 5, 6])"
            ]
          },
          "metadata": {},
          "execution_count": 422
        }
      ]
    },
    {
      "cell_type": "code",
      "source": [
        "wektor1 = np.array([7, 8, 9, 10, 11, 12])\n",
        "wektor1"
      ],
      "metadata": {
        "colab": {
          "base_uri": "https://localhost:8080/"
        },
        "id": "i3A6WyNnMMKj",
        "outputId": "b18aa49a-9ca9-4197-8476-14122fcd0405"
      },
      "execution_count": 423,
      "outputs": [
        {
          "output_type": "execute_result",
          "data": {
            "text/plain": [
              "array([ 7,  8,  9, 10, 11, 12])"
            ]
          },
          "metadata": {},
          "execution_count": 423
        }
      ]
    },
    {
      "cell_type": "code",
      "source": [
        "np.copyto(wektor, wektor1)\n",
        "wektor                                                                          # skopowiano wartości z wektor1 i zamieniono istniejace elementy w 'wektor' na te skopiowane"
      ],
      "metadata": {
        "colab": {
          "base_uri": "https://localhost:8080/"
        },
        "id": "js7BZNpKMMHh",
        "outputId": "e19a9f0b-3d26-407b-e871-3449c7980a8f"
      },
      "execution_count": 424,
      "outputs": [
        {
          "output_type": "execute_result",
          "data": {
            "text/plain": [
              "array([ 7,  8,  9, 10, 11, 12])"
            ]
          },
          "metadata": {},
          "execution_count": 424
        }
      ]
    },
    {
      "cell_type": "markdown",
      "source": [
        "19) Zmiana wymiarów arrayu"
      ],
      "metadata": {
        "id": "s143TKiuMMFA"
      }
    },
    {
      "cell_type": "code",
      "source": [
        "wektor1"
      ],
      "metadata": {
        "colab": {
          "base_uri": "https://localhost:8080/"
        },
        "id": "AwAW6VpmMMCC",
        "outputId": "9ffef2d0-4985-4b3f-d18b-109a84898b17"
      },
      "execution_count": 425,
      "outputs": [
        {
          "output_type": "execute_result",
          "data": {
            "text/plain": [
              "array([ 7,  8,  9, 10, 11, 12])"
            ]
          },
          "metadata": {},
          "execution_count": 425
        }
      ]
    },
    {
      "cell_type": "code",
      "source": [
        "np.reshape(wektor1, (2,3))                                                      # z wymiarów 1x6 zrobiono array 2x3"
      ],
      "metadata": {
        "colab": {
          "base_uri": "https://localhost:8080/"
        },
        "id": "mlRIAnqaML-s",
        "outputId": "af397fbb-d067-49c5-9854-1f5bc4cbd5cc"
      },
      "execution_count": 426,
      "outputs": [
        {
          "output_type": "execute_result",
          "data": {
            "text/plain": [
              "array([[ 7,  8,  9],\n",
              "       [10, 11, 12]])"
            ]
          },
          "metadata": {},
          "execution_count": 426
        }
      ]
    },
    {
      "cell_type": "markdown",
      "source": [
        "20) Warunek 'where'"
      ],
      "metadata": {
        "id": "mVHJbIXCV85S"
      }
    },
    {
      "cell_type": "code",
      "source": [
        "my_matrix = np.array([23, 45, 112, 150, 43, 254, 95, 8])\n",
        "my_matrix[np.where(my_matrix > 100)]                                            # fajny zapis, w tym wypadku otrzymamy wartosci wieksze od 10"
      ],
      "metadata": {
        "colab": {
          "base_uri": "https://localhost:8080/"
        },
        "id": "xcgBw5q8V82Q",
        "outputId": "bc4f96a9-c9b7-4d50-cc28-1b2b4e77d941"
      },
      "execution_count": 427,
      "outputs": [
        {
          "output_type": "execute_result",
          "data": {
            "text/plain": [
              "array([112, 150, 254])"
            ]
          },
          "metadata": {},
          "execution_count": 427
        }
      ]
    },
    {
      "cell_type": "markdown",
      "source": [
        "21) Odwracanie array 'flip'"
      ],
      "metadata": {
        "id": "MDhIWc-E6dRt"
      }
    },
    {
      "cell_type": "code",
      "source": [
        "wektor"
      ],
      "metadata": {
        "colab": {
          "base_uri": "https://localhost:8080/"
        },
        "id": "gOdxRt9Z6dNo",
        "outputId": "668f5a80-cfb6-4950-c366-18f5602221fd"
      },
      "execution_count": 428,
      "outputs": [
        {
          "output_type": "execute_result",
          "data": {
            "text/plain": [
              "array([ 7,  8,  9, 10, 11, 12])"
            ]
          },
          "metadata": {},
          "execution_count": 428
        }
      ]
    },
    {
      "cell_type": "code",
      "source": [
        "np.flip(wektor)                                                                 # lub wektor[::-1]"
      ],
      "metadata": {
        "colab": {
          "base_uri": "https://localhost:8080/"
        },
        "id": "YI8K46bl6wGd",
        "outputId": "b319b106-ab4f-4953-a035-4f61a4c54a1b"
      },
      "execution_count": 429,
      "outputs": [
        {
          "output_type": "execute_result",
          "data": {
            "text/plain": [
              "array([12, 11, 10,  9,  8,  7])"
            ]
          },
          "metadata": {},
          "execution_count": 429
        }
      ]
    },
    {
      "cell_type": "markdown",
      "source": [
        "22) Wartości unikalne"
      ],
      "metadata": {
        "id": "GcJW4bV160zI"
      }
    },
    {
      "cell_type": "code",
      "source": [
        "macierz4"
      ],
      "metadata": {
        "colab": {
          "base_uri": "https://localhost:8080/"
        },
        "id": "rFONOcK860v2",
        "outputId": "4dfddbd2-37b3-4346-e09e-ddb13002e0a1"
      },
      "execution_count": 430,
      "outputs": [
        {
          "output_type": "execute_result",
          "data": {
            "text/plain": [
              "array([[ 0.,  5., 10.],\n",
              "       [10., 15., 20.]])"
            ]
          },
          "metadata": {},
          "execution_count": 430
        }
      ]
    },
    {
      "cell_type": "code",
      "source": [
        "np.unique(macierz4)"
      ],
      "metadata": {
        "colab": {
          "base_uri": "https://localhost:8080/"
        },
        "id": "t8ox2Y2460sY",
        "outputId": "2a190bf2-8112-4eb5-f9a4-dcb3507261ed"
      },
      "execution_count": 431,
      "outputs": [
        {
          "output_type": "execute_result",
          "data": {
            "text/plain": [
              "array([ 0.,  5., 10., 15., 20.])"
            ]
          },
          "metadata": {},
          "execution_count": 431
        }
      ]
    },
    {
      "cell_type": "markdown",
      "source": [
        "23) Spłaszczanie macierzy '.flatten', '.ravel', '.reshape(-1)'"
      ],
      "metadata": {
        "id": "E-z_nMt6CdUc"
      }
    },
    {
      "cell_type": "code",
      "source": [
        "macierz2"
      ],
      "metadata": {
        "colab": {
          "base_uri": "https://localhost:8080/"
        },
        "id": "j-nwWaeTCgIn",
        "outputId": "a0306611-c1f4-47e9-ced5-5cad7aad1999"
      },
      "execution_count": 432,
      "outputs": [
        {
          "output_type": "execute_result",
          "data": {
            "text/plain": [
              "array([[6, 6, 8],\n",
              "       [9, 6, 6]])"
            ]
          },
          "metadata": {},
          "execution_count": 432
        }
      ]
    },
    {
      "cell_type": "code",
      "source": [
        "macierz2.flatten()"
      ],
      "metadata": {
        "colab": {
          "base_uri": "https://localhost:8080/"
        },
        "id": "F1F5BoOHClT7",
        "outputId": "9f80b278-5fb1-4708-bacd-981c94aed407"
      },
      "execution_count": 433,
      "outputs": [
        {
          "output_type": "execute_result",
          "data": {
            "text/plain": [
              "array([6, 6, 8, 9, 6, 6])"
            ]
          },
          "metadata": {},
          "execution_count": 433
        }
      ]
    },
    {
      "cell_type": "markdown",
      "source": [
        "      lub"
      ],
      "metadata": {
        "id": "Garj7I4mDK9A"
      }
    },
    {
      "cell_type": "code",
      "source": [
        "macierz2.ravel()"
      ],
      "metadata": {
        "colab": {
          "base_uri": "https://localhost:8080/"
        },
        "id": "J3D9s-n4C_iW",
        "outputId": "11416cae-45a8-4f8e-cd7b-6661eae3d3c0"
      },
      "execution_count": 434,
      "outputs": [
        {
          "output_type": "execute_result",
          "data": {
            "text/plain": [
              "array([6, 6, 8, 9, 6, 6])"
            ]
          },
          "metadata": {},
          "execution_count": 434
        }
      ]
    },
    {
      "cell_type": "markdown",
      "source": [
        "      lub"
      ],
      "metadata": {
        "id": "cvuZoat_DmfI"
      }
    },
    {
      "cell_type": "code",
      "source": [
        "macierz2.reshape(-1)"
      ],
      "metadata": {
        "colab": {
          "base_uri": "https://localhost:8080/"
        },
        "id": "Z3jOOSHODnoS",
        "outputId": "1826c192-f449-4839-9f05-15f133fb657e"
      },
      "execution_count": 435,
      "outputs": [
        {
          "output_type": "execute_result",
          "data": {
            "text/plain": [
              "array([6, 6, 8, 9, 6, 6])"
            ]
          },
          "metadata": {},
          "execution_count": 435
        }
      ]
    },
    {
      "cell_type": "markdown",
      "source": [
        "24) Macierz transponowana "
      ],
      "metadata": {
        "id": "JXAMdugfGvD7"
      }
    },
    {
      "cell_type": "code",
      "source": [
        "macierz2                                                                        # macierz 2x3"
      ],
      "metadata": {
        "colab": {
          "base_uri": "https://localhost:8080/"
        },
        "id": "S8s6mjAxG0ul",
        "outputId": "7e72e2b5-fe64-4736-acb0-826d73b8584a"
      },
      "execution_count": 436,
      "outputs": [
        {
          "output_type": "execute_result",
          "data": {
            "text/plain": [
              "array([[6, 6, 8],\n",
              "       [9, 6, 6]])"
            ]
          },
          "metadata": {},
          "execution_count": 436
        }
      ]
    },
    {
      "cell_type": "code",
      "source": [
        "macierz2.T                                                                      # macierz 3x2"
      ],
      "metadata": {
        "colab": {
          "base_uri": "https://localhost:8080/"
        },
        "id": "UnPusaBkG2yx",
        "outputId": "1bac01b4-ded6-4e56-c2fd-3c4e6579cda5"
      },
      "execution_count": 437,
      "outputs": [
        {
          "output_type": "execute_result",
          "data": {
            "text/plain": [
              "array([[6, 9],\n",
              "       [6, 6],\n",
              "       [8, 6]])"
            ]
          },
          "metadata": {},
          "execution_count": 437
        }
      ]
    },
    {
      "cell_type": "markdown",
      "source": [
        "25) Tworzenie array z takimi samymi wierszami na podstawie array jednowymiarowego "
      ],
      "metadata": {
        "id": "vPmq5savH40N"
      }
    },
    {
      "cell_type": "code",
      "source": [
        "x = np.array([1, 2, 3])\n",
        "np.broadcast_to(x, (4, 3))"
      ],
      "metadata": {
        "colab": {
          "base_uri": "https://localhost:8080/"
        },
        "id": "gWAvnvvaHv4L",
        "outputId": "8b307b2a-9d46-4b95-fa2a-59802c014846"
      },
      "execution_count": 438,
      "outputs": [
        {
          "output_type": "execute_result",
          "data": {
            "text/plain": [
              "array([[1, 2, 3],\n",
              "       [1, 2, 3],\n",
              "       [1, 2, 3],\n",
              "       [1, 2, 3]])"
            ]
          },
          "metadata": {},
          "execution_count": 438
        }
      ]
    },
    {
      "cell_type": "markdown",
      "source": [
        "26) Zamiana typu wartosci na 'float'"
      ],
      "metadata": {
        "id": "3YljrcVuJata"
      }
    },
    {
      "cell_type": "code",
      "source": [
        "macierz2"
      ],
      "metadata": {
        "colab": {
          "base_uri": "https://localhost:8080/"
        },
        "id": "6wlm6inhJXM3",
        "outputId": "c4283db0-ca95-4480-a5ae-9da93ee9beba"
      },
      "execution_count": 439,
      "outputs": [
        {
          "output_type": "execute_result",
          "data": {
            "text/plain": [
              "array([[6, 6, 8],\n",
              "       [9, 6, 6]])"
            ]
          },
          "metadata": {},
          "execution_count": 439
        }
      ]
    },
    {
      "cell_type": "code",
      "source": [
        "np.asfarray(macierz2)"
      ],
      "metadata": {
        "colab": {
          "base_uri": "https://localhost:8080/"
        },
        "id": "GS6RakE2JQnO",
        "outputId": "6e2fb634-996a-4364-eb94-f86ab0468f11"
      },
      "execution_count": 440,
      "outputs": [
        {
          "output_type": "execute_result",
          "data": {
            "text/plain": [
              "array([[6., 6., 8.],\n",
              "       [9., 6., 6.]])"
            ]
          },
          "metadata": {},
          "execution_count": 440
        }
      ]
    },
    {
      "cell_type": "markdown",
      "source": [
        "27) Scalanie dwóch arrayów w jeden array - 'np.concatenate'\n",
        "\n",
        "\n",
        "\n"
      ],
      "metadata": {
        "id": "vrnZpiEGn0Zm"
      }
    },
    {
      "cell_type": "code",
      "source": [
        "macierz2"
      ],
      "metadata": {
        "colab": {
          "base_uri": "https://localhost:8080/"
        },
        "id": "QjKPNE9fn8rp",
        "outputId": "7eb014ef-6773-42c2-9a89-39ca00f3843d"
      },
      "execution_count": 441,
      "outputs": [
        {
          "output_type": "execute_result",
          "data": {
            "text/plain": [
              "array([[6, 6, 8],\n",
              "       [9, 6, 6]])"
            ]
          },
          "metadata": {},
          "execution_count": 441
        }
      ]
    },
    {
      "cell_type": "code",
      "source": [
        "macierz14"
      ],
      "metadata": {
        "colab": {
          "base_uri": "https://localhost:8080/"
        },
        "id": "38SYxI9woznO",
        "outputId": "f592488b-8ad1-486c-f46b-f985301654cd"
      },
      "execution_count": 442,
      "outputs": [
        {
          "output_type": "execute_result",
          "data": {
            "text/plain": [
              "array([[0.93830768, 0.44237549, 0.66145077],\n",
              "       [0.40772167, 0.89078838, 0.82076795],\n",
              "       [0.43863284, 0.62568708, 0.83384832]])"
            ]
          },
          "metadata": {},
          "execution_count": 442
        }
      ]
    },
    {
      "cell_type": "code",
      "source": [
        "np.concatenate((macierz2, macierz14), axis = 0)                                 # axis = 0 - dokłada wiersze"
      ],
      "metadata": {
        "colab": {
          "base_uri": "https://localhost:8080/"
        },
        "id": "tuZb7nxLpJIw",
        "outputId": "0987ef37-2fab-4ec6-eb27-2171b0e8f33f"
      },
      "execution_count": 443,
      "outputs": [
        {
          "output_type": "execute_result",
          "data": {
            "text/plain": [
              "array([[6.        , 6.        , 8.        ],\n",
              "       [9.        , 6.        , 6.        ],\n",
              "       [0.93830768, 0.44237549, 0.66145077],\n",
              "       [0.40772167, 0.89078838, 0.82076795],\n",
              "       [0.43863284, 0.62568708, 0.83384832]])"
            ]
          },
          "metadata": {},
          "execution_count": 443
        }
      ]
    },
    {
      "cell_type": "code",
      "source": [
        "np.concatenate((macierz2, macierz14), axis = None)                              # 'None' - działa jak flatten"
      ],
      "metadata": {
        "colab": {
          "base_uri": "https://localhost:8080/"
        },
        "id": "LLUqvLOHpXGR",
        "outputId": "b246aa9b-04a2-43c2-fa7b-29675e3ea6a0"
      },
      "execution_count": 444,
      "outputs": [
        {
          "output_type": "execute_result",
          "data": {
            "text/plain": [
              "array([6.        , 6.        , 8.        , 9.        , 6.        ,\n",
              "       6.        , 0.93830768, 0.44237549, 0.66145077, 0.40772167,\n",
              "       0.89078838, 0.82076795, 0.43863284, 0.62568708, 0.83384832])"
            ]
          },
          "metadata": {},
          "execution_count": 444
        }
      ]
    },
    {
      "cell_type": "code",
      "source": [
        "np.concatenate((macierz2, macierz2), axis = 1)                                  # axis = 1 - doklada kolumny"
      ],
      "metadata": {
        "colab": {
          "base_uri": "https://localhost:8080/"
        },
        "id": "c0h4YQVTp5Bc",
        "outputId": "f6057937-bd35-4c0c-c0a0-db6e2c8d7969"
      },
      "execution_count": 445,
      "outputs": [
        {
          "output_type": "execute_result",
          "data": {
            "text/plain": [
              "array([[6, 6, 8, 6, 6, 8],\n",
              "       [9, 6, 6, 9, 6, 6]])"
            ]
          },
          "metadata": {},
          "execution_count": 445
        }
      ]
    },
    {
      "cell_type": "markdown",
      "source": [
        "27a) Funkcja 'stock'"
      ],
      "metadata": {
        "id": "tUJLtfWr32gm"
      }
    },
    {
      "cell_type": "code",
      "source": [
        "np.hstack((macierz2, macierz2))"
      ],
      "metadata": {
        "colab": {
          "base_uri": "https://localhost:8080/"
        },
        "id": "OfK05zyv374c",
        "outputId": "e8fe561d-6098-479f-c8e8-8b0721fe1f5c"
      },
      "execution_count": 446,
      "outputs": [
        {
          "output_type": "execute_result",
          "data": {
            "text/plain": [
              "array([[6, 6, 8, 6, 6, 8],\n",
              "       [9, 6, 6, 9, 6, 6]])"
            ]
          },
          "metadata": {},
          "execution_count": 446
        }
      ]
    },
    {
      "cell_type": "code",
      "source": [
        "np.vstack((macierz2, macierz2))"
      ],
      "metadata": {
        "colab": {
          "base_uri": "https://localhost:8080/"
        },
        "id": "ouVU80Nx4r44",
        "outputId": "19c110a5-cbf7-4a8b-eb19-8da5bf7c8b45"
      },
      "execution_count": 447,
      "outputs": [
        {
          "output_type": "execute_result",
          "data": {
            "text/plain": [
              "array([[6, 6, 8],\n",
              "       [9, 6, 6],\n",
              "       [6, 6, 8],\n",
              "       [9, 6, 6]])"
            ]
          },
          "metadata": {},
          "execution_count": 447
        }
      ]
    },
    {
      "cell_type": "markdown",
      "source": [
        "28) Podział tablicy na kilka podtablic"
      ],
      "metadata": {
        "id": "8zH5GgItrJgr"
      }
    },
    {
      "cell_type": "code",
      "source": [
        "wektor1"
      ],
      "metadata": {
        "colab": {
          "base_uri": "https://localhost:8080/"
        },
        "id": "9vqeZFOmridh",
        "outputId": "4c33d6b9-6f23-4876-a210-84ff10485e5d"
      },
      "execution_count": 448,
      "outputs": [
        {
          "output_type": "execute_result",
          "data": {
            "text/plain": [
              "array([ 7,  8,  9, 10, 11, 12])"
            ]
          },
          "metadata": {},
          "execution_count": 448
        }
      ]
    },
    {
      "cell_type": "code",
      "source": [
        "np.split(wektor1, 2)                                                            # argument '2' - dzieli na 2 podtablice"
      ],
      "metadata": {
        "colab": {
          "base_uri": "https://localhost:8080/"
        },
        "id": "dJVM3lyYrmKY",
        "outputId": "3d93fc74-446e-4439-aa8b-00f746eda11d"
      },
      "execution_count": 449,
      "outputs": [
        {
          "output_type": "execute_result",
          "data": {
            "text/plain": [
              "[array([7, 8, 9]), array([10, 11, 12])]"
            ]
          },
          "metadata": {},
          "execution_count": 449
        }
      ]
    },
    {
      "cell_type": "code",
      "source": [
        "np.split(wektor1, [1, 3, 5])                                                    # argument jako lista dzieli po indexie"
      ],
      "metadata": {
        "colab": {
          "base_uri": "https://localhost:8080/"
        },
        "id": "6gTFg-7isYeH",
        "outputId": "b1d6013a-2111-402d-bfec-9f8645708f75"
      },
      "execution_count": 450,
      "outputs": [
        {
          "output_type": "execute_result",
          "data": {
            "text/plain": [
              "[array([7]), array([8, 9]), array([10, 11]), array([12])]"
            ]
          },
          "metadata": {},
          "execution_count": 450
        }
      ]
    },
    {
      "cell_type": "markdown",
      "source": [
        "29) Modyfikacja tablicy poprzez pwoeilenie wyjsciowej tablicy wzdłuż każdej osi"
      ],
      "metadata": {
        "id": "Ryrs8Oq0tTAF"
      }
    },
    {
      "cell_type": "code",
      "source": [
        "wektor1"
      ],
      "metadata": {
        "colab": {
          "base_uri": "https://localhost:8080/"
        },
        "id": "4YjpRGScwRYV",
        "outputId": "c466ddad-da65-475f-97ec-8631387d7bdb"
      },
      "execution_count": 451,
      "outputs": [
        {
          "output_type": "execute_result",
          "data": {
            "text/plain": [
              "array([ 7,  8,  9, 10, 11, 12])"
            ]
          },
          "metadata": {},
          "execution_count": 451
        }
      ]
    },
    {
      "cell_type": "code",
      "source": [
        "np.tile(wektor1,(2,2))                                                          # zduplikowano wektor1 razy 2 po wierszach i razy 2 po kolumnach"
      ],
      "metadata": {
        "colab": {
          "base_uri": "https://localhost:8080/"
        },
        "id": "8KW8XFM_wT50",
        "outputId": "b76d4c3d-b7b3-4573-cec9-6a9535ab536a"
      },
      "execution_count": 452,
      "outputs": [
        {
          "output_type": "execute_result",
          "data": {
            "text/plain": [
              "array([[ 7,  8,  9, 10, 11, 12,  7,  8,  9, 10, 11, 12],\n",
              "       [ 7,  8,  9, 10, 11, 12,  7,  8,  9, 10, 11, 12]])"
            ]
          },
          "metadata": {},
          "execution_count": 452
        }
      ]
    },
    {
      "cell_type": "markdown",
      "source": [
        "30) Usuwanie całych wierszy lub kolumn z tablicy wyjściowej"
      ],
      "metadata": {
        "id": "3RgaG4D_w-S6"
      }
    },
    {
      "cell_type": "code",
      "source": [
        "macierz13"
      ],
      "metadata": {
        "colab": {
          "base_uri": "https://localhost:8080/"
        },
        "id": "R8IhQiMaxYdG",
        "outputId": "504e0156-3a72-4cce-b142-1731a4858cdd"
      },
      "execution_count": 453,
      "outputs": [
        {
          "output_type": "execute_result",
          "data": {
            "text/plain": [
              "array([[0.98284497, 0.11144726, 0.60218667],\n",
              "       [0.88458041, 0.41930201, 0.53887288],\n",
              "       [0.27278745, 0.4692638 , 0.46308456]])"
            ]
          },
          "metadata": {},
          "execution_count": 453
        }
      ]
    },
    {
      "cell_type": "code",
      "source": [
        "np.delete(macierz13,1,0)                                                        # Usunie 1 wiersz (pamietajac ze liczymy od 0), wiersz bo drugi argument to 0"
      ],
      "metadata": {
        "colab": {
          "base_uri": "https://localhost:8080/"
        },
        "id": "nctcFyuxxm2j",
        "outputId": "3eb4602d-f3ce-4eba-eed5-4d6e88515c74"
      },
      "execution_count": 454,
      "outputs": [
        {
          "output_type": "execute_result",
          "data": {
            "text/plain": [
              "array([[0.98284497, 0.11144726, 0.60218667],\n",
              "       [0.27278745, 0.4692638 , 0.46308456]])"
            ]
          },
          "metadata": {},
          "execution_count": 454
        }
      ]
    },
    {
      "cell_type": "code",
      "source": [
        "macierz13"
      ],
      "metadata": {
        "colab": {
          "base_uri": "https://localhost:8080/"
        },
        "id": "WTWjfqH-zNmc",
        "outputId": "798192bd-6eaa-47dd-84be-de9b63da9f29"
      },
      "execution_count": 455,
      "outputs": [
        {
          "output_type": "execute_result",
          "data": {
            "text/plain": [
              "array([[0.98284497, 0.11144726, 0.60218667],\n",
              "       [0.88458041, 0.41930201, 0.53887288],\n",
              "       [0.27278745, 0.4692638 , 0.46308456]])"
            ]
          },
          "metadata": {},
          "execution_count": 455
        }
      ]
    },
    {
      "cell_type": "code",
      "source": [
        "np.delete(macierz13,1,1)                                                        # Usunie 1 kolumne (pamietajac ze liczymy od 0), kolumne bo drugi argument to 1"
      ],
      "metadata": {
        "colab": {
          "base_uri": "https://localhost:8080/"
        },
        "id": "_xRI_PL6xmxh",
        "outputId": "137acfef-9fba-4ccc-e148-8e0623f4c8ba"
      },
      "execution_count": 456,
      "outputs": [
        {
          "output_type": "execute_result",
          "data": {
            "text/plain": [
              "array([[0.98284497, 0.60218667],\n",
              "       [0.88458041, 0.53887288],\n",
              "       [0.27278745, 0.46308456]])"
            ]
          },
          "metadata": {},
          "execution_count": 456
        }
      ]
    },
    {
      "cell_type": "markdown",
      "source": [
        "31) Dodawanie elementów do tablicy"
      ],
      "metadata": {
        "id": "IMbjGqcZ0taJ"
      }
    },
    {
      "cell_type": "code",
      "source": [
        "macierz13"
      ],
      "metadata": {
        "colab": {
          "base_uri": "https://localhost:8080/"
        },
        "id": "HiPWGCoa05G4",
        "outputId": "c7bfa79c-48d3-4fa4-d07a-5ca41aea77d6"
      },
      "execution_count": 457,
      "outputs": [
        {
          "output_type": "execute_result",
          "data": {
            "text/plain": [
              "array([[0.98284497, 0.11144726, 0.60218667],\n",
              "       [0.88458041, 0.41930201, 0.53887288],\n",
              "       [0.27278745, 0.4692638 , 0.46308456]])"
            ]
          },
          "metadata": {},
          "execution_count": 457
        }
      ]
    },
    {
      "cell_type": "code",
      "source": [
        "np.insert(macierz13, (1, 3), 999, 0)                                            # doda 1 i 3 wiersz z elementami '999', wiersz bo ostatni argument to 0"
      ],
      "metadata": {
        "colab": {
          "base_uri": "https://localhost:8080/"
        },
        "id": "79g-Yyah06gI",
        "outputId": "2c939145-6988-4da7-e8a1-df4e295660d0"
      },
      "execution_count": 458,
      "outputs": [
        {
          "output_type": "execute_result",
          "data": {
            "text/plain": [
              "array([[9.82844974e-01, 1.11447263e-01, 6.02186672e-01],\n",
              "       [9.99000000e+02, 9.99000000e+02, 9.99000000e+02],\n",
              "       [8.84580406e-01, 4.19302011e-01, 5.38872879e-01],\n",
              "       [2.72787447e-01, 4.69263801e-01, 4.63084562e-01],\n",
              "       [9.99000000e+02, 9.99000000e+02, 9.99000000e+02]])"
            ]
          },
          "metadata": {},
          "execution_count": 458
        }
      ]
    },
    {
      "cell_type": "code",
      "source": [
        "np.insert(macierz13, (1, 3), 999, 1)                                            # doda 1 i 3 kolumne z elementami '999', kolumne bo ostatni argument to 1"
      ],
      "metadata": {
        "colab": {
          "base_uri": "https://localhost:8080/"
        },
        "id": "Ts8MNd4l1xnS",
        "outputId": "aaa142b0-9085-41bb-e7da-753c4c624ad9"
      },
      "execution_count": 459,
      "outputs": [
        {
          "output_type": "execute_result",
          "data": {
            "text/plain": [
              "array([[9.82844974e-01, 9.99000000e+02, 1.11447263e-01, 6.02186672e-01,\n",
              "        9.99000000e+02],\n",
              "       [8.84580406e-01, 9.99000000e+02, 4.19302011e-01, 5.38872879e-01,\n",
              "        9.99000000e+02],\n",
              "       [2.72787447e-01, 9.99000000e+02, 4.69263801e-01, 4.63084562e-01,\n",
              "        9.99000000e+02]])"
            ]
          },
          "metadata": {},
          "execution_count": 459
        }
      ]
    },
    {
      "cell_type": "code",
      "source": [
        "macierz133 = [1, 2, 3]\n",
        "macierz13"
      ],
      "metadata": {
        "colab": {
          "base_uri": "https://localhost:8080/"
        },
        "id": "E5wVMidf5A4Z",
        "outputId": "fdc67378-1bde-45e9-c574-dfb1ee63a429"
      },
      "execution_count": 560,
      "outputs": [
        {
          "output_type": "execute_result",
          "data": {
            "text/plain": [
              "array([[0.98284497, 0.11144726, 0.60218667],\n",
              "       [0.88458041, 0.41930201, 0.53887288],\n",
              "       [0.27278745, 0.4692638 , 0.46308456]])"
            ]
          },
          "metadata": {},
          "execution_count": 560
        }
      ]
    },
    {
      "cell_type": "code",
      "source": [
        "np.insert(macierz13, 2, [macierz133], axis=1)                                   # musi byc [macierz133] bo bez python potrkatuje jako liste a musi byc array, axis = 1 lub 0"
      ],
      "metadata": {
        "colab": {
          "base_uri": "https://localhost:8080/"
        },
        "id": "T7Fjp7lm5IUS",
        "outputId": "eee4210e-af40-44e3-b74e-dc76ee48f894"
      },
      "execution_count": 563,
      "outputs": [
        {
          "output_type": "execute_result",
          "data": {
            "text/plain": [
              "array([[0.98284497, 0.11144726, 1.        , 0.60218667],\n",
              "       [0.88458041, 0.41930201, 2.        , 0.53887288],\n",
              "       [0.27278745, 0.4692638 , 3.        , 0.46308456]])"
            ]
          },
          "metadata": {},
          "execution_count": 563
        }
      ]
    },
    {
      "cell_type": "markdown",
      "source": [
        "32) Zmiana wymiarow tablicy, oraz uzupelnienie wartości jeśli brakuje, poprzez dupllikowanie od początku tablicy wyjściowej"
      ],
      "metadata": {
        "id": "56P8GiA70xYg"
      }
    },
    {
      "cell_type": "code",
      "source": [
        "wektor1"
      ],
      "metadata": {
        "colab": {
          "base_uri": "https://localhost:8080/"
        },
        "id": "oY5BzpE16wzl",
        "outputId": "572feb21-3eae-4eb6-bccf-843f051c6359"
      },
      "execution_count": 460,
      "outputs": [
        {
          "output_type": "execute_result",
          "data": {
            "text/plain": [
              "array([ 7,  8,  9, 10, 11, 12])"
            ]
          },
          "metadata": {},
          "execution_count": 460
        }
      ]
    },
    {
      "cell_type": "code",
      "source": [
        "np.resize(wektor1,(2,4))                                                        # zrobi tablice 2x4 i doda brakujace elementy"
      ],
      "metadata": {
        "colab": {
          "base_uri": "https://localhost:8080/"
        },
        "id": "vpFvWKnR6yzo",
        "outputId": "1636c601-a943-4187-84bf-73e6ecdaa192"
      },
      "execution_count": 461,
      "outputs": [
        {
          "output_type": "execute_result",
          "data": {
            "text/plain": [
              "array([[ 7,  8,  9, 10],\n",
              "       [11, 12,  7,  8]])"
            ]
          },
          "metadata": {},
          "execution_count": 461
        }
      ]
    },
    {
      "cell_type": "markdown",
      "source": [
        "33) Usuwanie zer na początku i końcu tablicy"
      ],
      "metadata": {
        "id": "sS4W0OI77BVN"
      }
    },
    {
      "cell_type": "code",
      "source": [
        "a = np.array((0, 0, 0, 1, 2, 3, 0, 2, 1, 0))\n",
        "a"
      ],
      "metadata": {
        "colab": {
          "base_uri": "https://localhost:8080/"
        },
        "id": "7NETRTMx7LbR",
        "outputId": "07ee765b-a5f4-4bd8-fb54-0b5a357af7e7"
      },
      "execution_count": 462,
      "outputs": [
        {
          "output_type": "execute_result",
          "data": {
            "text/plain": [
              "array([0, 0, 0, 1, 2, 3, 0, 2, 1, 0])"
            ]
          },
          "metadata": {},
          "execution_count": 462
        }
      ]
    },
    {
      "cell_type": "code",
      "source": [
        "np.trim_zeros(a)"
      ],
      "metadata": {
        "colab": {
          "base_uri": "https://localhost:8080/"
        },
        "id": "JeuoxL2t7Nii",
        "outputId": "3695d35e-f9c7-4fa4-aecf-c88dcec594d4"
      },
      "execution_count": 463,
      "outputs": [
        {
          "output_type": "execute_result",
          "data": {
            "text/plain": [
              "array([1, 2, 3, 0, 2, 1])"
            ]
          },
          "metadata": {},
          "execution_count": 463
        }
      ]
    },
    {
      "cell_type": "markdown",
      "source": [
        "34) Przesuwanie elementów w tablicy"
      ],
      "metadata": {
        "id": "e8bhLYGI79vz"
      }
    },
    {
      "cell_type": "code",
      "source": [
        "macierz2"
      ],
      "metadata": {
        "colab": {
          "base_uri": "https://localhost:8080/"
        },
        "id": "WPYQyjQX8C-2",
        "outputId": "9496cf1f-ed7b-4f2f-e1e9-1296508399b1"
      },
      "execution_count": 464,
      "outputs": [
        {
          "output_type": "execute_result",
          "data": {
            "text/plain": [
              "array([[6, 6, 8],\n",
              "       [9, 6, 6]])"
            ]
          },
          "metadata": {},
          "execution_count": 464
        }
      ]
    },
    {
      "cell_type": "code",
      "source": [
        "np.roll(macierz2,-2)                                                            # przesuwa wszystkie elementy o 2 w lewo"
      ],
      "metadata": {
        "colab": {
          "base_uri": "https://localhost:8080/"
        },
        "id": "EA54nZ0C8JDX",
        "outputId": "270ad8f6-df9e-4bd2-c424-dbcfe1a58905"
      },
      "execution_count": 465,
      "outputs": [
        {
          "output_type": "execute_result",
          "data": {
            "text/plain": [
              "array([[8, 9, 6],\n",
              "       [6, 6, 6]])"
            ]
          },
          "metadata": {},
          "execution_count": 465
        }
      ]
    },
    {
      "cell_type": "code",
      "source": [
        "np.roll(macierz2,1)                                                             # przesuwa wszystkie elementy o 2 w prawo"
      ],
      "metadata": {
        "colab": {
          "base_uri": "https://localhost:8080/"
        },
        "id": "u7AWLR6d8Tqa",
        "outputId": "60b63452-52af-44c7-b9d3-28fb1f7aa626"
      },
      "execution_count": 466,
      "outputs": [
        {
          "output_type": "execute_result",
          "data": {
            "text/plain": [
              "array([[6, 6, 6],\n",
              "       [8, 9, 6]])"
            ]
          },
          "metadata": {},
          "execution_count": 466
        }
      ]
    },
    {
      "cell_type": "markdown",
      "source": [
        "35) Obracanie elementów tablicy o 90 stopni"
      ],
      "metadata": {
        "id": "bZVDuln78ijh"
      }
    },
    {
      "cell_type": "code",
      "source": [
        "macierz2"
      ],
      "metadata": {
        "colab": {
          "base_uri": "https://localhost:8080/"
        },
        "id": "KFIIw4rC8m8h",
        "outputId": "9eb79bde-99cc-4eec-cef4-3cba6c370160"
      },
      "execution_count": 467,
      "outputs": [
        {
          "output_type": "execute_result",
          "data": {
            "text/plain": [
              "array([[6, 6, 8],\n",
              "       [9, 6, 6]])"
            ]
          },
          "metadata": {},
          "execution_count": 467
        }
      ]
    },
    {
      "cell_type": "code",
      "source": [
        "np.rot90(macierz2,1)                                                            # obróci tablice o 90 stopni w lewo"
      ],
      "metadata": {
        "colab": {
          "base_uri": "https://localhost:8080/"
        },
        "id": "VmQU9Vz78oyJ",
        "outputId": "4549b767-7719-40d0-fd4b-8850463e43d8"
      },
      "execution_count": 468,
      "outputs": [
        {
          "output_type": "execute_result",
          "data": {
            "text/plain": [
              "array([[8, 6],\n",
              "       [6, 6],\n",
              "       [6, 9]])"
            ]
          },
          "metadata": {},
          "execution_count": 468
        }
      ]
    },
    {
      "cell_type": "code",
      "source": [
        "np.rot90(macierz2,2)                                                            # obróci tablice o 2x90 stopni w lewo"
      ],
      "metadata": {
        "colab": {
          "base_uri": "https://localhost:8080/"
        },
        "id": "12gOFcxR81lh",
        "outputId": "12dd8bee-9656-48a1-a30d-c0d7fa7e7b78"
      },
      "execution_count": 469,
      "outputs": [
        {
          "output_type": "execute_result",
          "data": {
            "text/plain": [
              "array([[6, 6, 9],\n",
              "       [8, 6, 6]])"
            ]
          },
          "metadata": {},
          "execution_count": 469
        }
      ]
    },
    {
      "cell_type": "markdown",
      "source": [
        "36) Orzymanie przekatnej macierzy kwadratowej"
      ],
      "metadata": {
        "id": "ogm1IEewBfc-"
      }
    },
    {
      "cell_type": "code",
      "source": [
        "macierz17 = np.array([[1,2,3],\n",
        "                      [4,5,6],\n",
        "                      [7,8,9]])\n",
        "macierz17"
      ],
      "metadata": {
        "colab": {
          "base_uri": "https://localhost:8080/"
        },
        "id": "aMWfmiUeBsXN",
        "outputId": "9497bad2-ee0e-4c59-9836-d11b6bc4bded"
      },
      "execution_count": 470,
      "outputs": [
        {
          "output_type": "execute_result",
          "data": {
            "text/plain": [
              "array([[1, 2, 3],\n",
              "       [4, 5, 6],\n",
              "       [7, 8, 9]])"
            ]
          },
          "metadata": {},
          "execution_count": 470
        }
      ]
    },
    {
      "cell_type": "code",
      "source": [
        "np.diag(macierz17)"
      ],
      "metadata": {
        "colab": {
          "base_uri": "https://localhost:8080/"
        },
        "id": "CeCoRvHbCAFy",
        "outputId": "45b2be4c-533b-41d1-e575-2194b8f0df3c"
      },
      "execution_count": 471,
      "outputs": [
        {
          "output_type": "execute_result",
          "data": {
            "text/plain": [
              "array([1, 5, 9])"
            ]
          },
          "metadata": {},
          "execution_count": 471
        }
      ]
    },
    {
      "cell_type": "markdown",
      "source": [
        "37) Kopiowanie tablicy"
      ],
      "metadata": {
        "id": "sBCUmbV7CGTH"
      }
    },
    {
      "cell_type": "code",
      "source": [
        "macierz17"
      ],
      "metadata": {
        "colab": {
          "base_uri": "https://localhost:8080/"
        },
        "id": "wIRQgfUOCI2Q",
        "outputId": "e5841314-380a-40a8-f4c7-d575763ca853"
      },
      "execution_count": 472,
      "outputs": [
        {
          "output_type": "execute_result",
          "data": {
            "text/plain": [
              "array([[1, 2, 3],\n",
              "       [4, 5, 6],\n",
              "       [7, 8, 9]])"
            ]
          },
          "metadata": {},
          "execution_count": 472
        }
      ]
    },
    {
      "cell_type": "code",
      "source": [
        "macierz18 = np.copy(macierz17)\n",
        "macierz18"
      ],
      "metadata": {
        "colab": {
          "base_uri": "https://localhost:8080/"
        },
        "id": "QuwQH4cPCKhn",
        "outputId": "8b983257-38cc-4aa9-d307-b25f104cbd49"
      },
      "execution_count": 473,
      "outputs": [
        {
          "output_type": "execute_result",
          "data": {
            "text/plain": [
              "array([[1, 2, 3],\n",
              "       [4, 5, 6],\n",
              "       [7, 8, 9]])"
            ]
          },
          "metadata": {},
          "execution_count": 473
        }
      ]
    },
    {
      "cell_type": "markdown",
      "source": [
        "38) sortowanie tablicy"
      ],
      "metadata": {
        "id": "C3MDNgeiFQq9"
      }
    },
    {
      "cell_type": "code",
      "source": [
        "macierz18 = np.array([[1,4],[3,1]])\n",
        "macierz18"
      ],
      "metadata": {
        "colab": {
          "base_uri": "https://localhost:8080/"
        },
        "id": "MPwrfznIFS7o",
        "outputId": "62c21777-ea99-4761-ff8e-c029bbede526"
      },
      "execution_count": 474,
      "outputs": [
        {
          "output_type": "execute_result",
          "data": {
            "text/plain": [
              "array([[1, 4],\n",
              "       [3, 1]])"
            ]
          },
          "metadata": {},
          "execution_count": 474
        }
      ]
    },
    {
      "cell_type": "code",
      "source": [
        "np.sort(macierz18)                                                              # Sortuje kazdy wiersz od najmniejsze do najwiekszej wartosci"
      ],
      "metadata": {
        "colab": {
          "base_uri": "https://localhost:8080/"
        },
        "id": "pjVCvavsFnTP",
        "outputId": "8f448067-706d-42ee-cf1e-af514f80ee2f"
      },
      "execution_count": 475,
      "outputs": [
        {
          "output_type": "execute_result",
          "data": {
            "text/plain": [
              "array([[1, 4],\n",
              "       [1, 3]])"
            ]
          },
          "metadata": {},
          "execution_count": 475
        }
      ]
    },
    {
      "cell_type": "markdown",
      "source": [
        "39) Powtarzanie elementów tablicy - 'repeat'"
      ],
      "metadata": {
        "id": "jap0X8AyFhSL"
      }
    },
    {
      "cell_type": "code",
      "source": [
        "macierz18"
      ],
      "metadata": {
        "colab": {
          "base_uri": "https://localhost:8080/"
        },
        "id": "-QbSYHQFFk_F",
        "outputId": "6384496e-0f0f-4f9d-eab7-3e7340298126"
      },
      "execution_count": 476,
      "outputs": [
        {
          "output_type": "execute_result",
          "data": {
            "text/plain": [
              "array([[1, 4],\n",
              "       [3, 1]])"
            ]
          },
          "metadata": {},
          "execution_count": 476
        }
      ]
    },
    {
      "cell_type": "code",
      "source": [
        "np.repeat(macierz18, 3)                                                         # jesli nie podamy 3 argumentu 'axis' to funkcja powtórzy i zrobi splaszczenie tablicy"
      ],
      "metadata": {
        "colab": {
          "base_uri": "https://localhost:8080/"
        },
        "id": "CT0dMr6BFyqm",
        "outputId": "dd1d7555-5f4e-40de-9d5d-cafea0c825df"
      },
      "execution_count": 477,
      "outputs": [
        {
          "output_type": "execute_result",
          "data": {
            "text/plain": [
              "array([1, 1, 1, 4, 4, 4, 3, 3, 3, 1, 1, 1])"
            ]
          },
          "metadata": {},
          "execution_count": 477
        }
      ]
    },
    {
      "cell_type": "code",
      "source": [
        "np.repeat(macierz18,3, axis = 0)                                                # dla axis = 0, powtórzy po wierszach"
      ],
      "metadata": {
        "colab": {
          "base_uri": "https://localhost:8080/"
        },
        "id": "Lb2_XdVkGM8p",
        "outputId": "178e6fe6-3a16-419a-dff0-a647a3eea060"
      },
      "execution_count": 478,
      "outputs": [
        {
          "output_type": "execute_result",
          "data": {
            "text/plain": [
              "array([[1, 4],\n",
              "       [1, 4],\n",
              "       [1, 4],\n",
              "       [3, 1],\n",
              "       [3, 1],\n",
              "       [3, 1]])"
            ]
          },
          "metadata": {},
          "execution_count": 478
        }
      ]
    },
    {
      "cell_type": "code",
      "source": [
        "np.repeat(macierz18, 4, axis = 1)                                               # dla axis = 1, powtórzy po kolumnach"
      ],
      "metadata": {
        "colab": {
          "base_uri": "https://localhost:8080/"
        },
        "id": "2rYLWjl_GhLt",
        "outputId": "27e83271-b5e9-4956-e1d5-35b23c1358ab"
      },
      "execution_count": 479,
      "outputs": [
        {
          "output_type": "execute_result",
          "data": {
            "text/plain": [
              "array([[1, 1, 1, 1, 4, 4, 4, 4],\n",
              "       [3, 3, 3, 3, 1, 1, 1, 1]])"
            ]
          },
          "metadata": {},
          "execution_count": 479
        }
      ]
    },
    {
      "cell_type": "markdown",
      "source": [
        "40) Otrzymywanie wspólnych elementów z 2 tablic"
      ],
      "metadata": {
        "id": "PWfKlR8vSb6a"
      }
    },
    {
      "cell_type": "code",
      "source": [
        "a = np.array([3, 1, 2, 1])\n",
        "a"
      ],
      "metadata": {
        "colab": {
          "base_uri": "https://localhost:8080/"
        },
        "id": "CEHXjAavSksr",
        "outputId": "5b9089a9-c1d9-475d-b8bd-e8673f8a6580"
      },
      "execution_count": 480,
      "outputs": [
        {
          "output_type": "execute_result",
          "data": {
            "text/plain": [
              "array([3, 1, 2, 1])"
            ]
          },
          "metadata": {},
          "execution_count": 480
        }
      ]
    },
    {
      "cell_type": "code",
      "source": [
        "b = np.array([1, 3, 4, 3])\n",
        "b"
      ],
      "metadata": {
        "colab": {
          "base_uri": "https://localhost:8080/"
        },
        "id": "MNo30FJbSn1o",
        "outputId": "89cf529d-26bf-4c99-a6e8-0145607cd6e1"
      },
      "execution_count": 481,
      "outputs": [
        {
          "output_type": "execute_result",
          "data": {
            "text/plain": [
              "array([1, 3, 4, 3])"
            ]
          },
          "metadata": {},
          "execution_count": 481
        }
      ]
    },
    {
      "cell_type": "code",
      "source": [
        "np.intersect1d(a, b)"
      ],
      "metadata": {
        "colab": {
          "base_uri": "https://localhost:8080/"
        },
        "id": "WNxHf6PATBwY",
        "outputId": "5bbddf35-6e33-45b8-f8c8-533a844018ae"
      },
      "execution_count": 482,
      "outputs": [
        {
          "output_type": "execute_result",
          "data": {
            "text/plain": [
              "array([1, 3])"
            ]
          },
          "metadata": {},
          "execution_count": 482
        }
      ]
    },
    {
      "cell_type": "markdown",
      "source": [
        "41) Czy tablica zawiera wskazane elementy"
      ],
      "metadata": {
        "id": "YjG9BHHrTHNA"
      }
    },
    {
      "cell_type": "code",
      "source": [
        "macierz18"
      ],
      "metadata": {
        "colab": {
          "base_uri": "https://localhost:8080/"
        },
        "id": "7udt7p8QTT02",
        "outputId": "f072f26b-151f-4634-a541-ec89c5125414"
      },
      "execution_count": 483,
      "outputs": [
        {
          "output_type": "execute_result",
          "data": {
            "text/plain": [
              "array([[1, 4],\n",
              "       [3, 1]])"
            ]
          },
          "metadata": {},
          "execution_count": 483
        }
      ]
    },
    {
      "cell_type": "code",
      "source": [
        "np.isin(macierz18, [3, 4])"
      ],
      "metadata": {
        "colab": {
          "base_uri": "https://localhost:8080/"
        },
        "id": "9LRZ5jm1TVsn",
        "outputId": "32af6b7e-1170-4433-bf6a-09c75844b5cc"
      },
      "execution_count": 484,
      "outputs": [
        {
          "output_type": "execute_result",
          "data": {
            "text/plain": [
              "array([[False,  True],\n",
              "       [ True, False]])"
            ]
          },
          "metadata": {},
          "execution_count": 484
        }
      ]
    },
    {
      "cell_type": "markdown",
      "source": [
        "42) Wyswietlenie elementów z 1 tablicy, których nie ma w 2 tablicy"
      ],
      "metadata": {
        "id": "iT1Lrqs5TgX_"
      }
    },
    {
      "cell_type": "code",
      "source": [
        "a = np.array([1, 2, 3, 2, 4, 1])\n",
        "a"
      ],
      "metadata": {
        "colab": {
          "base_uri": "https://localhost:8080/"
        },
        "id": "T0WDJ8UAZ0x1",
        "outputId": "be523b68-0ef4-49e4-8d77-aa71c260263e"
      },
      "execution_count": 485,
      "outputs": [
        {
          "output_type": "execute_result",
          "data": {
            "text/plain": [
              "array([1, 2, 3, 2, 4, 1])"
            ]
          },
          "metadata": {},
          "execution_count": 485
        }
      ]
    },
    {
      "cell_type": "code",
      "source": [
        "b = np.array([3, 4, 5, 6])\n",
        "b"
      ],
      "metadata": {
        "colab": {
          "base_uri": "https://localhost:8080/"
        },
        "id": "BrqJ1KzZaDP6",
        "outputId": "4e57724d-72d8-42d4-f8ee-c81ce42ff17c"
      },
      "execution_count": 486,
      "outputs": [
        {
          "output_type": "execute_result",
          "data": {
            "text/plain": [
              "array([3, 4, 5, 6])"
            ]
          },
          "metadata": {},
          "execution_count": 486
        }
      ]
    },
    {
      "cell_type": "code",
      "source": [
        "np.setdiff1d(a, b)"
      ],
      "metadata": {
        "colab": {
          "base_uri": "https://localhost:8080/"
        },
        "id": "0YQiVpMwaEty",
        "outputId": "16a9840a-74da-452b-8408-f34a6c04824c"
      },
      "execution_count": 487,
      "outputs": [
        {
          "output_type": "execute_result",
          "data": {
            "text/plain": [
              "array([1, 2])"
            ]
          },
          "metadata": {},
          "execution_count": 487
        }
      ]
    },
    {
      "cell_type": "markdown",
      "source": [
        "43) Unikalne, posortowane wartości dla 2 tablic"
      ],
      "metadata": {
        "id": "bGx4ARUOaMjm"
      }
    },
    {
      "cell_type": "code",
      "source": [
        "a"
      ],
      "metadata": {
        "colab": {
          "base_uri": "https://localhost:8080/"
        },
        "id": "isiBhR4wasBc",
        "outputId": "a9dc4835-f755-4c80-a2a8-4be7bd82cb1c"
      },
      "execution_count": 488,
      "outputs": [
        {
          "output_type": "execute_result",
          "data": {
            "text/plain": [
              "array([1, 2, 3, 2, 4, 1])"
            ]
          },
          "metadata": {},
          "execution_count": 488
        }
      ]
    },
    {
      "cell_type": "code",
      "source": [
        "b"
      ],
      "metadata": {
        "colab": {
          "base_uri": "https://localhost:8080/"
        },
        "id": "5m30aVOZaxkE",
        "outputId": "9e0f33cc-e83a-4a29-ab54-fdb6db7951eb"
      },
      "execution_count": 489,
      "outputs": [
        {
          "output_type": "execute_result",
          "data": {
            "text/plain": [
              "array([3, 4, 5, 6])"
            ]
          },
          "metadata": {},
          "execution_count": 489
        }
      ]
    },
    {
      "cell_type": "code",
      "source": [
        "np.setxor1d(a, b)"
      ],
      "metadata": {
        "colab": {
          "base_uri": "https://localhost:8080/"
        },
        "id": "VCyPqQQgayeE",
        "outputId": "e22c5c72-e1d4-4f58-ebfc-d5edcf2c5a1c"
      },
      "execution_count": 490,
      "outputs": [
        {
          "output_type": "execute_result",
          "data": {
            "text/plain": [
              "array([1, 2, 5, 6])"
            ]
          },
          "metadata": {},
          "execution_count": 490
        }
      ]
    },
    {
      "cell_type": "markdown",
      "source": [
        "44) Wszystkie wartości, bez powtórzeń, posortowane z tablic"
      ],
      "metadata": {
        "id": "ih-kwPLZbhVv"
      }
    },
    {
      "cell_type": "code",
      "source": [
        "np.union1d(a, b)"
      ],
      "metadata": {
        "colab": {
          "base_uri": "https://localhost:8080/"
        },
        "id": "vWmdw3PpbCBj",
        "outputId": "0b272397-aef5-40ba-804f-8d94e510ed45"
      },
      "execution_count": 491,
      "outputs": [
        {
          "output_type": "execute_result",
          "data": {
            "text/plain": [
              "array([1, 2, 3, 4, 5, 6])"
            ]
          },
          "metadata": {},
          "execution_count": 491
        }
      ]
    },
    {
      "cell_type": "markdown",
      "source": [
        "#**Dostęp do elementów**"
      ],
      "metadata": {
        "id": "XToTIBn_Ldc9"
      }
    },
    {
      "cell_type": "markdown",
      "source": [
        "Wektor/macierz ma swoje indeksy, należy pamiętać że liczone są od 0!"
      ],
      "metadata": {
        "id": "pb1bF-gYLlx5"
      }
    },
    {
      "cell_type": "code",
      "source": [
        "macierz3"
      ],
      "metadata": {
        "colab": {
          "base_uri": "https://localhost:8080/"
        },
        "id": "GCAjF7iJLlVq",
        "outputId": "8167bbdf-1a59-4740-a0ea-db9c2e7acd34"
      },
      "execution_count": 492,
      "outputs": [
        {
          "output_type": "execute_result",
          "data": {
            "text/plain": [
              "array([[ 0,  3,  6,  9],\n",
              "       [10, 13, 16, 19]])"
            ]
          },
          "metadata": {},
          "execution_count": 492
        }
      ]
    },
    {
      "cell_type": "code",
      "source": [
        "macierz3[0][0]                                                                  # element z 0-go wiersz i 0-go kolumny"
      ],
      "metadata": {
        "colab": {
          "base_uri": "https://localhost:8080/"
        },
        "id": "xrFMq-yXLjEZ",
        "outputId": "4e0cc22a-04fe-4c98-ca0e-5044243905aa"
      },
      "execution_count": 493,
      "outputs": [
        {
          "output_type": "execute_result",
          "data": {
            "text/plain": [
              "0"
            ]
          },
          "metadata": {},
          "execution_count": 493
        }
      ]
    },
    {
      "cell_type": "markdown",
      "source": [
        "      lub"
      ],
      "metadata": {
        "id": "DrxwEtXjMAq0"
      }
    },
    {
      "cell_type": "code",
      "source": [
        "macierz3[0,0]                                                                   # element z 0-go wiersz i 0-go kolumny"
      ],
      "metadata": {
        "colab": {
          "base_uri": "https://localhost:8080/"
        },
        "id": "IsduuaxRLjB7",
        "outputId": "c829bd3c-366d-4c7e-8c07-09d1dcbbb3a5"
      },
      "execution_count": 494,
      "outputs": [
        {
          "output_type": "execute_result",
          "data": {
            "text/plain": [
              "0"
            ]
          },
          "metadata": {},
          "execution_count": 494
        }
      ]
    },
    {
      "cell_type": "code",
      "source": [
        "macierz9"
      ],
      "metadata": {
        "colab": {
          "base_uri": "https://localhost:8080/"
        },
        "id": "S-NveKieLi_I",
        "outputId": "a70fa8f7-ebb2-4a4c-956d-54a0e173fa7f"
      },
      "execution_count": 495,
      "outputs": [
        {
          "output_type": "execute_result",
          "data": {
            "text/plain": [
              "array([[0.57953902, 0.39548006, 0.84203907, 0.70618343, 0.27608973],\n",
              "       [0.21293778, 0.29995869, 0.61747209, 0.72158846, 0.34174634],\n",
              "       [0.31234377, 0.64084684, 0.13122441, 0.59781591, 0.65325762],\n",
              "       [0.04790158, 0.09584931, 0.20034563, 0.3663862 , 0.26422151],\n",
              "       [0.81840157, 0.67167492, 0.66409475, 0.3281231 , 0.8577234 ]])"
            ]
          },
          "metadata": {},
          "execution_count": 495
        }
      ]
    },
    {
      "cell_type": "code",
      "source": [
        "macierz9[1]                                                                     # wyswietli 1 wiersz(liczymy od 0) lub zapis: macierz9[1,:]"
      ],
      "metadata": {
        "colab": {
          "base_uri": "https://localhost:8080/"
        },
        "id": "lS4JFHK3Li8J",
        "outputId": "93532254-571a-4f03-a1fc-2b8540bc9d67"
      },
      "execution_count": 496,
      "outputs": [
        {
          "output_type": "execute_result",
          "data": {
            "text/plain": [
              "array([0.21293778, 0.29995869, 0.61747209, 0.72158846, 0.34174634])"
            ]
          },
          "metadata": {},
          "execution_count": 496
        }
      ]
    },
    {
      "cell_type": "code",
      "source": [
        "macierz9[:,1]                                                                   # wyswietli 1 kolumne(czyli druga bo pamietamy ze kolumna pierwsza to zerowa)"
      ],
      "metadata": {
        "colab": {
          "base_uri": "https://localhost:8080/"
        },
        "id": "pXeaogIWLi4J",
        "outputId": "41237ea1-1819-4cb7-f15e-cf8e1c38e16f"
      },
      "execution_count": 497,
      "outputs": [
        {
          "output_type": "execute_result",
          "data": {
            "text/plain": [
              "array([0.39548006, 0.29995869, 0.64084684, 0.09584931, 0.67167492])"
            ]
          },
          "metadata": {},
          "execution_count": 497
        }
      ]
    },
    {
      "cell_type": "markdown",
      "source": [
        "Mogą być różne kombinacje:"
      ],
      "metadata": {
        "id": "MsP3YQotOSJb"
      }
    },
    {
      "cell_type": "code",
      "source": [
        "macierz9[2:,:3]                                                                 # wyswietli macierz od 2 wiersza, ale tylko dla kolumn od 0 do 3)"
      ],
      "metadata": {
        "colab": {
          "base_uri": "https://localhost:8080/"
        },
        "id": "rGJ1vq0HLior",
        "outputId": "a6633553-9421-44a0-93db-adc443d0a7b7"
      },
      "execution_count": 498,
      "outputs": [
        {
          "output_type": "execute_result",
          "data": {
            "text/plain": [
              "array([[0.31234377, 0.64084684, 0.13122441],\n",
              "       [0.04790158, 0.09584931, 0.20034563],\n",
              "       [0.81840157, 0.67167492, 0.66409475]])"
            ]
          },
          "metadata": {},
          "execution_count": 498
        }
      ]
    },
    {
      "cell_type": "markdown",
      "source": [
        "Można również użyć metody 'flat' którwyswietli nam element który wskażemy licząć od 0 wiersz po wierszu w sposób ciągły"
      ],
      "metadata": {
        "id": "HXa00Ih6D9OL"
      }
    },
    {
      "cell_type": "code",
      "source": [
        "macierz9"
      ],
      "metadata": {
        "colab": {
          "base_uri": "https://localhost:8080/"
        },
        "id": "LJMJ5KDbEL2q",
        "outputId": "c62d1f1e-945f-4dc7-bd2d-6b0ebe1efff0"
      },
      "execution_count": 499,
      "outputs": [
        {
          "output_type": "execute_result",
          "data": {
            "text/plain": [
              "array([[0.57953902, 0.39548006, 0.84203907, 0.70618343, 0.27608973],\n",
              "       [0.21293778, 0.29995869, 0.61747209, 0.72158846, 0.34174634],\n",
              "       [0.31234377, 0.64084684, 0.13122441, 0.59781591, 0.65325762],\n",
              "       [0.04790158, 0.09584931, 0.20034563, 0.3663862 , 0.26422151],\n",
              "       [0.81840157, 0.67167492, 0.66409475, 0.3281231 , 0.8577234 ]])"
            ]
          },
          "metadata": {},
          "execution_count": 499
        }
      ]
    },
    {
      "cell_type": "code",
      "source": [
        "macierz9.flat[9]"
      ],
      "metadata": {
        "colab": {
          "base_uri": "https://localhost:8080/"
        },
        "id": "Wt5a8OGPEQ5W",
        "outputId": "d41f7cf9-11e3-437c-bb34-a033cd4f2a4a"
      },
      "execution_count": 500,
      "outputs": [
        {
          "output_type": "execute_result",
          "data": {
            "text/plain": [
              "0.3417463395846678"
            ]
          },
          "metadata": {},
          "execution_count": 500
        }
      ]
    },
    {
      "cell_type": "markdown",
      "source": [
        "Można za pomocą tej metody zamieniąć wartości elementów\n",
        "\n",
        "\n"
      ],
      "metadata": {
        "id": "wo26PREREZXU"
      }
    },
    {
      "cell_type": "code",
      "source": [
        "macierz9"
      ],
      "metadata": {
        "colab": {
          "base_uri": "https://localhost:8080/"
        },
        "id": "uXGS8964Ej0U",
        "outputId": "83e62561-5409-41fc-a1a1-80b5f9259736"
      },
      "execution_count": 501,
      "outputs": [
        {
          "output_type": "execute_result",
          "data": {
            "text/plain": [
              "array([[0.57953902, 0.39548006, 0.84203907, 0.70618343, 0.27608973],\n",
              "       [0.21293778, 0.29995869, 0.61747209, 0.72158846, 0.34174634],\n",
              "       [0.31234377, 0.64084684, 0.13122441, 0.59781591, 0.65325762],\n",
              "       [0.04790158, 0.09584931, 0.20034563, 0.3663862 , 0.26422151],\n",
              "       [0.81840157, 0.67167492, 0.66409475, 0.3281231 , 0.8577234 ]])"
            ]
          },
          "metadata": {},
          "execution_count": 501
        }
      ]
    },
    {
      "cell_type": "code",
      "source": [
        "macierz9.flat = 9\n",
        "macierz9"
      ],
      "metadata": {
        "colab": {
          "base_uri": "https://localhost:8080/"
        },
        "id": "F_mfU7K-Emmk",
        "outputId": "0f8aa5c8-2bb2-498e-cdd9-85dd7efb8fd0"
      },
      "execution_count": 502,
      "outputs": [
        {
          "output_type": "execute_result",
          "data": {
            "text/plain": [
              "array([[9., 9., 9., 9., 9.],\n",
              "       [9., 9., 9., 9., 9.],\n",
              "       [9., 9., 9., 9., 9.],\n",
              "       [9., 9., 9., 9., 9.],\n",
              "       [9., 9., 9., 9., 9.]])"
            ]
          },
          "metadata": {},
          "execution_count": 502
        }
      ]
    },
    {
      "cell_type": "code",
      "source": [
        "macierz9.flat[[3, 8, 13, 18, 23]] = 4\n",
        "macierz9"
      ],
      "metadata": {
        "colab": {
          "base_uri": "https://localhost:8080/"
        },
        "id": "JaXWloyqEtvX",
        "outputId": "9a83cfd4-0e89-4939-fcac-6a4e9a1798a6"
      },
      "execution_count": 503,
      "outputs": [
        {
          "output_type": "execute_result",
          "data": {
            "text/plain": [
              "array([[9., 9., 9., 4., 9.],\n",
              "       [9., 9., 9., 4., 9.],\n",
              "       [9., 9., 9., 4., 9.],\n",
              "       [9., 9., 9., 4., 9.],\n",
              "       [9., 9., 9., 4., 9.]])"
            ]
          },
          "metadata": {},
          "execution_count": 503
        }
      ]
    },
    {
      "cell_type": "markdown",
      "source": [
        "Można również wyświetlać elementy tylko spełniające podany warunek"
      ],
      "metadata": {
        "id": "vVIeAzRVGIx3"
      }
    },
    {
      "cell_type": "code",
      "source": [
        "macierz2"
      ],
      "metadata": {
        "colab": {
          "base_uri": "https://localhost:8080/"
        },
        "id": "kRnVqAXKGSR-",
        "outputId": "7b69fb21-5ac4-4a23-d4ca-68cf3da04b75"
      },
      "execution_count": 504,
      "outputs": [
        {
          "output_type": "execute_result",
          "data": {
            "text/plain": [
              "array([[6, 6, 8],\n",
              "       [9, 6, 6]])"
            ]
          },
          "metadata": {},
          "execution_count": 504
        }
      ]
    },
    {
      "cell_type": "code",
      "source": [
        "macierz2[macierz2 % 2 == 0]"
      ],
      "metadata": {
        "colab": {
          "base_uri": "https://localhost:8080/"
        },
        "id": "SBuebWtgHhTM",
        "outputId": "844a10c5-9adb-4f82-b8ac-851b959f3622"
      },
      "execution_count": 505,
      "outputs": [
        {
          "output_type": "execute_result",
          "data": {
            "text/plain": [
              "array([6, 6, 8, 6, 6])"
            ]
          },
          "metadata": {},
          "execution_count": 505
        }
      ]
    },
    {
      "cell_type": "markdown",
      "source": [
        "#**Operacje na macierzach/wektorach**"
      ],
      "metadata": {
        "id": "YqawyotkLNd3"
      }
    },
    {
      "cell_type": "markdown",
      "source": [
        "1) Dodawanie - należy pamietać żeby macierze wektory były tych samych wymiarów"
      ],
      "metadata": {
        "id": "bZLEKhHrPOxo"
      }
    },
    {
      "cell_type": "code",
      "source": [
        "macierz10 = np.random.random((3,3))                                             # macierz 3x3\n",
        "macierz11 = np.random.random((3,3))                                             # macierz 3x3"
      ],
      "metadata": {
        "id": "nXwoRUsDLT6R"
      },
      "execution_count": 506,
      "outputs": []
    },
    {
      "cell_type": "code",
      "source": [
        "macierz10"
      ],
      "metadata": {
        "colab": {
          "base_uri": "https://localhost:8080/"
        },
        "id": "km784RdnPSWH",
        "outputId": "00a7eb94-b5c0-4f4e-8500-80d0ece1926a"
      },
      "execution_count": 507,
      "outputs": [
        {
          "output_type": "execute_result",
          "data": {
            "text/plain": [
              "array([[0.36624574, 0.30123001, 0.11963924],\n",
              "       [0.12910449, 0.23052936, 0.25547937],\n",
              "       [0.98114268, 0.24949765, 0.31305291]])"
            ]
          },
          "metadata": {},
          "execution_count": 507
        }
      ]
    },
    {
      "cell_type": "code",
      "source": [
        "macierz11"
      ],
      "metadata": {
        "colab": {
          "base_uri": "https://localhost:8080/"
        },
        "id": "NTdRmrtFPzAD",
        "outputId": "3baacd7c-d071-4672-86e0-b29df1b6d9d1"
      },
      "execution_count": 508,
      "outputs": [
        {
          "output_type": "execute_result",
          "data": {
            "text/plain": [
              "array([[0.93602049, 0.88123763, 0.33242432],\n",
              "       [0.69385071, 0.10674053, 0.21011923],\n",
              "       [0.65782718, 0.84726178, 0.13230124]])"
            ]
          },
          "metadata": {},
          "execution_count": 508
        }
      ]
    },
    {
      "cell_type": "code",
      "source": [
        "macierz10 + macierz11"
      ],
      "metadata": {
        "colab": {
          "base_uri": "https://localhost:8080/"
        },
        "id": "7hcRb26zP1KR",
        "outputId": "10e3483d-9348-4987-ffa5-5a867770648f"
      },
      "execution_count": 509,
      "outputs": [
        {
          "output_type": "execute_result",
          "data": {
            "text/plain": [
              "array([[1.30226623, 1.18246764, 0.45206356],\n",
              "       [0.8229552 , 0.33726989, 0.4655986 ],\n",
              "       [1.63896986, 1.09675943, 0.44535414]])"
            ]
          },
          "metadata": {},
          "execution_count": 509
        }
      ]
    },
    {
      "cell_type": "markdown",
      "source": [
        "      lub"
      ],
      "metadata": {
        "id": "ql3PpxNmP5n3"
      }
    },
    {
      "cell_type": "code",
      "source": [
        "np.add(macierz10, macierz11)"
      ],
      "metadata": {
        "colab": {
          "base_uri": "https://localhost:8080/"
        },
        "id": "dpGG6cAbP4eK",
        "outputId": "d8b9658e-45bb-48bf-d0fa-3891f649be1e"
      },
      "execution_count": 510,
      "outputs": [
        {
          "output_type": "execute_result",
          "data": {
            "text/plain": [
              "array([[1.30226623, 1.18246764, 0.45206356],\n",
              "       [0.8229552 , 0.33726989, 0.4655986 ],\n",
              "       [1.63896986, 1.09675943, 0.44535414]])"
            ]
          },
          "metadata": {},
          "execution_count": 510
        }
      ]
    },
    {
      "cell_type": "markdown",
      "source": [
        "2) Odejmowanie"
      ],
      "metadata": {
        "id": "9vz4CIqjQN-O"
      }
    },
    {
      "cell_type": "code",
      "source": [
        "macierz10 - macierz11"
      ],
      "metadata": {
        "colab": {
          "base_uri": "https://localhost:8080/"
        },
        "id": "MxVrR_ZEQK3R",
        "outputId": "316c4b63-f06c-4546-8806-bb64ede95ed5"
      },
      "execution_count": 511,
      "outputs": [
        {
          "output_type": "execute_result",
          "data": {
            "text/plain": [
              "array([[-0.56977475, -0.58000762, -0.21278508],\n",
              "       [-0.56474622,  0.12378883,  0.04536014],\n",
              "       [ 0.3233155 , -0.59776413,  0.18075167]])"
            ]
          },
          "metadata": {},
          "execution_count": 511
        }
      ]
    },
    {
      "cell_type": "code",
      "source": [
        "np.subtract(macierz10, macierz11)"
      ],
      "metadata": {
        "colab": {
          "base_uri": "https://localhost:8080/"
        },
        "id": "wlb9Udx1QVLL",
        "outputId": "d0a40d00-0f8d-478d-fca1-a2c879f13164"
      },
      "execution_count": 512,
      "outputs": [
        {
          "output_type": "execute_result",
          "data": {
            "text/plain": [
              "array([[-0.56977475, -0.58000762, -0.21278508],\n",
              "       [-0.56474622,  0.12378883,  0.04536014],\n",
              "       [ 0.3233155 , -0.59776413,  0.18075167]])"
            ]
          },
          "metadata": {},
          "execution_count": 512
        }
      ]
    },
    {
      "cell_type": "markdown",
      "source": [
        "3) Mnożenie miedzy sobą"
      ],
      "metadata": {
        "id": "AJnLZYFqQjaB"
      }
    },
    {
      "cell_type": "code",
      "source": [
        "macierz10 * macierz11"
      ],
      "metadata": {
        "colab": {
          "base_uri": "https://localhost:8080/"
        },
        "id": "rK5wCKY0QYl0",
        "outputId": "4da688c2-a8fd-429a-885b-c960ad1dcc2c"
      },
      "execution_count": 513,
      "outputs": [
        {
          "output_type": "execute_result",
          "data": {
            "text/plain": [
              "array([[0.34281352, 0.26545522, 0.03977099],\n",
              "       [0.08957924, 0.02460683, 0.05368113],\n",
              "       [0.64542232, 0.21138983, 0.04141729]])"
            ]
          },
          "metadata": {},
          "execution_count": 513
        }
      ]
    },
    {
      "cell_type": "code",
      "source": [
        "np.multiply(macierz10, macierz11)"
      ],
      "metadata": {
        "colab": {
          "base_uri": "https://localhost:8080/"
        },
        "id": "6sYIr9KeQp5h",
        "outputId": "0e636591-2d30-4f51-a823-77cf91ae70ec"
      },
      "execution_count": 514,
      "outputs": [
        {
          "output_type": "execute_result",
          "data": {
            "text/plain": [
              "array([[0.34281352, 0.26545522, 0.03977099],\n",
              "       [0.08957924, 0.02460683, 0.05368113],\n",
              "       [0.64542232, 0.21138983, 0.04141729]])"
            ]
          },
          "metadata": {},
          "execution_count": 514
        }
      ]
    },
    {
      "cell_type": "markdown",
      "source": [
        "4) Mnożenie przez liczbę"
      ],
      "metadata": {
        "id": "-sL0BvLiQzfI"
      }
    },
    {
      "cell_type": "code",
      "source": [
        "macierz10 * 5"
      ],
      "metadata": {
        "colab": {
          "base_uri": "https://localhost:8080/"
        },
        "id": "4x5I8c69Q9dm",
        "outputId": "24c5957c-b4c0-4af9-be26-d27bd1ea4e0c"
      },
      "execution_count": 515,
      "outputs": [
        {
          "output_type": "execute_result",
          "data": {
            "text/plain": [
              "array([[1.83122869, 1.50615004, 0.59819621],\n",
              "       [0.64552245, 1.15264679, 1.27739685],\n",
              "       [4.90571341, 1.24748827, 1.56526453]])"
            ]
          },
          "metadata": {},
          "execution_count": 515
        }
      ]
    },
    {
      "cell_type": "code",
      "source": [
        "np.multiply(macierz10, 5)"
      ],
      "metadata": {
        "colab": {
          "base_uri": "https://localhost:8080/"
        },
        "id": "QplVzsiaRXq8",
        "outputId": "861911b4-7f61-405d-8c43-0e835520fa1c"
      },
      "execution_count": 516,
      "outputs": [
        {
          "output_type": "execute_result",
          "data": {
            "text/plain": [
              "array([[1.83122869, 1.50615004, 0.59819621],\n",
              "       [0.64552245, 1.15264679, 1.27739685],\n",
              "       [4.90571341, 1.24748827, 1.56526453]])"
            ]
          },
          "metadata": {},
          "execution_count": 516
        }
      ]
    },
    {
      "cell_type": "code",
      "source": [
        "np.exp(macierz10)"
      ],
      "metadata": {
        "colab": {
          "base_uri": "https://localhost:8080/"
        },
        "id": "699-Rcv8Razt",
        "outputId": "49367385-8e40-4ecf-8764-1cb45a92904a"
      },
      "execution_count": 517,
      "outputs": [
        {
          "output_type": "execute_result",
          "data": {
            "text/plain": [
              "array([[1.44230963, 1.35152017, 1.12709017],\n",
              "       [1.13780901, 1.25926644, 1.29108038],\n",
              "       [2.66750261, 1.28338055, 1.36759388]])"
            ]
          },
          "metadata": {},
          "execution_count": 517
        }
      ]
    },
    {
      "cell_type": "code",
      "source": [
        "macierz10"
      ],
      "metadata": {
        "colab": {
          "base_uri": "https://localhost:8080/"
        },
        "id": "Ek6uP-j4RpXR",
        "outputId": "d6eae38a-f040-4155-bbbb-9cb166785a15"
      },
      "execution_count": 518,
      "outputs": [
        {
          "output_type": "execute_result",
          "data": {
            "text/plain": [
              "array([[0.36624574, 0.30123001, 0.11963924],\n",
              "       [0.12910449, 0.23052936, 0.25547937],\n",
              "       [0.98114268, 0.24949765, 0.31305291]])"
            ]
          },
          "metadata": {},
          "execution_count": 518
        }
      ]
    },
    {
      "cell_type": "markdown",
      "source": [
        "5) Dzielenie miedzy sobą"
      ],
      "metadata": {
        "id": "ykzoQjYqSABw"
      }
    },
    {
      "cell_type": "code",
      "source": [
        "macierz10 / macierz11"
      ],
      "metadata": {
        "colab": {
          "base_uri": "https://localhost:8080/"
        },
        "id": "-2ucUt9qS_7O",
        "outputId": "df169d3a-3fe5-4c26-cdf3-37e9d8e14da6"
      },
      "execution_count": 519,
      "outputs": [
        {
          "output_type": "execute_result",
          "data": {
            "text/plain": [
              "array([[0.39127961, 0.34182608, 0.35989919],\n",
              "       [0.18606955, 2.15971718, 1.21587808],\n",
              "       [1.49149004, 0.29447528, 2.36621297]])"
            ]
          },
          "metadata": {},
          "execution_count": 519
        }
      ]
    },
    {
      "cell_type": "code",
      "source": [
        "np.divide(macierz10, macierz11)"
      ],
      "metadata": {
        "colab": {
          "base_uri": "https://localhost:8080/"
        },
        "id": "wfmz1ic5TCAi",
        "outputId": "d973a650-6d88-4b47-a77f-025d63a02690"
      },
      "execution_count": 520,
      "outputs": [
        {
          "output_type": "execute_result",
          "data": {
            "text/plain": [
              "array([[0.39127961, 0.34182608, 0.35989919],\n",
              "       [0.18606955, 2.15971718, 1.21587808],\n",
              "       [1.49149004, 0.29447528, 2.36621297]])"
            ]
          },
          "metadata": {},
          "execution_count": 520
        }
      ]
    },
    {
      "cell_type": "markdown",
      "source": [
        "6) Transpozycja macierzy czyli zamiana wierszy na kolumny i odwrotnie"
      ],
      "metadata": {
        "id": "VCUyXV77ZtJ8"
      }
    },
    {
      "cell_type": "code",
      "source": [
        "macierz10"
      ],
      "metadata": {
        "colab": {
          "base_uri": "https://localhost:8080/"
        },
        "id": "CuJXed7LZyUU",
        "outputId": "026eaaf5-8042-4e0f-ac94-769eb45d0778"
      },
      "execution_count": 521,
      "outputs": [
        {
          "output_type": "execute_result",
          "data": {
            "text/plain": [
              "array([[0.36624574, 0.30123001, 0.11963924],\n",
              "       [0.12910449, 0.23052936, 0.25547937],\n",
              "       [0.98114268, 0.24949765, 0.31305291]])"
            ]
          },
          "metadata": {},
          "execution_count": 521
        }
      ]
    },
    {
      "cell_type": "code",
      "source": [
        "macierz10.T"
      ],
      "metadata": {
        "colab": {
          "base_uri": "https://localhost:8080/"
        },
        "id": "4rxw28q9Z07R",
        "outputId": "3d485a1a-308b-4c55-ee82-ed4f9e9ecf97"
      },
      "execution_count": 522,
      "outputs": [
        {
          "output_type": "execute_result",
          "data": {
            "text/plain": [
              "array([[0.36624574, 0.12910449, 0.98114268],\n",
              "       [0.30123001, 0.23052936, 0.24949765],\n",
              "       [0.11963924, 0.25547937, 0.31305291]])"
            ]
          },
          "metadata": {},
          "execution_count": 522
        }
      ]
    },
    {
      "cell_type": "markdown",
      "source": [
        "7) Macierz odwrotna - macierz musi byc kwadratowa, a wyznacznik niezerowy"
      ],
      "metadata": {
        "id": "PkQ1t_yEZ-Vg"
      }
    },
    {
      "cell_type": "code",
      "source": [
        "np.linalg.inv(macierz10)"
      ],
      "metadata": {
        "colab": {
          "base_uri": "https://localhost:8080/"
        },
        "id": "NvcAwuG1aBoO",
        "outputId": "d1ff7049-ee8c-4c84-926b-152a0ab5dfdb"
      },
      "execution_count": 523,
      "outputs": [
        {
          "output_type": "execute_result",
          "data": {
            "text/plain": [
              "array([[ 0.19500209, -1.49152072,  1.14269143],\n",
              "       [ 4.86546331, -0.06315123, -1.80789412],\n",
              "       [-4.48884687,  4.72492252,  1.05388578]])"
            ]
          },
          "metadata": {},
          "execution_count": 523
        }
      ]
    },
    {
      "cell_type": "markdown",
      "source": [
        "8) Do sprawdzenia \n",
        "  * np.exp()\n",
        "  * np.sqrt()\n",
        "  * np.sin()\n",
        "  * np.cos()\n",
        "  * np.log()"
      ],
      "metadata": {
        "id": "WWf9qG-YTFMM"
      }
    },
    {
      "cell_type": "markdown",
      "source": [
        "#**Liczby losowe**"
      ],
      "metadata": {
        "id": "k9K2ZQ52Tdxp"
      }
    },
    {
      "cell_type": "markdown",
      "source": [
        "1) Losowa liczba z rozkładu normalnego (Gaussa)"
      ],
      "metadata": {
        "id": "biLVixqLT-3s"
      }
    },
    {
      "cell_type": "code",
      "source": [
        "np.random.normal()"
      ],
      "metadata": {
        "colab": {
          "base_uri": "https://localhost:8080/"
        },
        "id": "CFM2n0g4UPm8",
        "outputId": "2bbfad3a-6d39-4137-cc22-9d2ee53ed3a1"
      },
      "execution_count": 524,
      "outputs": [
        {
          "output_type": "execute_result",
          "data": {
            "text/plain": [
              "0.7813151687271424"
            ]
          },
          "metadata": {},
          "execution_count": 524
        }
      ]
    },
    {
      "cell_type": "markdown",
      "source": [
        "2) Losowy array z rozkładu normlanego"
      ],
      "metadata": {
        "id": "B8rZO97aUIIE"
      }
    },
    {
      "cell_type": "code",
      "source": [
        "np.random.normal(size=4)                                                        # 4 elementy z rozkladu normalengo"
      ],
      "metadata": {
        "colab": {
          "base_uri": "https://localhost:8080/"
        },
        "id": "1ijzeaj7UoKJ",
        "outputId": "c4e3805b-171b-41ab-80b6-f9d1bcb5adc0"
      },
      "execution_count": 525,
      "outputs": [
        {
          "output_type": "execute_result",
          "data": {
            "text/plain": [
              "array([ 0.12497299, -0.25689491,  0.46505408,  0.77442244])"
            ]
          },
          "metadata": {},
          "execution_count": 525
        }
      ]
    },
    {
      "cell_type": "markdown",
      "source": [
        "3) Losowy zestaw licz z układu jednolitego"
      ],
      "metadata": {
        "id": "wwmI-7opUsui"
      }
    },
    {
      "cell_type": "code",
      "source": [
        "np.random.uniform(size=6)"
      ],
      "metadata": {
        "colab": {
          "base_uri": "https://localhost:8080/"
        },
        "id": "_2a9J1xMU4H_",
        "outputId": "d3afce93-78db-4914-f712-6f7a8d34f21d"
      },
      "execution_count": 526,
      "outputs": [
        {
          "output_type": "execute_result",
          "data": {
            "text/plain": [
              "array([0.38855948, 0.41148337, 0.57269079, 0.16621392, 0.54913947,\n",
              "       0.64928574])"
            ]
          },
          "metadata": {},
          "execution_count": 526
        }
      ]
    },
    {
      "cell_type": "markdown",
      "source": [
        "      lub z przedziału"
      ],
      "metadata": {
        "id": "0I66rjeCVFYY"
      }
    },
    {
      "cell_type": "code",
      "source": [
        "np.random.uniform(3, 30, size = 5)"
      ],
      "metadata": {
        "colab": {
          "base_uri": "https://localhost:8080/"
        },
        "id": "0zSxq_lqVPzO",
        "outputId": "fece6a2f-9498-4d7e-e60e-704b7a539c70"
      },
      "execution_count": 527,
      "outputs": [
        {
          "output_type": "execute_result",
          "data": {
            "text/plain": [
              "array([13.11665329, 23.38783633,  7.6066675 , 27.11917743, 26.13672681])"
            ]
          },
          "metadata": {},
          "execution_count": 527
        }
      ]
    },
    {
      "cell_type": "markdown",
      "source": [
        "4) Losowa liczba zmiennoprzecinkowa"
      ],
      "metadata": {
        "id": "FOVv-xYdVWgQ"
      }
    },
    {
      "cell_type": "code",
      "source": [
        "np.random.random()                                                              # z przedzialu od 0 (wlacznie) do 1 (przedzial otwarty)"
      ],
      "metadata": {
        "colab": {
          "base_uri": "https://localhost:8080/"
        },
        "id": "_wTHN2pkVeB0",
        "outputId": "ebb11c82-f407-488c-838e-587b89ec93d4"
      },
      "execution_count": 528,
      "outputs": [
        {
          "output_type": "execute_result",
          "data": {
            "text/plain": [
              "0.5861491689605052"
            ]
          },
          "metadata": {},
          "execution_count": 528
        }
      ]
    },
    {
      "cell_type": "markdown",
      "source": [
        "      lub zestaw"
      ],
      "metadata": {
        "id": "c0ddwEOgVrdd"
      }
    },
    {
      "cell_type": "code",
      "source": [
        "np.random.random(size = 4)"
      ],
      "metadata": {
        "colab": {
          "base_uri": "https://localhost:8080/"
        },
        "id": "WKpp2_UhVhY6",
        "outputId": "77254d80-7577-4804-8e9f-d1a6ffc87213"
      },
      "execution_count": 529,
      "outputs": [
        {
          "output_type": "execute_result",
          "data": {
            "text/plain": [
              "array([0.67627222, 0.05326581, 0.1077408 , 0.67154622])"
            ]
          },
          "metadata": {},
          "execution_count": 529
        }
      ]
    },
    {
      "cell_type": "markdown",
      "source": [
        "      lub array 2-wymiarowy"
      ],
      "metadata": {
        "id": "OmuDcoVoYq38"
      }
    },
    {
      "cell_type": "code",
      "source": [
        "np.random.random((2,3))                                                         # stworzy macierz dwuwymiarową w tym przypadku 2x3 z elementami losowymi"
      ],
      "metadata": {
        "colab": {
          "base_uri": "https://localhost:8080/"
        },
        "id": "0NTSUAIdY0i2",
        "outputId": "59903fb5-3bb1-483b-f0c6-7143a81072f1"
      },
      "execution_count": 530,
      "outputs": [
        {
          "output_type": "execute_result",
          "data": {
            "text/plain": [
              "array([[0.38461576, 0.98903393, 0.98389906],\n",
              "       [0.06071391, 0.72185394, 0.58416496]])"
            ]
          },
          "metadata": {},
          "execution_count": 530
        }
      ]
    },
    {
      "cell_type": "markdown",
      "source": [
        "5) Losowa liczba calkowita"
      ],
      "metadata": {
        "id": "2AWeBeiSVlOu"
      }
    },
    {
      "cell_type": "code",
      "source": [
        "np.random.randint(10,20)                                                        # trzeba podac zakres"
      ],
      "metadata": {
        "colab": {
          "base_uri": "https://localhost:8080/"
        },
        "id": "Pwio925JWt0L",
        "outputId": "31e6884d-e4bc-48cb-f765-d93e8beba472"
      },
      "execution_count": 531,
      "outputs": [
        {
          "output_type": "execute_result",
          "data": {
            "text/plain": [
              "12"
            ]
          },
          "metadata": {},
          "execution_count": 531
        }
      ]
    },
    {
      "cell_type": "markdown",
      "source": [
        "      lub zestaw"
      ],
      "metadata": {
        "id": "CKSwnR2JWwOk"
      }
    },
    {
      "cell_type": "code",
      "source": [
        "np.random.randint(1, 11, size=5)"
      ],
      "metadata": {
        "colab": {
          "base_uri": "https://localhost:8080/"
        },
        "id": "aMHFD-BvXAG9",
        "outputId": "6cba1357-fb7a-4147-db7e-6b79e83feab9"
      },
      "execution_count": 532,
      "outputs": [
        {
          "output_type": "execute_result",
          "data": {
            "text/plain": [
              "array([ 3, 10,  7,  3,  5])"
            ]
          },
          "metadata": {},
          "execution_count": 532
        }
      ]
    },
    {
      "cell_type": "code",
      "source": [
        "np.random.randint([2, 3, 10], 20)                           # wygeneruje macierz 1x3 gdzie lista w tym przypadku [2, 3, 10] to dolny granica przedziału, a 20 górna granica. \n",
        "                                                            # Jeśli chcemy wiekszą macierz to dodajemy liczby w zakresie"
      ],
      "metadata": {
        "colab": {
          "base_uri": "https://localhost:8080/"
        },
        "id": "2d8oLcU2XFgS",
        "outputId": "e423ad20-4b9f-4cfb-be5d-6fea4f948396"
      },
      "execution_count": 533,
      "outputs": [
        {
          "output_type": "execute_result",
          "data": {
            "text/plain": [
              "array([10,  3, 11])"
            ]
          },
          "metadata": {},
          "execution_count": 533
        }
      ]
    },
    {
      "cell_type": "code",
      "source": [
        "np.random.randint([2, 3, 10, 15], 20)"
      ],
      "metadata": {
        "colab": {
          "base_uri": "https://localhost:8080/"
        },
        "id": "RcP3zPYCXRpC",
        "outputId": "1543714d-f2bc-4993-fe90-cc1320e4ccca"
      },
      "execution_count": 534,
      "outputs": [
        {
          "output_type": "execute_result",
          "data": {
            "text/plain": [
              "array([ 7,  5, 16, 19])"
            ]
          },
          "metadata": {},
          "execution_count": 534
        }
      ]
    },
    {
      "cell_type": "code",
      "source": [
        "np.random.randint(7, [20, 30, 10])                         # wygeneruje macierz 1x3 gdzie lista w tym przypadku [20, 30, 10] to górna granica przedziału, a 7 dolna granica. \n",
        "                                                           # Jeśli chcemy wiekszą macierz to dodajemy liczby w zakresie"
      ],
      "metadata": {
        "colab": {
          "base_uri": "https://localhost:8080/"
        },
        "id": "mnFuhTN6XtrC",
        "outputId": "c6478c60-d61f-459a-a0f5-551f41929e95"
      },
      "execution_count": 535,
      "outputs": [
        {
          "output_type": "execute_result",
          "data": {
            "text/plain": [
              "array([15, 23,  8])"
            ]
          },
          "metadata": {},
          "execution_count": 535
        }
      ]
    },
    {
      "cell_type": "code",
      "source": [
        "np.random.randint(1, 5, size=(2, 4))                                            # stworzy macierz 2x4, z losowymi elementami z przedzialu od 1 do 5"
      ],
      "metadata": {
        "colab": {
          "base_uri": "https://localhost:8080/"
        },
        "id": "ic74iDgmX-HV",
        "outputId": "2d1ec8ec-fbf1-4c94-fe28-bb9ad5ebbf62"
      },
      "execution_count": 536,
      "outputs": [
        {
          "output_type": "execute_result",
          "data": {
            "text/plain": [
              "array([[2, 3, 3, 3],\n",
              "       [3, 2, 4, 4]])"
            ]
          },
          "metadata": {},
          "execution_count": 536
        }
      ]
    },
    {
      "cell_type": "markdown",
      "source": [
        "6) Losowy element z tablicy 2D"
      ],
      "metadata": {
        "id": "Doq_x81IyOGQ"
      }
    },
    {
      "cell_type": "code",
      "source": [
        "macierz2"
      ],
      "metadata": {
        "colab": {
          "base_uri": "https://localhost:8080/"
        },
        "id": "A1cXBPPhyjng",
        "outputId": "33c101db-75fe-473c-8333-6c8ebd67d474"
      },
      "execution_count": 537,
      "outputs": [
        {
          "output_type": "execute_result",
          "data": {
            "text/plain": [
              "array([[6, 6, 8],\n",
              "       [9, 6, 6]])"
            ]
          },
          "metadata": {},
          "execution_count": 537
        }
      ]
    },
    {
      "cell_type": "code",
      "source": [
        "i,j = np.where(macierz2)"
      ],
      "metadata": {
        "id": "URcSLYIvyy27"
      },
      "execution_count": 538,
      "outputs": []
    },
    {
      "cell_type": "code",
      "source": [
        "macierz2[np.random.choice((i), 3), np.random.choice((j), 3)]"
      ],
      "metadata": {
        "colab": {
          "base_uri": "https://localhost:8080/"
        },
        "id": "AKOT7xYo01U5",
        "outputId": "e3ad0c14-456c-4ada-cec9-783cbd0c0e57"
      },
      "execution_count": 539,
      "outputs": [
        {
          "output_type": "execute_result",
          "data": {
            "text/plain": [
              "array([8, 6, 8])"
            ]
          },
          "metadata": {},
          "execution_count": 539
        }
      ]
    },
    {
      "cell_type": "markdown",
      "source": [
        "# ***STATYSTYKA***"
      ],
      "metadata": {
        "id": "m4tP2J3-YVb3"
      }
    },
    {
      "cell_type": "markdown",
      "source": [
        "1) Różnica max - min wartośći dla tablicy (lub kazdego wiersza/kolumny)"
      ],
      "metadata": {
        "id": "2A9CH1TAIQTH"
      }
    },
    {
      "cell_type": "code",
      "source": [
        "macierz2"
      ],
      "metadata": {
        "colab": {
          "base_uri": "https://localhost:8080/"
        },
        "id": "5ixLOkwCIeSo",
        "outputId": "1b542348-8737-413d-fef8-80f5281fb010"
      },
      "execution_count": 540,
      "outputs": [
        {
          "output_type": "execute_result",
          "data": {
            "text/plain": [
              "array([[6, 6, 8],\n",
              "       [9, 6, 6]])"
            ]
          },
          "metadata": {},
          "execution_count": 540
        }
      ]
    },
    {
      "cell_type": "code",
      "source": [
        "np.ptp(macierz2)                                                                # max = 9, min = 5, 9 - 5 = 4"
      ],
      "metadata": {
        "colab": {
          "base_uri": "https://localhost:8080/"
        },
        "id": "aNq7T0FWImSg",
        "outputId": "87ac130a-9325-49d3-a7b9-21e1812ab69e"
      },
      "execution_count": 541,
      "outputs": [
        {
          "output_type": "execute_result",
          "data": {
            "text/plain": [
              "3"
            ]
          },
          "metadata": {},
          "execution_count": 541
        }
      ]
    },
    {
      "cell_type": "code",
      "source": [
        "np.ptp(macierz2, axis = 0)                                                      # różnica dla kazdej kolumny bo drugi argument to 0"
      ],
      "metadata": {
        "colab": {
          "base_uri": "https://localhost:8080/"
        },
        "id": "LAXLGKETItGk",
        "outputId": "ba7092a7-b82f-41f6-9aec-6e0e7595e02d"
      },
      "execution_count": 542,
      "outputs": [
        {
          "output_type": "execute_result",
          "data": {
            "text/plain": [
              "array([3, 0, 2])"
            ]
          },
          "metadata": {},
          "execution_count": 542
        }
      ]
    },
    {
      "cell_type": "code",
      "source": [
        "np.ptp(macierz2, axis = 1)                                                      # różnica dla kazdego wiersza bo drugi argument to 1"
      ],
      "metadata": {
        "colab": {
          "base_uri": "https://localhost:8080/"
        },
        "id": "6GFlPqJWJAaJ",
        "outputId": "934d4bc6-9733-4eba-f7ed-b9b01b3dbf59"
      },
      "execution_count": 543,
      "outputs": [
        {
          "output_type": "execute_result",
          "data": {
            "text/plain": [
              "array([2, 3])"
            ]
          },
          "metadata": {},
          "execution_count": 543
        }
      ]
    },
    {
      "cell_type": "markdown",
      "source": [
        "2) Mediana"
      ],
      "metadata": {
        "id": "sThDMCXsJJpc"
      }
    },
    {
      "cell_type": "code",
      "source": [
        "macierz2"
      ],
      "metadata": {
        "colab": {
          "base_uri": "https://localhost:8080/"
        },
        "id": "fWB1RLbDJ-Ds",
        "outputId": "351a0478-7bdc-407c-a7c8-11c26693487e"
      },
      "execution_count": 544,
      "outputs": [
        {
          "output_type": "execute_result",
          "data": {
            "text/plain": [
              "array([[6, 6, 8],\n",
              "       [9, 6, 6]])"
            ]
          },
          "metadata": {},
          "execution_count": 544
        }
      ]
    },
    {
      "cell_type": "code",
      "source": [
        "np.median(macierz2)                                                             # mediana dla calej tablicy"
      ],
      "metadata": {
        "colab": {
          "base_uri": "https://localhost:8080/"
        },
        "id": "vVRVWrNPKF56",
        "outputId": "9c281164-643b-4ad5-d271-8e2f3c1d1f33"
      },
      "execution_count": 545,
      "outputs": [
        {
          "output_type": "execute_result",
          "data": {
            "text/plain": [
              "6.0"
            ]
          },
          "metadata": {},
          "execution_count": 545
        }
      ]
    },
    {
      "cell_type": "code",
      "source": [
        "np.median(macierz2, axis = 0)                                                   # mediana dla kazdej kolumny bo drugi argument to 0"
      ],
      "metadata": {
        "colab": {
          "base_uri": "https://localhost:8080/"
        },
        "id": "wr_dogI4KLzx",
        "outputId": "243fd6f4-5113-4a73-8a9e-c5845a59e1e9"
      },
      "execution_count": 546,
      "outputs": [
        {
          "output_type": "execute_result",
          "data": {
            "text/plain": [
              "array([7.5, 6. , 7. ])"
            ]
          },
          "metadata": {},
          "execution_count": 546
        }
      ]
    },
    {
      "cell_type": "code",
      "source": [
        "np.median(macierz2, axis = 1)                                                   # mediana dla kazdego wiersza bo drugi argument to 1"
      ],
      "metadata": {
        "colab": {
          "base_uri": "https://localhost:8080/"
        },
        "id": "AOrA_sx0KV6V",
        "outputId": "5766d7dc-a692-42a3-c07f-8da2eb22a2e6"
      },
      "execution_count": 547,
      "outputs": [
        {
          "output_type": "execute_result",
          "data": {
            "text/plain": [
              "array([6., 6.])"
            ]
          },
          "metadata": {},
          "execution_count": 547
        }
      ]
    },
    {
      "cell_type": "markdown",
      "source": [
        "3) średnia"
      ],
      "metadata": {
        "id": "7bv6IScxKm1H"
      }
    },
    {
      "cell_type": "code",
      "source": [
        "macierz2"
      ],
      "metadata": {
        "colab": {
          "base_uri": "https://localhost:8080/"
        },
        "id": "XVDwNlqzK-3p",
        "outputId": "027d2331-95b4-411c-bb48-903f3c0b5aa8"
      },
      "execution_count": 548,
      "outputs": [
        {
          "output_type": "execute_result",
          "data": {
            "text/plain": [
              "array([[6, 6, 8],\n",
              "       [9, 6, 6]])"
            ]
          },
          "metadata": {},
          "execution_count": 548
        }
      ]
    },
    {
      "cell_type": "code",
      "source": [
        "np.mean(macierz2)                                                               # średnia dla calej tablicy"
      ],
      "metadata": {
        "colab": {
          "base_uri": "https://localhost:8080/"
        },
        "id": "-vJrGR89K_td",
        "outputId": "4d6e4f80-830e-4651-cb98-878e697efdc3"
      },
      "execution_count": 549,
      "outputs": [
        {
          "output_type": "execute_result",
          "data": {
            "text/plain": [
              "6.833333333333333"
            ]
          },
          "metadata": {},
          "execution_count": 549
        }
      ]
    },
    {
      "cell_type": "code",
      "source": [
        "np.mean(macierz2, axis = 0)                                                     # średnia dla kazdej kolumny bo drugi argument to 0"
      ],
      "metadata": {
        "colab": {
          "base_uri": "https://localhost:8080/"
        },
        "id": "9zBvr5qaLBtt",
        "outputId": "694c9653-ee90-4501-f342-1f7ddb30663b"
      },
      "execution_count": 550,
      "outputs": [
        {
          "output_type": "execute_result",
          "data": {
            "text/plain": [
              "array([7.5, 6. , 7. ])"
            ]
          },
          "metadata": {},
          "execution_count": 550
        }
      ]
    },
    {
      "cell_type": "code",
      "source": [
        "np.mean(macierz2, axis = 1)                                                     # średnia dla kazdego wiersza bo drugi argument to 1"
      ],
      "metadata": {
        "colab": {
          "base_uri": "https://localhost:8080/"
        },
        "id": "BzHTwfYLLOXH",
        "outputId": "998e0ec9-0729-4ebf-b680-d8d3998788bd"
      },
      "execution_count": 551,
      "outputs": [
        {
          "output_type": "execute_result",
          "data": {
            "text/plain": [
              "array([6.66666667, 7.        ])"
            ]
          },
          "metadata": {},
          "execution_count": 551
        }
      ]
    },
    {
      "cell_type": "markdown",
      "source": [
        "4) Odchylenie standardowe"
      ],
      "metadata": {
        "id": "IQHVtwfyLcAd"
      }
    },
    {
      "cell_type": "code",
      "source": [
        "macierz2"
      ],
      "metadata": {
        "colab": {
          "base_uri": "https://localhost:8080/"
        },
        "id": "6F42Du7YL_AI",
        "outputId": "6ea9d0b5-9e01-4179-af60-a4fb98bc8df1"
      },
      "execution_count": 552,
      "outputs": [
        {
          "output_type": "execute_result",
          "data": {
            "text/plain": [
              "array([[6, 6, 8],\n",
              "       [9, 6, 6]])"
            ]
          },
          "metadata": {},
          "execution_count": 552
        }
      ]
    },
    {
      "cell_type": "code",
      "source": [
        "np.std(macierz2)"
      ],
      "metadata": {
        "colab": {
          "base_uri": "https://localhost:8080/"
        },
        "id": "8AdxwxE0MA9J",
        "outputId": "20c3d2df-4e1e-4372-a2e8-1d4e391a37af"
      },
      "execution_count": 553,
      "outputs": [
        {
          "output_type": "execute_result",
          "data": {
            "text/plain": [
              "1.2133516482134197"
            ]
          },
          "metadata": {},
          "execution_count": 553
        }
      ]
    },
    {
      "cell_type": "markdown",
      "source": [
        "5) Wariancja"
      ],
      "metadata": {
        "id": "Vdh0WdUaMDC0"
      }
    },
    {
      "cell_type": "code",
      "source": [
        "macierz2"
      ],
      "metadata": {
        "colab": {
          "base_uri": "https://localhost:8080/"
        },
        "id": "isPJDNunMOJb",
        "outputId": "f3120b9c-28d1-40da-b4de-8d2bdeccfe48"
      },
      "execution_count": 554,
      "outputs": [
        {
          "output_type": "execute_result",
          "data": {
            "text/plain": [
              "array([[6, 6, 8],\n",
              "       [9, 6, 6]])"
            ]
          },
          "metadata": {},
          "execution_count": 554
        }
      ]
    },
    {
      "cell_type": "code",
      "source": [
        "np.var(macierz2)"
      ],
      "metadata": {
        "colab": {
          "base_uri": "https://localhost:8080/"
        },
        "id": "0nDB0nbrMOve",
        "outputId": "2a8ca2e9-0118-4663-d473-003b45aa5f6c"
      },
      "execution_count": 555,
      "outputs": [
        {
          "output_type": "execute_result",
          "data": {
            "text/plain": [
              "1.4722222222222223"
            ]
          },
          "metadata": {},
          "execution_count": 555
        }
      ]
    },
    {
      "cell_type": "code",
      "source": [],
      "metadata": {
        "id": "uiInYXNVMRBH"
      },
      "execution_count": 555,
      "outputs": []
    }
  ]
}
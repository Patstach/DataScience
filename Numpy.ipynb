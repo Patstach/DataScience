{
  "nbformat": 4,
  "nbformat_minor": 0,
  "metadata": {
    "colab": {
      "provenance": [],
      "authorship_tag": "ABX9TyPBoioAlda/VdYceq8hyLMW",
      "include_colab_link": true
    },
    "kernelspec": {
      "name": "python3",
      "display_name": "Python 3"
    },
    "language_info": {
      "name": "python"
    }
  },
  "cells": [
    {
      "cell_type": "markdown",
      "metadata": {
        "id": "view-in-github",
        "colab_type": "text"
      },
      "source": [
        "<a href=\"https://colab.research.google.com/github/Patstach/DataScience/blob/main/Numpy.ipynb\" target=\"_parent\"><img src=\"https://colab.research.google.com/assets/colab-badge.svg\" alt=\"Open In Colab\"/></a>"
      ]
    },
    {
      "cell_type": "markdown",
      "source": [
        "# **NUMPY**"
      ],
      "metadata": {
        "id": "HSdww2QQ6Yxd"
      }
    },
    {
      "cell_type": "markdown",
      "source": [
        "Biblioteka"
      ],
      "metadata": {
        "id": "7PPq1oEZ8iNm"
      }
    },
    {
      "cell_type": "code",
      "source": [
        "import numpy as np"
      ],
      "metadata": {
        "id": "fViOneWH8hdd"
      },
      "execution_count": 2,
      "outputs": []
    },
    {
      "cell_type": "markdown",
      "source": [
        "* Sklara czyli pojedyncza cyfra jest 0-wymiarowym tensorem (0D)\n",
        "* Wektor to tensor 1-wymiarowy (1D)\n",
        "* Macierz to tensor 2-wymiarowy (2D)\n",
        "* Wystepuje też macierz 3-wymiarowa, jest to tensor (3D)"
      ],
      "metadata": {
        "id": "fyFbbict6lEQ"
      }
    },
    {
      "cell_type": "markdown",
      "source": [
        "#**WEKTOR**"
      ],
      "metadata": {
        "id": "FBu8RMjoCkbA"
      }
    },
    {
      "cell_type": "code",
      "source": [
        "df = np.array([[1,2,3],[4,5,6]]) \n",
        "df"
      ],
      "metadata": {
        "colab": {
          "base_uri": "https://localhost:8080/",
          "height": 0
        },
        "id": "QU3HPSf1dnFh",
        "outputId": "6e461623-62e7-481c-866f-572683df4f82"
      },
      "execution_count": 3,
      "outputs": [
        {
          "output_type": "execute_result",
          "data": {
            "text/plain": [
              "array([[1, 2, 3],\n",
              "       [4, 5, 6]])"
            ]
          },
          "metadata": {},
          "execution_count": 3
        }
      ]
    },
    {
      "cell_type": "code",
      "source": [
        "np.shape(df)"
      ],
      "metadata": {
        "colab": {
          "base_uri": "https://localhost:8080/",
          "height": 0
        },
        "id": "KeTvQ8U4dq_P",
        "outputId": "81210a81-8bae-4a1b-ee7f-e7473b43f6ea"
      },
      "execution_count": 4,
      "outputs": [
        {
          "output_type": "execute_result",
          "data": {
            "text/plain": [
              "(2, 3)"
            ]
          },
          "metadata": {},
          "execution_count": 4
        }
      ]
    },
    {
      "cell_type": "markdown",
      "source": [
        "1) Tworzenie wektorów, czyli tensora 1-wymiarowego (1D)"
      ],
      "metadata": {
        "id": "oPCrS9UX7GJN"
      }
    },
    {
      "cell_type": "markdown",
      "source": [
        "  * poprzez uzycie listy:"
      ],
      "metadata": {
        "id": "5AyNPmVc8Y2O"
      }
    },
    {
      "cell_type": "code",
      "source": [
        "wektor = np.array([1, 2, 3, 4, 5, 6])\n",
        "wektor"
      ],
      "metadata": {
        "colab": {
          "base_uri": "https://localhost:8080/",
          "height": 0
        },
        "id": "gdJH5zxK8YDC",
        "outputId": "502495bf-929d-48b6-8a0c-df21dacaa7c0"
      },
      "execution_count": 5,
      "outputs": [
        {
          "output_type": "execute_result",
          "data": {
            "text/plain": [
              "array([1, 2, 3, 4, 5, 6])"
            ]
          },
          "metadata": {},
          "execution_count": 5
        }
      ]
    },
    {
      "cell_type": "markdown",
      "source": [
        "      lub:"
      ],
      "metadata": {
        "id": "CghLszOv8wlL"
      }
    },
    {
      "cell_type": "code",
      "source": [
        "mylist = [1, 2, 3, 4, 5]                                                        # Tworzymy wczesniej liste\n",
        "mylist"
      ],
      "metadata": {
        "colab": {
          "base_uri": "https://localhost:8080/",
          "height": 0
        },
        "id": "giZ4FMa77F39",
        "outputId": "6970db7b-c3a0-4d1e-a4d6-b2b9c3efa2e5"
      },
      "execution_count": 6,
      "outputs": [
        {
          "output_type": "execute_result",
          "data": {
            "text/plain": [
              "[1, 2, 3, 4, 5]"
            ]
          },
          "metadata": {},
          "execution_count": 6
        }
      ]
    },
    {
      "cell_type": "code",
      "source": [
        "wektor2 = np.array(mylist)                                                      # Tworzymy wektor z wczesniejszej listy\n",
        "wektor2"
      ],
      "metadata": {
        "colab": {
          "base_uri": "https://localhost:8080/",
          "height": 0
        },
        "id": "PiKTmroA7Ew9",
        "outputId": "f211ac75-8281-4584-90bc-81dee32fc9a8"
      },
      "execution_count": 7,
      "outputs": [
        {
          "output_type": "execute_result",
          "data": {
            "text/plain": [
              "array([1, 2, 3, 4, 5])"
            ]
          },
          "metadata": {},
          "execution_count": 7
        }
      ]
    },
    {
      "cell_type": "markdown",
      "source": [
        "2) Tworzenie wektora w sytuacji w której wiemy jakie maja być wartości - ciąg liczbowy"
      ],
      "metadata": {
        "id": "DnBHa9ap9R2Y"
      }
    },
    {
      "cell_type": "code",
      "source": [
        "wektor3 = np.arange(2,8,2)\n",
        "wektor3                                                                         # podajemy wartość początkową (np.2), końcową (np.8), z przeskokiem co 2."
      ],
      "metadata": {
        "colab": {
          "base_uri": "https://localhost:8080/",
          "height": 0
        },
        "id": "6apWzQ1w6kvg",
        "outputId": "45d4a860-6d21-4b51-8c3c-240a17b64bad"
      },
      "execution_count": 8,
      "outputs": [
        {
          "output_type": "execute_result",
          "data": {
            "text/plain": [
              "array([2, 4, 6])"
            ]
          },
          "metadata": {},
          "execution_count": 8
        }
      ]
    },
    {
      "cell_type": "markdown",
      "source": [
        "3) Tworzenie wektora, jeśli chcemy stworzyć wartości w RÓWNYCH odstepach"
      ],
      "metadata": {
        "id": "tJcRvyRq-SeR"
      }
    },
    {
      "cell_type": "code",
      "source": [
        "wektor4 = np.linspace(0, 10, 3)                                                 # stworzy wektor z 3 elementami (ostatni argument), pierwszy to poczatek przedzialu, \n",
        "wektor4                                                                         #  drugi to koniec przedziału"
      ],
      "metadata": {
        "colab": {
          "base_uri": "https://localhost:8080/",
          "height": 0
        },
        "id": "puaBQ-8q6ksK",
        "outputId": "f47eb7ca-44f0-4f8f-db2e-442d7adfa4b6"
      },
      "execution_count": 9,
      "outputs": [
        {
          "output_type": "execute_result",
          "data": {
            "text/plain": [
              "array([ 0.,  5., 10.])"
            ]
          },
          "metadata": {},
          "execution_count": 9
        }
      ]
    },
    {
      "cell_type": "markdown",
      "source": [
        "4) Zerowy wektor"
      ],
      "metadata": {
        "id": "UMVoWbaY-6AU"
      }
    },
    {
      "cell_type": "code",
      "source": [
        "wektor5 = np.zeros(4)                                                           # wektor zerowy z 4 elementami\n",
        "wektor5"
      ],
      "metadata": {
        "colab": {
          "base_uri": "https://localhost:8080/",
          "height": 0
        },
        "id": "yO4TNIpf-bGE",
        "outputId": "82c8dc64-56a2-42ed-b4bd-ef19348825f3"
      },
      "execution_count": 10,
      "outputs": [
        {
          "output_type": "execute_result",
          "data": {
            "text/plain": [
              "array([0., 0., 0., 0.])"
            ]
          },
          "metadata": {},
          "execution_count": 10
        }
      ]
    },
    {
      "cell_type": "markdown",
      "source": [
        "5) Jedynkowy wektor"
      ],
      "metadata": {
        "id": "V1dILD2u_GHy"
      }
    },
    {
      "cell_type": "code",
      "source": [
        "wektor6 = np.ones(5)                                                            # wektor jedynkowy z 5 elementami\n",
        "wektor6"
      ],
      "metadata": {
        "colab": {
          "base_uri": "https://localhost:8080/",
          "height": 0
        },
        "id": "6dAQGDQJ_B04",
        "outputId": "df7e4838-a0e5-49e5-bdbf-786dd2fe09a7"
      },
      "execution_count": 11,
      "outputs": [
        {
          "output_type": "execute_result",
          "data": {
            "text/plain": [
              "array([1., 1., 1., 1., 1.])"
            ]
          },
          "metadata": {},
          "execution_count": 11
        }
      ]
    },
    {
      "cell_type": "markdown",
      "source": [
        "6) Wektor ze stałą wartością"
      ],
      "metadata": {
        "id": "KQKBEI5W_2fl"
      }
    },
    {
      "cell_type": "code",
      "source": [
        "wektor7 = np.full((5),7)                                                        # wektor z 5 elementami i stałą wrtością elementów (7)\n",
        "wektor7"
      ],
      "metadata": {
        "colab": {
          "base_uri": "https://localhost:8080/",
          "height": 0
        },
        "id": "O7oPrHu3_Tc-",
        "outputId": "d24cd1f1-926c-44f4-863d-843cb592897a"
      },
      "execution_count": 12,
      "outputs": [
        {
          "output_type": "execute_result",
          "data": {
            "text/plain": [
              "array([7, 7, 7, 7, 7])"
            ]
          },
          "metadata": {},
          "execution_count": 12
        }
      ]
    },
    {
      "cell_type": "markdown",
      "source": [
        "7) Wektor pusty - Należy używać ostrożnie"
      ],
      "metadata": {
        "id": "caSoHr6hBk22"
      }
    },
    {
      "cell_type": "code",
      "source": [
        "wektor8 = np.empty((3))                                                         # Tworzy 'pusty' wektor który należy samemu uzupełnić?\n",
        "wektor8"
      ],
      "metadata": {
        "colab": {
          "base_uri": "https://localhost:8080/",
          "height": 0
        },
        "id": "gLrGyJMpAJIh",
        "outputId": "409ca293-1052-43fc-8c6a-ff75e5c17af4"
      },
      "execution_count": 13,
      "outputs": [
        {
          "output_type": "execute_result",
          "data": {
            "text/plain": [
              "array([ 0.,  5., 10.])"
            ]
          },
          "metadata": {},
          "execution_count": 13
        }
      ]
    },
    {
      "cell_type": "markdown",
      "source": [
        "8) Wektor z losowymi wartościami"
      ],
      "metadata": {
        "id": "tuolwxHbB8jW"
      }
    },
    {
      "cell_type": "code",
      "source": [
        "wektor9 = np.random.random(5)                                                   # wektor z 5 losowymi elementami\n",
        "wektor9"
      ],
      "metadata": {
        "colab": {
          "base_uri": "https://localhost:8080/",
          "height": 0
        },
        "id": "fRXk398AAjDK",
        "outputId": "42ae084f-9267-4c32-8ae0-b006d249644b"
      },
      "execution_count": 14,
      "outputs": [
        {
          "output_type": "execute_result",
          "data": {
            "text/plain": [
              "array([0.27476184, 0.82907943, 0.74304952, 0.4952069 , 0.18474421])"
            ]
          },
          "metadata": {},
          "execution_count": 14
        }
      ]
    },
    {
      "cell_type": "markdown",
      "source": [
        "#**MACIERZ**"
      ],
      "metadata": {
        "id": "5sKvBKi0Cpfr"
      }
    },
    {
      "cell_type": "markdown",
      "source": [
        "Macierz jest 2-wymiarowym tensorem, wiekszosc procedur jest wykonywana analogiczne do wektora. Należy podawać jedynie argumenty dla '2-go wymiaru'\n",
        "np."
      ],
      "metadata": {
        "id": "2lUtijjBCtja"
      }
    },
    {
      "cell_type": "code",
      "source": [
        "macierz = np.array([[1, 2, 3, 4, 5],\n",
        "                   [6, 7, 8, 9, 10]])\n",
        "macierz"
      ],
      "metadata": {
        "colab": {
          "base_uri": "https://localhost:8080/",
          "height": 0
        },
        "id": "KzM7q2wFBy32",
        "outputId": "52e4fa77-a84d-4cdd-f65f-5ed51558c044"
      },
      "execution_count": 15,
      "outputs": [
        {
          "output_type": "execute_result",
          "data": {
            "text/plain": [
              "array([[ 1,  2,  3,  4,  5],\n",
              "       [ 6,  7,  8,  9, 10]])"
            ]
          },
          "metadata": {},
          "execution_count": 15
        }
      ]
    },
    {
      "cell_type": "code",
      "source": [
        "macierz2 = np.array([np.random.randint(3, 10, size=3),\n",
        "                     np.random.randint(3,10, size=3)])\n",
        "macierz2"
      ],
      "metadata": {
        "colab": {
          "base_uri": "https://localhost:8080/",
          "height": 0
        },
        "id": "QD_7Whi926_R",
        "outputId": "c8f3d224-4600-4ae8-8618-98e04bb6cae4"
      },
      "execution_count": 16,
      "outputs": [
        {
          "output_type": "execute_result",
          "data": {
            "text/plain": [
              "array([[9, 5, 8],\n",
              "       [8, 5, 9]])"
            ]
          },
          "metadata": {},
          "execution_count": 16
        }
      ]
    },
    {
      "cell_type": "code",
      "source": [
        "macierz3 = np.array([np.arange(0, 10, 3),\n",
        "                    np.arange(10, 20, 3)])\n",
        "macierz3"
      ],
      "metadata": {
        "colab": {
          "base_uri": "https://localhost:8080/",
          "height": 0
        },
        "id": "3HYs23wIDVoF",
        "outputId": "9c792f7e-b013-49f4-a310-29a2cc275146"
      },
      "execution_count": 17,
      "outputs": [
        {
          "output_type": "execute_result",
          "data": {
            "text/plain": [
              "array([[ 0,  3,  6,  9],\n",
              "       [10, 13, 16, 19]])"
            ]
          },
          "metadata": {},
          "execution_count": 17
        }
      ]
    },
    {
      "cell_type": "code",
      "source": [
        "macierz4 = np.array([np.linspace(0, 10, 3),\n",
        "                    np.linspace(10, 20, 3)])\n",
        "macierz4"
      ],
      "metadata": {
        "colab": {
          "base_uri": "https://localhost:8080/",
          "height": 0
        },
        "id": "NY-5jojOFZLq",
        "outputId": "9f06d77d-4a47-4663-9b98-e97badfd1f8c"
      },
      "execution_count": 18,
      "outputs": [
        {
          "output_type": "execute_result",
          "data": {
            "text/plain": [
              "array([[ 0.,  5., 10.],\n",
              "       [10., 15., 20.]])"
            ]
          },
          "metadata": {},
          "execution_count": 18
        }
      ]
    },
    {
      "cell_type": "code",
      "source": [
        "macierz5 = np.zeros((4,4))                                                      # macierz zerowa 4x4\n",
        "macierz5"
      ],
      "metadata": {
        "colab": {
          "base_uri": "https://localhost:8080/",
          "height": 0
        },
        "id": "xz7Ruuw-Fi2v",
        "outputId": "b60897d6-88af-4d27-83c3-fc5850e7ae83"
      },
      "execution_count": 19,
      "outputs": [
        {
          "output_type": "execute_result",
          "data": {
            "text/plain": [
              "array([[0., 0., 0., 0.],\n",
              "       [0., 0., 0., 0.],\n",
              "       [0., 0., 0., 0.],\n",
              "       [0., 0., 0., 0.]])"
            ]
          },
          "metadata": {},
          "execution_count": 19
        }
      ]
    },
    {
      "cell_type": "code",
      "source": [
        "macierz6 = np.ones((5,5))                                                       # macierz jedynkowa 4x4\n",
        "macierz6"
      ],
      "metadata": {
        "colab": {
          "base_uri": "https://localhost:8080/",
          "height": 0
        },
        "id": "w_Y-ptyeFpaM",
        "outputId": "3a705fee-734b-42c9-9a01-5c46a969a14d"
      },
      "execution_count": 20,
      "outputs": [
        {
          "output_type": "execute_result",
          "data": {
            "text/plain": [
              "array([[1., 1., 1., 1., 1.],\n",
              "       [1., 1., 1., 1., 1.],\n",
              "       [1., 1., 1., 1., 1.],\n",
              "       [1., 1., 1., 1., 1.],\n",
              "       [1., 1., 1., 1., 1.]])"
            ]
          },
          "metadata": {},
          "execution_count": 20
        }
      ]
    },
    {
      "cell_type": "code",
      "source": [
        "macierz7 = np.full((5,4),7)                                                     # macierz 5x4 ze stałą wrtością elementów (7)\n",
        "macierz7"
      ],
      "metadata": {
        "colab": {
          "base_uri": "https://localhost:8080/",
          "height": 0
        },
        "id": "z6BuOxNQF1Ak",
        "outputId": "8ef7c10a-2201-40af-8303-3519c99709ad"
      },
      "execution_count": 21,
      "outputs": [
        {
          "output_type": "execute_result",
          "data": {
            "text/plain": [
              "array([[7, 7, 7, 7],\n",
              "       [7, 7, 7, 7],\n",
              "       [7, 7, 7, 7],\n",
              "       [7, 7, 7, 7],\n",
              "       [7, 7, 7, 7]])"
            ]
          },
          "metadata": {},
          "execution_count": 21
        }
      ]
    },
    {
      "cell_type": "code",
      "source": [
        "macierz9 = np.random.random((5,5))                                              # macierz 5x5 z losową wartościa elementów                  \n",
        "macierz9"
      ],
      "metadata": {
        "colab": {
          "base_uri": "https://localhost:8080/",
          "height": 0
        },
        "id": "HzZFU1T8F8_a",
        "outputId": "debef0ab-a98f-480c-a453-d44a93fa59c0"
      },
      "execution_count": 22,
      "outputs": [
        {
          "output_type": "execute_result",
          "data": {
            "text/plain": [
              "array([[0.41150122, 0.42509761, 0.8850055 , 0.69167055, 0.74266158],\n",
              "       [0.76296918, 0.06539807, 0.76579257, 0.71309467, 0.95559277],\n",
              "       [0.67480664, 0.92405208, 0.715767  , 0.6274011 , 0.07732449],\n",
              "       [0.87832953, 0.24445271, 0.47910888, 0.99343768, 0.89706667],\n",
              "       [0.58782477, 0.00429302, 0.19372607, 0.06128244, 0.74677324]])"
            ]
          },
          "metadata": {},
          "execution_count": 22
        }
      ]
    },
    {
      "cell_type": "code",
      "source": [
        "macierz10 = np.identity(3)                                                      # macierz kwadratowa jednostkowa 3x3\n",
        "macierz10"
      ],
      "metadata": {
        "colab": {
          "base_uri": "https://localhost:8080/",
          "height": 0
        },
        "id": "h-OfHPKXr3c5",
        "outputId": "3db27ada-fa0d-43c1-c2c5-beb457927f53"
      },
      "execution_count": 23,
      "outputs": [
        {
          "output_type": "execute_result",
          "data": {
            "text/plain": [
              "array([[1., 0., 0.],\n",
              "       [0., 1., 0.],\n",
              "       [0., 0., 1.]])"
            ]
          },
          "metadata": {},
          "execution_count": 23
        }
      ]
    },
    {
      "cell_type": "code",
      "source": [
        "macierz11 = np.eye(3,4)                                                         # macierz 2D z przekątną z '1', reszta elementow '0', nie musi być kwadratowa\n",
        "macierz11"
      ],
      "metadata": {
        "colab": {
          "base_uri": "https://localhost:8080/",
          "height": 0
        },
        "id": "tzoYTN7QsiG-",
        "outputId": "80a6973f-590a-43fd-e679-835938c6d66c"
      },
      "execution_count": 24,
      "outputs": [
        {
          "output_type": "execute_result",
          "data": {
            "text/plain": [
              "array([[1., 0., 0., 0.],\n",
              "       [0., 1., 0., 0.],\n",
              "       [0., 0., 1., 0.]])"
            ]
          },
          "metadata": {},
          "execution_count": 24
        }
      ]
    },
    {
      "cell_type": "code",
      "source": [
        "macierz12 = np.eye(4, 5, k = 2)                                                 # można przesuwać przekątną z 1 za pomocą parametru k, jeżeli k>0 to przesuwamy po kolumnach\n",
        "macierz12"
      ],
      "metadata": {
        "colab": {
          "base_uri": "https://localhost:8080/",
          "height": 0
        },
        "id": "eZwHAmovtOoW",
        "outputId": "05f00334-e23f-4bfb-e568-caa9ec1cc102"
      },
      "execution_count": 25,
      "outputs": [
        {
          "output_type": "execute_result",
          "data": {
            "text/plain": [
              "array([[0., 0., 1., 0., 0.],\n",
              "       [0., 0., 0., 1., 0.],\n",
              "       [0., 0., 0., 0., 1.],\n",
              "       [0., 0., 0., 0., 0.]])"
            ]
          },
          "metadata": {},
          "execution_count": 25
        }
      ]
    },
    {
      "cell_type": "code",
      "source": [
        "macierz12 = np.eye(4, 5, k = -2)                                                 # można przesuwać przekątną z 1 za pomocą parametru k, jeżeli k<0 to przesuwamy po wierszach\n",
        "macierz12"
      ],
      "metadata": {
        "colab": {
          "base_uri": "https://localhost:8080/",
          "height": 0
        },
        "id": "w4gmHNbatyVT",
        "outputId": "9e75dc75-11c3-4453-d879-24576a5affef"
      },
      "execution_count": 26,
      "outputs": [
        {
          "output_type": "execute_result",
          "data": {
            "text/plain": [
              "array([[0., 0., 0., 0., 0.],\n",
              "       [0., 0., 0., 0., 0.],\n",
              "       [1., 0., 0., 0., 0.],\n",
              "       [0., 1., 0., 0., 0.]])"
            ]
          },
          "metadata": {},
          "execution_count": 26
        }
      ]
    },
    {
      "cell_type": "markdown",
      "source": [
        "#**Atrybuty NUMPY**"
      ],
      "metadata": {
        "id": "E7p0HoIKGvLQ"
      }
    },
    {
      "cell_type": "markdown",
      "source": [
        "1) Jesli chcemy dowiedzieć sie o skaldni danego atrybutu możemy to z robić za pomocą atrybutu. np"
      ],
      "metadata": {
        "id": "sQ7NZGF-HDOY"
      }
    },
    {
      "cell_type": "code",
      "source": [
        "np.info(np.arange)                                                              # w tym przypadku wyrzuci nam instrukcję dotyczącą atrybutu 'arange'"
      ],
      "metadata": {
        "colab": {
          "base_uri": "https://localhost:8080/",
          "height": 0
        },
        "id": "cJGnMsQqGVMT",
        "outputId": "886e05f8-3355-4397-a451-3b8ccb1c216a"
      },
      "execution_count": 27,
      "outputs": [
        {
          "output_type": "stream",
          "name": "stdout",
          "text": [
            "arange([start,] stop[, step,], dtype=None, *, like=None)\n",
            "\n",
            "Return evenly spaced values within a given interval.\n",
            "\n",
            "Values are generated within the half-open interval ``[start, stop)``\n",
            "(in other words, the interval including `start` but excluding `stop`).\n",
            "For integer arguments the function is equivalent to the Python built-in\n",
            "`range` function, but returns an ndarray rather than a list.\n",
            "\n",
            "When using a non-integer step, such as 0.1, it is often better to use\n",
            "`numpy.linspace`. See the warnings section below for more information.\n",
            "\n",
            "Parameters\n",
            "----------\n",
            "start : integer or real, optional\n",
            "    Start of interval.  The interval includes this value.  The default\n",
            "    start value is 0.\n",
            "stop : integer or real\n",
            "    End of interval.  The interval does not include this value, except\n",
            "    in some cases where `step` is not an integer and floating point\n",
            "    round-off affects the length of `out`.\n",
            "step : integer or real, optional\n",
            "    Spacing between values.  For any output `out`, this is the distance\n",
            "    between two adjacent values, ``out[i+1] - out[i]``.  The default\n",
            "    step size is 1.  If `step` is specified as a position argument,\n",
            "    `start` must also be given.\n",
            "dtype : dtype\n",
            "    The type of the output array.  If `dtype` is not given, infer the data\n",
            "    type from the other input arguments.\n",
            "like : array_like\n",
            "    Reference object to allow the creation of arrays which are not\n",
            "    NumPy arrays. If an array-like passed in as ``like`` supports\n",
            "    the ``__array_function__`` protocol, the result will be defined\n",
            "    by it. In this case, it ensures the creation of an array object\n",
            "    compatible with that passed in via this argument.\n",
            "\n",
            "    .. versionadded:: 1.20.0\n",
            "\n",
            "Returns\n",
            "-------\n",
            "arange : ndarray\n",
            "    Array of evenly spaced values.\n",
            "\n",
            "    For floating point arguments, the length of the result is\n",
            "    ``ceil((stop - start)/step)``.  Because of floating point overflow,\n",
            "    this rule may result in the last element of `out` being greater\n",
            "    than `stop`.\n",
            "\n",
            "Warnings\n",
            "--------\n",
            "The length of the output might not be numerically stable.\n",
            "\n",
            "Another stability issue is due to the internal implementation of\n",
            "`numpy.arange`.\n",
            "The actual step value used to populate the array is\n",
            "``dtype(start + step) - dtype(start)`` and not `step`. Precision loss\n",
            "can occur here, due to casting or due to using floating points when\n",
            "`start` is much larger than `step`. This can lead to unexpected\n",
            "behaviour. For example::\n",
            "\n",
            "  >>> np.arange(0, 5, 0.5, dtype=int)\n",
            "  array([0, 0, 0, 0, 0, 0, 0, 0, 0, 0])\n",
            "  >>> np.arange(-3, 3, 0.5, dtype=int)\n",
            "  array([-3, -2, -1,  0,  1,  2,  3,  4,  5,  6,  7,  8])\n",
            "\n",
            "In such cases, the use of `numpy.linspace` should be preferred.\n",
            "\n",
            "See Also\n",
            "--------\n",
            "numpy.linspace : Evenly spaced numbers with careful handling of endpoints.\n",
            "numpy.ogrid: Arrays of evenly spaced numbers in N-dimensions.\n",
            "numpy.mgrid: Grid-shaped arrays of evenly spaced numbers in N-dimensions.\n",
            "\n",
            "Examples\n",
            "--------\n",
            ">>> np.arange(3)\n",
            "array([0, 1, 2])\n",
            ">>> np.arange(3.0)\n",
            "array([ 0.,  1.,  2.])\n",
            ">>> np.arange(3,7)\n",
            "array([3, 4, 5, 6])\n",
            ">>> np.arange(3,7,2)\n",
            "array([3, 5])\n"
          ]
        }
      ]
    },
    {
      "cell_type": "markdown",
      "source": [
        "2) Ilość wierszy i kolumn"
      ],
      "metadata": {
        "id": "sm2Xi_7cHe5K"
      }
    },
    {
      "cell_type": "code",
      "source": [
        "macierz9.shape                                                           # na podstawie wczesniej stworzonej zmiennej 'macierz9' - 5 wierszy i 5 kolumn (macierz-> 2 wymiary)"
      ],
      "metadata": {
        "colab": {
          "base_uri": "https://localhost:8080/",
          "height": 0
        },
        "id": "J0UcXPHIG1M5",
        "outputId": "8519838f-6663-4f5d-b8a3-dc6ca8e0569d"
      },
      "execution_count": 28,
      "outputs": [
        {
          "output_type": "execute_result",
          "data": {
            "text/plain": [
              "(5, 5)"
            ]
          },
          "metadata": {},
          "execution_count": 28
        }
      ]
    },
    {
      "cell_type": "code",
      "source": [
        "wektor7.shape                                                                   # na podstawie wczesniej stworzonej zmiennej 'wektor7' - 5 elementów (wektor-> 1 wymiar)"
      ],
      "metadata": {
        "colab": {
          "base_uri": "https://localhost:8080/",
          "height": 0
        },
        "id": "RrfnZ9HgHdkK",
        "outputId": "db3de1ee-03c8-4d17-d913-a9d08f31eaee"
      },
      "execution_count": 29,
      "outputs": [
        {
          "output_type": "execute_result",
          "data": {
            "text/plain": [
              "(5,)"
            ]
          },
          "metadata": {},
          "execution_count": 29
        }
      ]
    },
    {
      "cell_type": "markdown",
      "source": [
        "3) Ilość elementów macierzy/wektora"
      ],
      "metadata": {
        "id": "mNCZbOubIFzE"
      }
    },
    {
      "cell_type": "code",
      "source": [
        "macierz7.size                                                                   # na podstawie wczesniej stworzonej zmiennej 'macierz7'"
      ],
      "metadata": {
        "colab": {
          "base_uri": "https://localhost:8080/",
          "height": 0
        },
        "id": "dWXr9b9yHvqU",
        "outputId": "8a8744db-9c0c-40ed-a52b-8e7ca969ffcb"
      },
      "execution_count": 30,
      "outputs": [
        {
          "output_type": "execute_result",
          "data": {
            "text/plain": [
              "20"
            ]
          },
          "metadata": {},
          "execution_count": 30
        }
      ]
    },
    {
      "cell_type": "code",
      "source": [
        "wektor3.size                                                                    # na podstawie wczesniej stworzonej zmiennej 'wektor3'"
      ],
      "metadata": {
        "colab": {
          "base_uri": "https://localhost:8080/",
          "height": 0
        },
        "id": "Fa6G4uD1IPVW",
        "outputId": "0db5632a-add1-4ab4-f716-211ebaacac5b"
      },
      "execution_count": 31,
      "outputs": [
        {
          "output_type": "execute_result",
          "data": {
            "text/plain": [
              "3"
            ]
          },
          "metadata": {},
          "execution_count": 31
        }
      ]
    },
    {
      "cell_type": "markdown",
      "source": [
        "4) Ilość wymiarów - sprawdzamy czy jest to wektor, macierz 2D, macierz 3D"
      ],
      "metadata": {
        "id": "g9v1isRYIe_-"
      }
    },
    {
      "cell_type": "code",
      "source": [
        "macierz4.ndim                                                                   # na podstawie wczesniej stworzonej zmiennej 'macierz4' -> 2 wymiary bo macierz"
      ],
      "metadata": {
        "colab": {
          "base_uri": "https://localhost:8080/",
          "height": 0
        },
        "id": "XVZxydciIX5W",
        "outputId": "4c483d6c-ef0c-4cba-b6e5-7d5bf18e7d7b"
      },
      "execution_count": 32,
      "outputs": [
        {
          "output_type": "execute_result",
          "data": {
            "text/plain": [
              "2"
            ]
          },
          "metadata": {},
          "execution_count": 32
        }
      ]
    },
    {
      "cell_type": "code",
      "source": [
        "wektor2.ndim                                                                    # na podstawie wczesniej stworzonej zmiennej 'wektor2' -> 1 wymiar bo wektor"
      ],
      "metadata": {
        "colab": {
          "base_uri": "https://localhost:8080/",
          "height": 0
        },
        "id": "dGWduJNbIoq2",
        "outputId": "15dc6dfa-ed1d-4917-9809-f887f629ef65"
      },
      "execution_count": 33,
      "outputs": [
        {
          "output_type": "execute_result",
          "data": {
            "text/plain": [
              "1"
            ]
          },
          "metadata": {},
          "execution_count": 33
        }
      ]
    },
    {
      "cell_type": "markdown",
      "source": [
        "5) Typ elementów macierzy/wektora (int64, float32, complex, bool, object, string, unicode)\n",
        "\n"
      ],
      "metadata": {
        "id": "jWSI1oNjJkhN"
      }
    },
    {
      "cell_type": "code",
      "source": [
        "macierz7.dtype"
      ],
      "metadata": {
        "colab": {
          "base_uri": "https://localhost:8080/",
          "height": 0
        },
        "id": "_QcgY5oiIy5x",
        "outputId": "2dc0e50f-6d9b-41d6-d2bb-32f5d7456288"
      },
      "execution_count": 34,
      "outputs": [
        {
          "output_type": "execute_result",
          "data": {
            "text/plain": [
              "dtype('int64')"
            ]
          },
          "metadata": {},
          "execution_count": 34
        }
      ]
    },
    {
      "cell_type": "code",
      "source": [
        "wektor3.dtype"
      ],
      "metadata": {
        "colab": {
          "base_uri": "https://localhost:8080/",
          "height": 0
        },
        "id": "LKeLHSmaJTsz",
        "outputId": "f40043cc-645a-4ab1-a1d3-84601de62e67"
      },
      "execution_count": 35,
      "outputs": [
        {
          "output_type": "execute_result",
          "data": {
            "text/plain": [
              "dtype('int64')"
            ]
          },
          "metadata": {},
          "execution_count": 35
        }
      ]
    },
    {
      "cell_type": "markdown",
      "source": [
        "6) Zmiana typu elementów"
      ],
      "metadata": {
        "id": "E5Py3H-dKYEq"
      }
    },
    {
      "cell_type": "code",
      "source": [
        "macierz7"
      ],
      "metadata": {
        "colab": {
          "base_uri": "https://localhost:8080/",
          "height": 0
        },
        "id": "R6FYnLQyK1KN",
        "outputId": "3bed54e9-b5d6-46d9-b80f-7b616b932ae6"
      },
      "execution_count": 36,
      "outputs": [
        {
          "output_type": "execute_result",
          "data": {
            "text/plain": [
              "array([[7, 7, 7, 7],\n",
              "       [7, 7, 7, 7],\n",
              "       [7, 7, 7, 7],\n",
              "       [7, 7, 7, 7],\n",
              "       [7, 7, 7, 7]])"
            ]
          },
          "metadata": {},
          "execution_count": 36
        }
      ]
    },
    {
      "cell_type": "code",
      "source": [
        "macierz7.dtype"
      ],
      "metadata": {
        "colab": {
          "base_uri": "https://localhost:8080/",
          "height": 0
        },
        "id": "9DDPvu-gK3bN",
        "outputId": "655748b3-6c1a-49dd-acd3-dddc3271fcf0"
      },
      "execution_count": 37,
      "outputs": [
        {
          "output_type": "execute_result",
          "data": {
            "text/plain": [
              "dtype('int64')"
            ]
          },
          "metadata": {},
          "execution_count": 37
        }
      ]
    },
    {
      "cell_type": "code",
      "source": [
        "macierz7.astype(str)                                                            # zamiana elementów na 'str'"
      ],
      "metadata": {
        "colab": {
          "base_uri": "https://localhost:8080/",
          "height": 0
        },
        "id": "oH__z2sDJWhz",
        "outputId": "1f213d84-ecf7-44a1-af47-1a316de13447"
      },
      "execution_count": 38,
      "outputs": [
        {
          "output_type": "execute_result",
          "data": {
            "text/plain": [
              "array([['7', '7', '7', '7'],\n",
              "       ['7', '7', '7', '7'],\n",
              "       ['7', '7', '7', '7'],\n",
              "       ['7', '7', '7', '7'],\n",
              "       ['7', '7', '7', '7']], dtype='<U21')"
            ]
          },
          "metadata": {},
          "execution_count": 38
        }
      ]
    },
    {
      "cell_type": "markdown",
      "source": [
        "7) Sprawdzenie czy aarray zawiera element NaN"
      ],
      "metadata": {
        "id": "LBqvokB7Dg1K"
      }
    },
    {
      "cell_type": "code",
      "source": [
        "macierz12 = np.array([[1, 2, 4, np.nan],\n",
        "                     [3, np.nan, 6, 7]])\n",
        "macierz12"
      ],
      "metadata": {
        "colab": {
          "base_uri": "https://localhost:8080/",
          "height": 0
        },
        "id": "akmrAdcGDgqj",
        "outputId": "bc229620-ec20-4116-8d9c-48ae95e9110f"
      },
      "execution_count": 39,
      "outputs": [
        {
          "output_type": "execute_result",
          "data": {
            "text/plain": [
              "array([[ 1.,  2.,  4., nan],\n",
              "       [ 3., nan,  6.,  7.]])"
            ]
          },
          "metadata": {},
          "execution_count": 39
        }
      ]
    },
    {
      "cell_type": "code",
      "source": [
        "np.isnan(macierz12)"
      ],
      "metadata": {
        "colab": {
          "base_uri": "https://localhost:8080/",
          "height": 0
        },
        "id": "B2Skcn5LDgnt",
        "outputId": "7f61b65d-bf24-4853-b156-15594c23eaed"
      },
      "execution_count": 40,
      "outputs": [
        {
          "output_type": "execute_result",
          "data": {
            "text/plain": [
              "array([[False, False, False,  True],\n",
              "       [False,  True, False, False]])"
            ]
          },
          "metadata": {},
          "execution_count": 40
        }
      ]
    },
    {
      "cell_type": "markdown",
      "source": [
        "8) Operacja logiczna 'and'"
      ],
      "metadata": {
        "id": "BRjoXdCmDgk3"
      }
    },
    {
      "cell_type": "code",
      "source": [
        "x = np.arange(5)\n",
        "x"
      ],
      "metadata": {
        "colab": {
          "base_uri": "https://localhost:8080/",
          "height": 0
        },
        "id": "84Yi62jnDgiP",
        "outputId": "8c889182-3c8f-4ded-c930-9c7c03f4b2f0"
      },
      "execution_count": 41,
      "outputs": [
        {
          "output_type": "execute_result",
          "data": {
            "text/plain": [
              "array([0, 1, 2, 3, 4])"
            ]
          },
          "metadata": {},
          "execution_count": 41
        }
      ]
    },
    {
      "cell_type": "code",
      "source": [
        "np.logical_and(x > 1, x < 4)"
      ],
      "metadata": {
        "colab": {
          "base_uri": "https://localhost:8080/",
          "height": 0
        },
        "id": "N2LOPPbuDgfW",
        "outputId": "720c493c-0dfe-4f0b-eed2-fbc82c45ce44"
      },
      "execution_count": 42,
      "outputs": [
        {
          "output_type": "execute_result",
          "data": {
            "text/plain": [
              "array([False, False,  True,  True, False])"
            ]
          },
          "metadata": {},
          "execution_count": 42
        }
      ]
    },
    {
      "cell_type": "markdown",
      "source": [
        "9) Operacja logiczna 'lub'"
      ],
      "metadata": {
        "id": "6ZnLPJcUDgcP"
      }
    },
    {
      "cell_type": "code",
      "source": [
        "x = np.arange(5)\n",
        "x"
      ],
      "metadata": {
        "colab": {
          "base_uri": "https://localhost:8080/",
          "height": 0
        },
        "id": "PfRXZMqlDgVw",
        "outputId": "2eb7edf1-e0ba-4bfb-8555-4f935e1a4ab0"
      },
      "execution_count": 43,
      "outputs": [
        {
          "output_type": "execute_result",
          "data": {
            "text/plain": [
              "array([0, 1, 2, 3, 4])"
            ]
          },
          "metadata": {},
          "execution_count": 43
        }
      ]
    },
    {
      "cell_type": "code",
      "source": [
        "np.logical_or(x > 1, x < 4)"
      ],
      "metadata": {
        "colab": {
          "base_uri": "https://localhost:8080/",
          "height": 0
        },
        "id": "S3eMt-eRDgSJ",
        "outputId": "95f9b9e1-adfb-446a-aeb5-1d9b1ea6a3c5"
      },
      "execution_count": 44,
      "outputs": [
        {
          "output_type": "execute_result",
          "data": {
            "text/plain": [
              "array([ True,  True,  True,  True,  True])"
            ]
          },
          "metadata": {},
          "execution_count": 44
        }
      ]
    },
    {
      "cell_type": "markdown",
      "source": [
        "10) Zaprzeczenie logiczne"
      ],
      "metadata": {
        "id": "DPVaVvNzG4i4"
      }
    },
    {
      "cell_type": "code",
      "source": [
        "x = np.arange(5)\n",
        "x"
      ],
      "metadata": {
        "colab": {
          "base_uri": "https://localhost:8080/",
          "height": 0
        },
        "id": "q6v_jTX3G4fq",
        "outputId": "fd67751c-6f80-484c-c81a-82dc31ae1559"
      },
      "execution_count": 45,
      "outputs": [
        {
          "output_type": "execute_result",
          "data": {
            "text/plain": [
              "array([0, 1, 2, 3, 4])"
            ]
          },
          "metadata": {},
          "execution_count": 45
        }
      ]
    },
    {
      "cell_type": "code",
      "source": [
        "np.logical_not(x < 3)                                                           # jeśli warunek jest True, to metoda zwraca nam False i odwrotnie"
      ],
      "metadata": {
        "colab": {
          "base_uri": "https://localhost:8080/",
          "height": 0
        },
        "id": "C7cA5LJVG4dI",
        "outputId": "8d9ed568-8f51-4c0c-f3cc-d806ebbbb2f2"
      },
      "execution_count": 46,
      "outputs": [
        {
          "output_type": "execute_result",
          "data": {
            "text/plain": [
              "array([False, False, False,  True,  True])"
            ]
          },
          "metadata": {},
          "execution_count": 46
        }
      ]
    },
    {
      "cell_type": "markdown",
      "source": [
        "11) Operacja logiczna 'wieksze'"
      ],
      "metadata": {
        "id": "pK_hK119G4aO"
      }
    },
    {
      "cell_type": "code",
      "source": [
        "macierz13 = np.random.random((3,3))            \n",
        "macierz13"
      ],
      "metadata": {
        "colab": {
          "base_uri": "https://localhost:8080/",
          "height": 0
        },
        "id": "X3wLaJgvG3zZ",
        "outputId": "5b181564-477d-4f7e-feb3-5637bd9aff31"
      },
      "execution_count": 47,
      "outputs": [
        {
          "output_type": "execute_result",
          "data": {
            "text/plain": [
              "array([[0.11174765, 0.79127036, 0.30881042],\n",
              "       [0.20083941, 0.00212951, 0.95219964],\n",
              "       [0.79689646, 0.03188961, 0.74096449]])"
            ]
          },
          "metadata": {},
          "execution_count": 47
        }
      ]
    },
    {
      "cell_type": "code",
      "source": [
        "macierz14 = np.random.random((3,3))            \n",
        "macierz14"
      ],
      "metadata": {
        "colab": {
          "base_uri": "https://localhost:8080/",
          "height": 0
        },
        "id": "3pbos06pJLb5",
        "outputId": "54518cc0-de8a-48ec-9a45-4d89291b522b"
      },
      "execution_count": 48,
      "outputs": [
        {
          "output_type": "execute_result",
          "data": {
            "text/plain": [
              "array([[0.75844951, 0.23326235, 0.36478079],\n",
              "       [0.7137344 , 0.70409249, 0.56610314],\n",
              "       [0.82664483, 0.01272024, 0.06077753]])"
            ]
          },
          "metadata": {},
          "execution_count": 48
        }
      ]
    },
    {
      "cell_type": "code",
      "source": [
        "macierz13 > macierz14"
      ],
      "metadata": {
        "colab": {
          "base_uri": "https://localhost:8080/",
          "height": 0
        },
        "id": "YkxqkWAtJLXT",
        "outputId": "bfb3075e-bc2a-4c27-cce2-127db9f9906e"
      },
      "execution_count": 49,
      "outputs": [
        {
          "output_type": "execute_result",
          "data": {
            "text/plain": [
              "array([[False,  True, False],\n",
              "       [False, False,  True],\n",
              "       [False,  True,  True]])"
            ]
          },
          "metadata": {},
          "execution_count": 49
        }
      ]
    },
    {
      "cell_type": "markdown",
      "source": [
        "      lub"
      ],
      "metadata": {
        "id": "20yJ29YbJLUa"
      }
    },
    {
      "cell_type": "code",
      "source": [
        "np.greater(macierz13, macierz14)"
      ],
      "metadata": {
        "colab": {
          "base_uri": "https://localhost:8080/",
          "height": 0
        },
        "id": "rbEYl4swJLRc",
        "outputId": "eb17c5cc-1228-4d61-e72b-411700617306"
      },
      "execution_count": 50,
      "outputs": [
        {
          "output_type": "execute_result",
          "data": {
            "text/plain": [
              "array([[False,  True, False],\n",
              "       [False, False,  True],\n",
              "       [False,  True,  True]])"
            ]
          },
          "metadata": {},
          "execution_count": 50
        }
      ]
    },
    {
      "cell_type": "markdown",
      "source": [
        "12) Operacja logiczna 'wieksze i rowne'"
      ],
      "metadata": {
        "id": "VOh8KVzYJLO6"
      }
    },
    {
      "cell_type": "code",
      "source": [
        "macierz13 >= macierz14"
      ],
      "metadata": {
        "colab": {
          "base_uri": "https://localhost:8080/",
          "height": 0
        },
        "id": "q7Ic5hrtJLKI",
        "outputId": "ea7df3b8-4e1d-4329-a091-7c71e137fca8"
      },
      "execution_count": 51,
      "outputs": [
        {
          "output_type": "execute_result",
          "data": {
            "text/plain": [
              "array([[False,  True, False],\n",
              "       [False, False,  True],\n",
              "       [False,  True,  True]])"
            ]
          },
          "metadata": {},
          "execution_count": 51
        }
      ]
    },
    {
      "cell_type": "markdown",
      "source": [
        "      lub"
      ],
      "metadata": {
        "id": "lyZ7eMK9JLHg"
      }
    },
    {
      "cell_type": "code",
      "source": [
        "np.greater_equal(macierz13, macierz14)"
      ],
      "metadata": {
        "colab": {
          "base_uri": "https://localhost:8080/",
          "height": 0
        },
        "id": "9NlWQsyVKFUY",
        "outputId": "bb18ce56-a65d-4f31-98f5-a0a1426ab580"
      },
      "execution_count": 52,
      "outputs": [
        {
          "output_type": "execute_result",
          "data": {
            "text/plain": [
              "array([[False,  True, False],\n",
              "       [False, False,  True],\n",
              "       [False,  True,  True]])"
            ]
          },
          "metadata": {},
          "execution_count": 52
        }
      ]
    },
    {
      "cell_type": "markdown",
      "source": [
        "13) Operacja logiczna 'mniejsze'"
      ],
      "metadata": {
        "id": "ReMOE9QMKFRy"
      }
    },
    {
      "cell_type": "code",
      "source": [
        "macierz13 < macierz14"
      ],
      "metadata": {
        "colab": {
          "base_uri": "https://localhost:8080/",
          "height": 0
        },
        "id": "VbcQHyErKFPG",
        "outputId": "7c6cf522-a6c6-472f-b01f-f62f4ca9f3fe"
      },
      "execution_count": 53,
      "outputs": [
        {
          "output_type": "execute_result",
          "data": {
            "text/plain": [
              "array([[ True, False,  True],\n",
              "       [ True,  True, False],\n",
              "       [ True, False, False]])"
            ]
          },
          "metadata": {},
          "execution_count": 53
        }
      ]
    },
    {
      "cell_type": "markdown",
      "source": [
        "      lub"
      ],
      "metadata": {
        "id": "NuAmnwEGKFMU"
      }
    },
    {
      "cell_type": "code",
      "source": [
        "np.less(macierz13, macierz14)"
      ],
      "metadata": {
        "colab": {
          "base_uri": "https://localhost:8080/",
          "height": 0
        },
        "id": "JjNMTKXGKFIs",
        "outputId": "026a51c9-3f4e-4e21-9893-c1b8d205a622"
      },
      "execution_count": 54,
      "outputs": [
        {
          "output_type": "execute_result",
          "data": {
            "text/plain": [
              "array([[ True, False,  True],\n",
              "       [ True,  True, False],\n",
              "       [ True, False, False]])"
            ]
          },
          "metadata": {},
          "execution_count": 54
        }
      ]
    },
    {
      "cell_type": "markdown",
      "source": [
        "14) Operacja logiczna 'mniejsze i rowne'"
      ],
      "metadata": {
        "id": "ffn-AOGUKkky"
      }
    },
    {
      "cell_type": "code",
      "source": [
        "macierz13 <= macierz14"
      ],
      "metadata": {
        "colab": {
          "base_uri": "https://localhost:8080/",
          "height": 0
        },
        "id": "yPGJdtASKkiX",
        "outputId": "c1a7ca6c-d7d6-455b-9d35-6e4fd989bee9"
      },
      "execution_count": 55,
      "outputs": [
        {
          "output_type": "execute_result",
          "data": {
            "text/plain": [
              "array([[ True, False,  True],\n",
              "       [ True,  True, False],\n",
              "       [ True, False, False]])"
            ]
          },
          "metadata": {},
          "execution_count": 55
        }
      ]
    },
    {
      "cell_type": "markdown",
      "source": [
        "      lub"
      ],
      "metadata": {
        "id": "pxONN12BKkfl"
      }
    },
    {
      "cell_type": "code",
      "source": [
        "np.less_equal(macierz13, macierz14)"
      ],
      "metadata": {
        "colab": {
          "base_uri": "https://localhost:8080/",
          "height": 0
        },
        "id": "HXUmw4cmKkcq",
        "outputId": "d910732c-63cd-421c-8448-82a48b0b3a06"
      },
      "execution_count": 56,
      "outputs": [
        {
          "output_type": "execute_result",
          "data": {
            "text/plain": [
              "array([[ True, False,  True],\n",
              "       [ True,  True, False],\n",
              "       [ True, False, False]])"
            ]
          },
          "metadata": {},
          "execution_count": 56
        }
      ]
    },
    {
      "cell_type": "markdown",
      "source": [
        "15) Operacja logiczna 'rowne'"
      ],
      "metadata": {
        "id": "3InhLQhOKkaJ"
      }
    },
    {
      "cell_type": "code",
      "source": [
        "macierz15 = np.array([[1, 2, 3, 4],\n",
        "                      [3, 4, 5, 6]])\n",
        "macierz15"
      ],
      "metadata": {
        "colab": {
          "base_uri": "https://localhost:8080/",
          "height": 0
        },
        "id": "fjqGA0rjKkXc",
        "outputId": "0e5918bf-ec39-4eee-ba77-ff2840c033ef"
      },
      "execution_count": 57,
      "outputs": [
        {
          "output_type": "execute_result",
          "data": {
            "text/plain": [
              "array([[1, 2, 3, 4],\n",
              "       [3, 4, 5, 6]])"
            ]
          },
          "metadata": {},
          "execution_count": 57
        }
      ]
    },
    {
      "cell_type": "code",
      "source": [
        "macierz16 = np.array([[1, 3, 3, 5],\n",
        "                      [3, 5, 5, 7]])\n",
        "macierz16"
      ],
      "metadata": {
        "colab": {
          "base_uri": "https://localhost:8080/",
          "height": 0
        },
        "id": "39-EiQ6fKkUq",
        "outputId": "60e1e338-585c-4a22-c74c-2319ee837783"
      },
      "execution_count": 58,
      "outputs": [
        {
          "output_type": "execute_result",
          "data": {
            "text/plain": [
              "array([[1, 3, 3, 5],\n",
              "       [3, 5, 5, 7]])"
            ]
          },
          "metadata": {},
          "execution_count": 58
        }
      ]
    },
    {
      "cell_type": "code",
      "source": [
        "macierz15 == macierz16"
      ],
      "metadata": {
        "colab": {
          "base_uri": "https://localhost:8080/",
          "height": 0
        },
        "id": "49730_hvKFFa",
        "outputId": "ddcf8cf4-a68c-49d9-fd0a-cc928dc66da4"
      },
      "execution_count": 59,
      "outputs": [
        {
          "output_type": "execute_result",
          "data": {
            "text/plain": [
              "array([[ True, False,  True, False],\n",
              "       [ True, False,  True, False]])"
            ]
          },
          "metadata": {},
          "execution_count": 59
        }
      ]
    },
    {
      "cell_type": "markdown",
      "source": [
        "      lub"
      ],
      "metadata": {
        "id": "hZH8zcHLKFCA"
      }
    },
    {
      "cell_type": "code",
      "source": [
        "np.equal(macierz15, macierz16)"
      ],
      "metadata": {
        "colab": {
          "base_uri": "https://localhost:8080/",
          "height": 0
        },
        "id": "Hq2UwqhILhcO",
        "outputId": "62a8817a-0580-4de0-8642-e3cb9ccabab3"
      },
      "execution_count": 60,
      "outputs": [
        {
          "output_type": "execute_result",
          "data": {
            "text/plain": [
              "array([[ True, False,  True, False],\n",
              "       [ True, False,  True, False]])"
            ]
          },
          "metadata": {},
          "execution_count": 60
        }
      ]
    },
    {
      "cell_type": "markdown",
      "source": [
        "16) Operacja logiczna 'nierówna się'"
      ],
      "metadata": {
        "id": "ac0FLX_tLvR-"
      }
    },
    {
      "cell_type": "code",
      "source": [
        "macierz15"
      ],
      "metadata": {
        "colab": {
          "base_uri": "https://localhost:8080/",
          "height": 0
        },
        "id": "Cq7q7xlAL-lU",
        "outputId": "673459ea-84f5-40db-d3b4-28d56585f717"
      },
      "execution_count": 61,
      "outputs": [
        {
          "output_type": "execute_result",
          "data": {
            "text/plain": [
              "array([[1, 2, 3, 4],\n",
              "       [3, 4, 5, 6]])"
            ]
          },
          "metadata": {},
          "execution_count": 61
        }
      ]
    },
    {
      "cell_type": "code",
      "source": [
        "macierz16"
      ],
      "metadata": {
        "colab": {
          "base_uri": "https://localhost:8080/",
          "height": 0
        },
        "id": "gTXC9GYpLvN9",
        "outputId": "8ebcdb84-c234-4baf-9e15-8ec6d48ab9e5"
      },
      "execution_count": 62,
      "outputs": [
        {
          "output_type": "execute_result",
          "data": {
            "text/plain": [
              "array([[1, 3, 3, 5],\n",
              "       [3, 5, 5, 7]])"
            ]
          },
          "metadata": {},
          "execution_count": 62
        }
      ]
    },
    {
      "cell_type": "code",
      "source": [
        "macierz15 != macierz16"
      ],
      "metadata": {
        "colab": {
          "base_uri": "https://localhost:8080/",
          "height": 0
        },
        "id": "_Ea2KP5_LvLW",
        "outputId": "beb547c1-9a01-4809-9cd4-d13a9d837cf5"
      },
      "execution_count": 63,
      "outputs": [
        {
          "output_type": "execute_result",
          "data": {
            "text/plain": [
              "array([[False,  True, False,  True],\n",
              "       [False,  True, False,  True]])"
            ]
          },
          "metadata": {},
          "execution_count": 63
        }
      ]
    },
    {
      "cell_type": "markdown",
      "source": [
        "      lub"
      ],
      "metadata": {
        "id": "LUhdpEw2LvIf"
      }
    },
    {
      "cell_type": "code",
      "source": [
        "np.not_equal(macierz15, macierz16)"
      ],
      "metadata": {
        "colab": {
          "base_uri": "https://localhost:8080/",
          "height": 0
        },
        "id": "VGmVvlfnLvFZ",
        "outputId": "c38ab2d2-ef62-47ac-c3c0-8482367b77c1"
      },
      "execution_count": 64,
      "outputs": [
        {
          "output_type": "execute_result",
          "data": {
            "text/plain": [
              "array([[False,  True, False,  True],\n",
              "       [False,  True, False,  True]])"
            ]
          },
          "metadata": {},
          "execution_count": 64
        }
      ]
    },
    {
      "cell_type": "markdown",
      "source": [
        "17) Stworzenie maski na macierzy"
      ],
      "metadata": {
        "id": "F2Qy_mQcNxVa"
      }
    },
    {
      "cell_type": "code",
      "source": [
        "macierz16"
      ],
      "metadata": {
        "colab": {
          "base_uri": "https://localhost:8080/",
          "height": 0
        },
        "id": "vmUyk9ktN34T",
        "outputId": "49043bcb-5940-434d-b562-933ee04da1dc"
      },
      "execution_count": 65,
      "outputs": [
        {
          "output_type": "execute_result",
          "data": {
            "text/plain": [
              "array([[1, 3, 3, 5],\n",
              "       [3, 5, 5, 7]])"
            ]
          },
          "metadata": {},
          "execution_count": 65
        }
      ]
    },
    {
      "cell_type": "code",
      "source": [
        "np.ma.array(macierz16, mask = [[False,  True, False,  True],\n",
        "                              [False,  True, False,  True]])                    # tam gdzie jest True w wyniku obliczeń wartość będzie niewidoczna"
      ],
      "metadata": {
        "colab": {
          "base_uri": "https://localhost:8080/",
          "height": 0
        },
        "id": "JZIvTgyBLtmK",
        "outputId": "80634f76-ce44-41ce-8763-9200dae0fa10"
      },
      "execution_count": 66,
      "outputs": [
        {
          "output_type": "execute_result",
          "data": {
            "text/plain": [
              "masked_array(\n",
              "  data=[[1, --, 3, --],\n",
              "        [3, --, 5, --]],\n",
              "  mask=[[False,  True, False,  True],\n",
              "        [False,  True, False,  True]],\n",
              "  fill_value=999999)"
            ]
          },
          "metadata": {},
          "execution_count": 66
        }
      ]
    },
    {
      "cell_type": "markdown",
      "source": [
        "18) Kopiowanie elementów jednego array i zastepowanie w drugim arrayu"
      ],
      "metadata": {
        "id": "oIOgauObMMRW"
      }
    },
    {
      "cell_type": "code",
      "source": [
        "wektor = np.array([1, 2, 3, 4, 5, 6])\n",
        "wektor"
      ],
      "metadata": {
        "colab": {
          "base_uri": "https://localhost:8080/",
          "height": 0
        },
        "id": "c776h4czMMN2",
        "outputId": "a7f12f2e-d165-4cb7-ecd8-bd986b330b55"
      },
      "execution_count": 67,
      "outputs": [
        {
          "output_type": "execute_result",
          "data": {
            "text/plain": [
              "array([1, 2, 3, 4, 5, 6])"
            ]
          },
          "metadata": {},
          "execution_count": 67
        }
      ]
    },
    {
      "cell_type": "code",
      "source": [
        "wektor1 = np.array([7, 8, 9, 10, 11, 12])\n",
        "wektor1"
      ],
      "metadata": {
        "colab": {
          "base_uri": "https://localhost:8080/",
          "height": 0
        },
        "id": "i3A6WyNnMMKj",
        "outputId": "82beeb86-eaf7-4d9c-d653-67963ec88667"
      },
      "execution_count": 68,
      "outputs": [
        {
          "output_type": "execute_result",
          "data": {
            "text/plain": [
              "array([ 7,  8,  9, 10, 11, 12])"
            ]
          },
          "metadata": {},
          "execution_count": 68
        }
      ]
    },
    {
      "cell_type": "code",
      "source": [
        "np.copyto(wektor, wektor1)\n",
        "wektor                                                                          # skopowiano wartości z wektor1 i zamieniono istniejace elementy w 'wektor' na te skopiowane"
      ],
      "metadata": {
        "colab": {
          "base_uri": "https://localhost:8080/",
          "height": 0
        },
        "id": "js7BZNpKMMHh",
        "outputId": "7866c177-79bc-48e4-c222-2eabcc92093d"
      },
      "execution_count": 69,
      "outputs": [
        {
          "output_type": "execute_result",
          "data": {
            "text/plain": [
              "array([ 7,  8,  9, 10, 11, 12])"
            ]
          },
          "metadata": {},
          "execution_count": 69
        }
      ]
    },
    {
      "cell_type": "markdown",
      "source": [
        "19) Zmiana wymiarów arrayu"
      ],
      "metadata": {
        "id": "s143TKiuMMFA"
      }
    },
    {
      "cell_type": "code",
      "source": [
        "wektor1"
      ],
      "metadata": {
        "colab": {
          "base_uri": "https://localhost:8080/",
          "height": 0
        },
        "id": "AwAW6VpmMMCC",
        "outputId": "5679e179-9216-4d89-a0c2-02cf6c7f6203"
      },
      "execution_count": 70,
      "outputs": [
        {
          "output_type": "execute_result",
          "data": {
            "text/plain": [
              "array([ 7,  8,  9, 10, 11, 12])"
            ]
          },
          "metadata": {},
          "execution_count": 70
        }
      ]
    },
    {
      "cell_type": "code",
      "source": [
        "np.reshape(wektor1, (2,3))                                                      # z wymiarów 1x6 zrobiono array 2x3"
      ],
      "metadata": {
        "colab": {
          "base_uri": "https://localhost:8080/",
          "height": 0
        },
        "id": "mlRIAnqaML-s",
        "outputId": "659797ca-7284-4208-815e-0c29c2b5008f"
      },
      "execution_count": 71,
      "outputs": [
        {
          "output_type": "execute_result",
          "data": {
            "text/plain": [
              "array([[ 7,  8,  9],\n",
              "       [10, 11, 12]])"
            ]
          },
          "metadata": {},
          "execution_count": 71
        }
      ]
    },
    {
      "cell_type": "markdown",
      "source": [
        "20) Warunek 'where'"
      ],
      "metadata": {
        "id": "mVHJbIXCV85S"
      }
    },
    {
      "cell_type": "code",
      "source": [
        "my_matrix = np.array([23, 45, 112, 150, 43, 254, 95, 8])\n",
        "my_matrix[np.where(my_matrix > 100)]                                            # fajny zapis, w tym wypadku otrzymamy wartosci wieksze od 10"
      ],
      "metadata": {
        "colab": {
          "base_uri": "https://localhost:8080/",
          "height": 0
        },
        "id": "xcgBw5q8V82Q",
        "outputId": "45933859-54c8-4cab-c9be-e763650a27c3"
      },
      "execution_count": 72,
      "outputs": [
        {
          "output_type": "execute_result",
          "data": {
            "text/plain": [
              "array([112, 150, 254])"
            ]
          },
          "metadata": {},
          "execution_count": 72
        }
      ]
    },
    {
      "cell_type": "markdown",
      "source": [
        "21) Odwracanie array 'flip'"
      ],
      "metadata": {
        "id": "MDhIWc-E6dRt"
      }
    },
    {
      "cell_type": "code",
      "source": [
        "wektor"
      ],
      "metadata": {
        "colab": {
          "base_uri": "https://localhost:8080/",
          "height": 0
        },
        "id": "gOdxRt9Z6dNo",
        "outputId": "d9ce71e8-1bd3-4302-fdcb-0b7b1d6a26d1"
      },
      "execution_count": 73,
      "outputs": [
        {
          "output_type": "execute_result",
          "data": {
            "text/plain": [
              "array([ 7,  8,  9, 10, 11, 12])"
            ]
          },
          "metadata": {},
          "execution_count": 73
        }
      ]
    },
    {
      "cell_type": "code",
      "source": [
        "np.flip(wektor)                                                                 # lub wektor[::-1]"
      ],
      "metadata": {
        "colab": {
          "base_uri": "https://localhost:8080/",
          "height": 0
        },
        "id": "YI8K46bl6wGd",
        "outputId": "00db5722-c3cc-4deb-af8c-dddecee796c1"
      },
      "execution_count": 74,
      "outputs": [
        {
          "output_type": "execute_result",
          "data": {
            "text/plain": [
              "array([12, 11, 10,  9,  8,  7])"
            ]
          },
          "metadata": {},
          "execution_count": 74
        }
      ]
    },
    {
      "cell_type": "markdown",
      "source": [
        "22) Wartości unikalne"
      ],
      "metadata": {
        "id": "GcJW4bV160zI"
      }
    },
    {
      "cell_type": "code",
      "source": [
        "macierz4"
      ],
      "metadata": {
        "colab": {
          "base_uri": "https://localhost:8080/",
          "height": 0
        },
        "id": "rFONOcK860v2",
        "outputId": "f1b12dcc-fd4c-4a67-d9d2-0a5a3c838b01"
      },
      "execution_count": 75,
      "outputs": [
        {
          "output_type": "execute_result",
          "data": {
            "text/plain": [
              "array([[ 0.,  5., 10.],\n",
              "       [10., 15., 20.]])"
            ]
          },
          "metadata": {},
          "execution_count": 75
        }
      ]
    },
    {
      "cell_type": "code",
      "source": [
        "np.unique(macierz4)"
      ],
      "metadata": {
        "colab": {
          "base_uri": "https://localhost:8080/",
          "height": 0
        },
        "id": "t8ox2Y2460sY",
        "outputId": "fe433004-7785-4269-9469-2304af0ebc8f"
      },
      "execution_count": 76,
      "outputs": [
        {
          "output_type": "execute_result",
          "data": {
            "text/plain": [
              "array([ 0.,  5., 10., 15., 20.])"
            ]
          },
          "metadata": {},
          "execution_count": 76
        }
      ]
    },
    {
      "cell_type": "markdown",
      "source": [
        "23) Spłaszczanie macierzy '.flatten', '.ravel', '.reshape(-1)'"
      ],
      "metadata": {
        "id": "E-z_nMt6CdUc"
      }
    },
    {
      "cell_type": "code",
      "source": [
        "macierz2"
      ],
      "metadata": {
        "colab": {
          "base_uri": "https://localhost:8080/",
          "height": 0
        },
        "id": "j-nwWaeTCgIn",
        "outputId": "49636687-7113-4513-e7cb-f7ed7ec2228e"
      },
      "execution_count": 77,
      "outputs": [
        {
          "output_type": "execute_result",
          "data": {
            "text/plain": [
              "array([[9, 5, 8],\n",
              "       [8, 5, 9]])"
            ]
          },
          "metadata": {},
          "execution_count": 77
        }
      ]
    },
    {
      "cell_type": "code",
      "source": [
        "macierz2.flatten()"
      ],
      "metadata": {
        "colab": {
          "base_uri": "https://localhost:8080/",
          "height": 0
        },
        "id": "F1F5BoOHClT7",
        "outputId": "6344cb77-7e1b-480d-8755-5c5b696bd718"
      },
      "execution_count": 78,
      "outputs": [
        {
          "output_type": "execute_result",
          "data": {
            "text/plain": [
              "array([9, 5, 8, 8, 5, 9])"
            ]
          },
          "metadata": {},
          "execution_count": 78
        }
      ]
    },
    {
      "cell_type": "markdown",
      "source": [
        "      lub"
      ],
      "metadata": {
        "id": "Garj7I4mDK9A"
      }
    },
    {
      "cell_type": "code",
      "source": [
        "macierz2.ravel()"
      ],
      "metadata": {
        "colab": {
          "base_uri": "https://localhost:8080/",
          "height": 0
        },
        "id": "J3D9s-n4C_iW",
        "outputId": "1d3660c6-d74f-4d52-8284-cdc16ed17307"
      },
      "execution_count": 79,
      "outputs": [
        {
          "output_type": "execute_result",
          "data": {
            "text/plain": [
              "array([9, 5, 8, 8, 5, 9])"
            ]
          },
          "metadata": {},
          "execution_count": 79
        }
      ]
    },
    {
      "cell_type": "markdown",
      "source": [
        "      lub"
      ],
      "metadata": {
        "id": "cvuZoat_DmfI"
      }
    },
    {
      "cell_type": "code",
      "source": [
        "macierz2.reshape(-1)"
      ],
      "metadata": {
        "colab": {
          "base_uri": "https://localhost:8080/",
          "height": 0
        },
        "id": "Z3jOOSHODnoS",
        "outputId": "40787cd5-f178-48c4-b296-4cce78a4520f"
      },
      "execution_count": 80,
      "outputs": [
        {
          "output_type": "execute_result",
          "data": {
            "text/plain": [
              "array([9, 5, 8, 8, 5, 9])"
            ]
          },
          "metadata": {},
          "execution_count": 80
        }
      ]
    },
    {
      "cell_type": "markdown",
      "source": [
        "24) Macierz transponowana "
      ],
      "metadata": {
        "id": "JXAMdugfGvD7"
      }
    },
    {
      "cell_type": "code",
      "source": [
        "macierz2                                                                        # macierz 2x3"
      ],
      "metadata": {
        "colab": {
          "base_uri": "https://localhost:8080/",
          "height": 0
        },
        "id": "S8s6mjAxG0ul",
        "outputId": "02401732-79be-43da-d8ca-99c316bf1188"
      },
      "execution_count": 81,
      "outputs": [
        {
          "output_type": "execute_result",
          "data": {
            "text/plain": [
              "array([[9, 5, 8],\n",
              "       [8, 5, 9]])"
            ]
          },
          "metadata": {},
          "execution_count": 81
        }
      ]
    },
    {
      "cell_type": "code",
      "source": [
        "macierz2.T                                                                      # macierz 3x2"
      ],
      "metadata": {
        "colab": {
          "base_uri": "https://localhost:8080/",
          "height": 0
        },
        "id": "UnPusaBkG2yx",
        "outputId": "acadffc5-3df6-4a46-c827-2e8a73ce36ec"
      },
      "execution_count": 82,
      "outputs": [
        {
          "output_type": "execute_result",
          "data": {
            "text/plain": [
              "array([[9, 8],\n",
              "       [5, 5],\n",
              "       [8, 9]])"
            ]
          },
          "metadata": {},
          "execution_count": 82
        }
      ]
    },
    {
      "cell_type": "markdown",
      "source": [
        "25) Tworzenie array z takimi samymi wierszami na podstawie array jednowymiarowego "
      ],
      "metadata": {
        "id": "vPmq5savH40N"
      }
    },
    {
      "cell_type": "code",
      "source": [
        "x = np.array([1, 2, 3])\n",
        "np.broadcast_to(x, (4, 3))"
      ],
      "metadata": {
        "colab": {
          "base_uri": "https://localhost:8080/",
          "height": 0
        },
        "id": "gWAvnvvaHv4L",
        "outputId": "504aec5f-5ab1-4d3b-f29c-d43a6784121f"
      },
      "execution_count": 83,
      "outputs": [
        {
          "output_type": "execute_result",
          "data": {
            "text/plain": [
              "array([[1, 2, 3],\n",
              "       [1, 2, 3],\n",
              "       [1, 2, 3],\n",
              "       [1, 2, 3]])"
            ]
          },
          "metadata": {},
          "execution_count": 83
        }
      ]
    },
    {
      "cell_type": "markdown",
      "source": [
        "26) Zamiana typu wartosci na 'float'"
      ],
      "metadata": {
        "id": "3YljrcVuJata"
      }
    },
    {
      "cell_type": "code",
      "source": [
        "macierz2"
      ],
      "metadata": {
        "colab": {
          "base_uri": "https://localhost:8080/",
          "height": 0
        },
        "id": "6wlm6inhJXM3",
        "outputId": "3bbdb86a-79f8-46b6-e7ad-dfb713c11824"
      },
      "execution_count": 84,
      "outputs": [
        {
          "output_type": "execute_result",
          "data": {
            "text/plain": [
              "array([[9, 5, 8],\n",
              "       [8, 5, 9]])"
            ]
          },
          "metadata": {},
          "execution_count": 84
        }
      ]
    },
    {
      "cell_type": "code",
      "source": [
        "np.asfarray(macierz2)"
      ],
      "metadata": {
        "colab": {
          "base_uri": "https://localhost:8080/",
          "height": 0
        },
        "id": "GS6RakE2JQnO",
        "outputId": "c392caae-9236-4e1d-b2ee-805657c554e2"
      },
      "execution_count": 85,
      "outputs": [
        {
          "output_type": "execute_result",
          "data": {
            "text/plain": [
              "array([[9., 5., 8.],\n",
              "       [8., 5., 9.]])"
            ]
          },
          "metadata": {},
          "execution_count": 85
        }
      ]
    },
    {
      "cell_type": "markdown",
      "source": [
        "27) Scalanie dwóch arrayów w jeden array - 'np.concatenate'\n",
        "\n",
        "\n",
        "\n"
      ],
      "metadata": {
        "id": "vrnZpiEGn0Zm"
      }
    },
    {
      "cell_type": "code",
      "source": [
        "macierz2"
      ],
      "metadata": {
        "colab": {
          "base_uri": "https://localhost:8080/",
          "height": 0
        },
        "id": "QjKPNE9fn8rp",
        "outputId": "ebbc399c-8ef4-4f59-f264-cf174098a5cd"
      },
      "execution_count": 86,
      "outputs": [
        {
          "output_type": "execute_result",
          "data": {
            "text/plain": [
              "array([[9, 5, 8],\n",
              "       [8, 5, 9]])"
            ]
          },
          "metadata": {},
          "execution_count": 86
        }
      ]
    },
    {
      "cell_type": "code",
      "source": [
        "macierz14"
      ],
      "metadata": {
        "colab": {
          "base_uri": "https://localhost:8080/",
          "height": 0
        },
        "id": "38SYxI9woznO",
        "outputId": "66947b2c-d04c-4ed7-8386-256be5c718b8"
      },
      "execution_count": 87,
      "outputs": [
        {
          "output_type": "execute_result",
          "data": {
            "text/plain": [
              "array([[0.75844951, 0.23326235, 0.36478079],\n",
              "       [0.7137344 , 0.70409249, 0.56610314],\n",
              "       [0.82664483, 0.01272024, 0.06077753]])"
            ]
          },
          "metadata": {},
          "execution_count": 87
        }
      ]
    },
    {
      "cell_type": "code",
      "source": [
        "np.concatenate((macierz2, macierz14), axis = 0)                                 # axis = 0 - dokłada wiersze"
      ],
      "metadata": {
        "colab": {
          "base_uri": "https://localhost:8080/",
          "height": 0
        },
        "id": "tuZb7nxLpJIw",
        "outputId": "14d6dcc9-4f1f-4d50-f342-d18020cfdde1"
      },
      "execution_count": 88,
      "outputs": [
        {
          "output_type": "execute_result",
          "data": {
            "text/plain": [
              "array([[9.        , 5.        , 8.        ],\n",
              "       [8.        , 5.        , 9.        ],\n",
              "       [0.75844951, 0.23326235, 0.36478079],\n",
              "       [0.7137344 , 0.70409249, 0.56610314],\n",
              "       [0.82664483, 0.01272024, 0.06077753]])"
            ]
          },
          "metadata": {},
          "execution_count": 88
        }
      ]
    },
    {
      "cell_type": "code",
      "source": [
        "np.concatenate((macierz2, macierz14), axis = None)                              # 'None' - działa jak flatten"
      ],
      "metadata": {
        "colab": {
          "base_uri": "https://localhost:8080/",
          "height": 0
        },
        "id": "LLUqvLOHpXGR",
        "outputId": "c7c7cf36-459e-4b22-c75c-c5a55f97ee88"
      },
      "execution_count": 89,
      "outputs": [
        {
          "output_type": "execute_result",
          "data": {
            "text/plain": [
              "array([9.        , 5.        , 8.        , 8.        , 5.        ,\n",
              "       9.        , 0.75844951, 0.23326235, 0.36478079, 0.7137344 ,\n",
              "       0.70409249, 0.56610314, 0.82664483, 0.01272024, 0.06077753])"
            ]
          },
          "metadata": {},
          "execution_count": 89
        }
      ]
    },
    {
      "cell_type": "code",
      "source": [
        "np.concatenate((macierz2, macierz2), axis = 1)                                  # axis = 1 - doklada kolumny"
      ],
      "metadata": {
        "colab": {
          "base_uri": "https://localhost:8080/",
          "height": 0
        },
        "id": "c0h4YQVTp5Bc",
        "outputId": "d204501f-395b-4d86-ab88-320846031a78"
      },
      "execution_count": 90,
      "outputs": [
        {
          "output_type": "execute_result",
          "data": {
            "text/plain": [
              "array([[9, 5, 8, 9, 5, 8],\n",
              "       [8, 5, 9, 8, 5, 9]])"
            ]
          },
          "metadata": {},
          "execution_count": 90
        }
      ]
    },
    {
      "cell_type": "markdown",
      "source": [
        "28) Podział tablicy na kilka podtablic"
      ],
      "metadata": {
        "id": "8zH5GgItrJgr"
      }
    },
    {
      "cell_type": "code",
      "source": [
        "wektor1"
      ],
      "metadata": {
        "colab": {
          "base_uri": "https://localhost:8080/",
          "height": 0
        },
        "id": "9vqeZFOmridh",
        "outputId": "850da325-b332-45fd-c202-256ba66ad61a"
      },
      "execution_count": 91,
      "outputs": [
        {
          "output_type": "execute_result",
          "data": {
            "text/plain": [
              "array([ 7,  8,  9, 10, 11, 12])"
            ]
          },
          "metadata": {},
          "execution_count": 91
        }
      ]
    },
    {
      "cell_type": "code",
      "source": [
        "np.split(wektor1, 2)                                                            # argument '2' - dzieli na 2 podtablice"
      ],
      "metadata": {
        "colab": {
          "base_uri": "https://localhost:8080/",
          "height": 0
        },
        "id": "dJVM3lyYrmKY",
        "outputId": "e2911206-3396-4503-f129-db48384bc654"
      },
      "execution_count": 92,
      "outputs": [
        {
          "output_type": "execute_result",
          "data": {
            "text/plain": [
              "[array([7, 8, 9]), array([10, 11, 12])]"
            ]
          },
          "metadata": {},
          "execution_count": 92
        }
      ]
    },
    {
      "cell_type": "code",
      "source": [
        "np.split(wektor1, [1, 3, 5])                                                    # argument jako lista dzieli po indexie"
      ],
      "metadata": {
        "colab": {
          "base_uri": "https://localhost:8080/",
          "height": 0
        },
        "id": "6gTFg-7isYeH",
        "outputId": "0b4ac882-f284-4644-944d-ac91bd52f99f"
      },
      "execution_count": 93,
      "outputs": [
        {
          "output_type": "execute_result",
          "data": {
            "text/plain": [
              "[array([7]), array([8, 9]), array([10, 11]), array([12])]"
            ]
          },
          "metadata": {},
          "execution_count": 93
        }
      ]
    },
    {
      "cell_type": "markdown",
      "source": [
        "29) Modyfikacja tablicy poprzez pwoeilenie wyjsciowej tablicy wzdłuż każdej osi"
      ],
      "metadata": {
        "id": "Ryrs8Oq0tTAF"
      }
    },
    {
      "cell_type": "code",
      "source": [
        "wektor1"
      ],
      "metadata": {
        "colab": {
          "base_uri": "https://localhost:8080/",
          "height": 0
        },
        "id": "4YjpRGScwRYV",
        "outputId": "418aaa23-5c0a-4846-92ab-ba03b44d9958"
      },
      "execution_count": 94,
      "outputs": [
        {
          "output_type": "execute_result",
          "data": {
            "text/plain": [
              "array([ 7,  8,  9, 10, 11, 12])"
            ]
          },
          "metadata": {},
          "execution_count": 94
        }
      ]
    },
    {
      "cell_type": "code",
      "source": [
        "np.tile(wektor1,(2,2))                                                          # zduplikowano wektor1 razy 2 po wierszach i razy 2 po kolumnach"
      ],
      "metadata": {
        "colab": {
          "base_uri": "https://localhost:8080/",
          "height": 0
        },
        "id": "8KW8XFM_wT50",
        "outputId": "7fb71273-e912-44ee-871a-64f68e1412a1"
      },
      "execution_count": 95,
      "outputs": [
        {
          "output_type": "execute_result",
          "data": {
            "text/plain": [
              "array([[ 7,  8,  9, 10, 11, 12,  7,  8,  9, 10, 11, 12],\n",
              "       [ 7,  8,  9, 10, 11, 12,  7,  8,  9, 10, 11, 12]])"
            ]
          },
          "metadata": {},
          "execution_count": 95
        }
      ]
    },
    {
      "cell_type": "markdown",
      "source": [
        "30) Usuwanie całych wierszy lub kolumn z tablicy wyjściowej"
      ],
      "metadata": {
        "id": "3RgaG4D_w-S6"
      }
    },
    {
      "cell_type": "code",
      "source": [
        "macierz13"
      ],
      "metadata": {
        "colab": {
          "base_uri": "https://localhost:8080/",
          "height": 0
        },
        "id": "R8IhQiMaxYdG",
        "outputId": "e634ec1a-883d-4ca9-ae8b-d7377d5f1f61"
      },
      "execution_count": 96,
      "outputs": [
        {
          "output_type": "execute_result",
          "data": {
            "text/plain": [
              "array([[0.11174765, 0.79127036, 0.30881042],\n",
              "       [0.20083941, 0.00212951, 0.95219964],\n",
              "       [0.79689646, 0.03188961, 0.74096449]])"
            ]
          },
          "metadata": {},
          "execution_count": 96
        }
      ]
    },
    {
      "cell_type": "code",
      "source": [
        "np.delete(macierz13,1,0)                                                        # Usunie 1 wiersz (pamietajac ze liczymy od 0), wiersz bo drugi argument to 0"
      ],
      "metadata": {
        "colab": {
          "base_uri": "https://localhost:8080/",
          "height": 0
        },
        "id": "nctcFyuxxm2j",
        "outputId": "ff91b7e9-8fb6-45d7-8d55-7f5a541d27fb"
      },
      "execution_count": 97,
      "outputs": [
        {
          "output_type": "execute_result",
          "data": {
            "text/plain": [
              "array([[0.11174765, 0.79127036, 0.30881042],\n",
              "       [0.79689646, 0.03188961, 0.74096449]])"
            ]
          },
          "metadata": {},
          "execution_count": 97
        }
      ]
    },
    {
      "cell_type": "code",
      "source": [
        "macierz13"
      ],
      "metadata": {
        "colab": {
          "base_uri": "https://localhost:8080/",
          "height": 0
        },
        "id": "WTWjfqH-zNmc",
        "outputId": "0b7536a0-0bd1-4806-acd1-fb8f5a7a4c6f"
      },
      "execution_count": 98,
      "outputs": [
        {
          "output_type": "execute_result",
          "data": {
            "text/plain": [
              "array([[0.11174765, 0.79127036, 0.30881042],\n",
              "       [0.20083941, 0.00212951, 0.95219964],\n",
              "       [0.79689646, 0.03188961, 0.74096449]])"
            ]
          },
          "metadata": {},
          "execution_count": 98
        }
      ]
    },
    {
      "cell_type": "code",
      "source": [
        "np.delete(macierz13,1,1)                                                        # Usunie 1 kolumne (pamietajac ze liczymy od 0), kolumne bo drugi argument to 1"
      ],
      "metadata": {
        "colab": {
          "base_uri": "https://localhost:8080/",
          "height": 0
        },
        "id": "_xRI_PL6xmxh",
        "outputId": "fa5fde0e-5967-41b9-d95c-a5c251a35312"
      },
      "execution_count": 99,
      "outputs": [
        {
          "output_type": "execute_result",
          "data": {
            "text/plain": [
              "array([[0.11174765, 0.30881042],\n",
              "       [0.20083941, 0.95219964],\n",
              "       [0.79689646, 0.74096449]])"
            ]
          },
          "metadata": {},
          "execution_count": 99
        }
      ]
    },
    {
      "cell_type": "markdown",
      "source": [
        "31) Dodawanie elementów do tablicy"
      ],
      "metadata": {
        "id": "IMbjGqcZ0taJ"
      }
    },
    {
      "cell_type": "code",
      "source": [
        "macierz13"
      ],
      "metadata": {
        "colab": {
          "base_uri": "https://localhost:8080/",
          "height": 0
        },
        "id": "HiPWGCoa05G4",
        "outputId": "170a4d02-4030-4b57-8e0d-8fe72e328cf7"
      },
      "execution_count": 100,
      "outputs": [
        {
          "output_type": "execute_result",
          "data": {
            "text/plain": [
              "array([[0.11174765, 0.79127036, 0.30881042],\n",
              "       [0.20083941, 0.00212951, 0.95219964],\n",
              "       [0.79689646, 0.03188961, 0.74096449]])"
            ]
          },
          "metadata": {},
          "execution_count": 100
        }
      ]
    },
    {
      "cell_type": "code",
      "source": [
        "np.insert(macierz13, (1, 3), 999, 0)                                            # doda 1 i 3 wiersz z elementami '999', wiersz bo ostatni argument to 0"
      ],
      "metadata": {
        "colab": {
          "base_uri": "https://localhost:8080/",
          "height": 0
        },
        "id": "79g-Yyah06gI",
        "outputId": "01ae3ef8-9324-455d-83b8-a5cdd0822229"
      },
      "execution_count": 101,
      "outputs": [
        {
          "output_type": "execute_result",
          "data": {
            "text/plain": [
              "array([[1.11747649e-01, 7.91270361e-01, 3.08810420e-01],\n",
              "       [9.99000000e+02, 9.99000000e+02, 9.99000000e+02],\n",
              "       [2.00839411e-01, 2.12950553e-03, 9.52199641e-01],\n",
              "       [7.96896458e-01, 3.18896054e-02, 7.40964491e-01],\n",
              "       [9.99000000e+02, 9.99000000e+02, 9.99000000e+02]])"
            ]
          },
          "metadata": {},
          "execution_count": 101
        }
      ]
    },
    {
      "cell_type": "code",
      "source": [
        "np.insert(macierz13, (1, 3), 999, 1)                                            # doda 1 i 3 kolumne z elementami '999', kolumne bo ostatni argument to 1"
      ],
      "metadata": {
        "colab": {
          "base_uri": "https://localhost:8080/",
          "height": 0
        },
        "id": "Ts8MNd4l1xnS",
        "outputId": "81816e48-03cd-4514-d753-9ca981cd1180"
      },
      "execution_count": 102,
      "outputs": [
        {
          "output_type": "execute_result",
          "data": {
            "text/plain": [
              "array([[1.11747649e-01, 9.99000000e+02, 7.91270361e-01, 3.08810420e-01,\n",
              "        9.99000000e+02],\n",
              "       [2.00839411e-01, 9.99000000e+02, 2.12950553e-03, 9.52199641e-01,\n",
              "        9.99000000e+02],\n",
              "       [7.96896458e-01, 9.99000000e+02, 3.18896054e-02, 7.40964491e-01,\n",
              "        9.99000000e+02]])"
            ]
          },
          "metadata": {},
          "execution_count": 102
        }
      ]
    },
    {
      "cell_type": "markdown",
      "source": [
        "32) Zmiana wymiarow tablicy, oraz uzupelnienie wartości jeśli brakuje, poprzez dupllikowanie od początku tablicy wyjściowej"
      ],
      "metadata": {
        "id": "56P8GiA70xYg"
      }
    },
    {
      "cell_type": "code",
      "source": [
        "wektor1"
      ],
      "metadata": {
        "colab": {
          "base_uri": "https://localhost:8080/",
          "height": 0
        },
        "id": "oY5BzpE16wzl",
        "outputId": "6cf74642-e21c-4bbe-82fa-e1967115bdae"
      },
      "execution_count": 103,
      "outputs": [
        {
          "output_type": "execute_result",
          "data": {
            "text/plain": [
              "array([ 7,  8,  9, 10, 11, 12])"
            ]
          },
          "metadata": {},
          "execution_count": 103
        }
      ]
    },
    {
      "cell_type": "code",
      "source": [
        "np.resize(wektor1,(2,4))                                                        # zrobi tablice 2x4 i doda brakujace elementy"
      ],
      "metadata": {
        "colab": {
          "base_uri": "https://localhost:8080/",
          "height": 0
        },
        "id": "vpFvWKnR6yzo",
        "outputId": "339f8849-bc7b-462e-8358-02ac5f647450"
      },
      "execution_count": 104,
      "outputs": [
        {
          "output_type": "execute_result",
          "data": {
            "text/plain": [
              "array([[ 7,  8,  9, 10],\n",
              "       [11, 12,  7,  8]])"
            ]
          },
          "metadata": {},
          "execution_count": 104
        }
      ]
    },
    {
      "cell_type": "markdown",
      "source": [
        "33) Usuwanie zer na początku i końcu tablicy"
      ],
      "metadata": {
        "id": "sS4W0OI77BVN"
      }
    },
    {
      "cell_type": "code",
      "source": [
        "a = np.array((0, 0, 0, 1, 2, 3, 0, 2, 1, 0))\n",
        "a"
      ],
      "metadata": {
        "colab": {
          "base_uri": "https://localhost:8080/",
          "height": 0
        },
        "id": "7NETRTMx7LbR",
        "outputId": "ce7a85d4-0097-4041-95ae-7ca40751249a"
      },
      "execution_count": 105,
      "outputs": [
        {
          "output_type": "execute_result",
          "data": {
            "text/plain": [
              "array([0, 0, 0, 1, 2, 3, 0, 2, 1, 0])"
            ]
          },
          "metadata": {},
          "execution_count": 105
        }
      ]
    },
    {
      "cell_type": "code",
      "source": [
        "np.trim_zeros(a)"
      ],
      "metadata": {
        "colab": {
          "base_uri": "https://localhost:8080/",
          "height": 0
        },
        "id": "JeuoxL2t7Nii",
        "outputId": "71a8afd3-23b4-4e6f-e486-430f7863a74c"
      },
      "execution_count": 106,
      "outputs": [
        {
          "output_type": "execute_result",
          "data": {
            "text/plain": [
              "array([1, 2, 3, 0, 2, 1])"
            ]
          },
          "metadata": {},
          "execution_count": 106
        }
      ]
    },
    {
      "cell_type": "markdown",
      "source": [
        "34) Przesuwanie elementów w tablicy"
      ],
      "metadata": {
        "id": "e8bhLYGI79vz"
      }
    },
    {
      "cell_type": "code",
      "source": [
        "macierz2"
      ],
      "metadata": {
        "colab": {
          "base_uri": "https://localhost:8080/",
          "height": 0
        },
        "id": "WPYQyjQX8C-2",
        "outputId": "c57d368b-f62e-4e9f-f66d-27bf44d014e1"
      },
      "execution_count": 107,
      "outputs": [
        {
          "output_type": "execute_result",
          "data": {
            "text/plain": [
              "array([[9, 5, 8],\n",
              "       [8, 5, 9]])"
            ]
          },
          "metadata": {},
          "execution_count": 107
        }
      ]
    },
    {
      "cell_type": "code",
      "source": [
        "np.roll(macierz2,-2)                                                            # przesuwa wszystkie elementy o 2 w lewo"
      ],
      "metadata": {
        "colab": {
          "base_uri": "https://localhost:8080/",
          "height": 0
        },
        "id": "EA54nZ0C8JDX",
        "outputId": "5329deb8-2e58-4580-a106-d633fbeaaa8c"
      },
      "execution_count": 108,
      "outputs": [
        {
          "output_type": "execute_result",
          "data": {
            "text/plain": [
              "array([[8, 8, 5],\n",
              "       [9, 9, 5]])"
            ]
          },
          "metadata": {},
          "execution_count": 108
        }
      ]
    },
    {
      "cell_type": "code",
      "source": [
        "np.roll(macierz2,1)                                                             # przesuwa wszystkie elementy o 2 w prawo"
      ],
      "metadata": {
        "colab": {
          "base_uri": "https://localhost:8080/",
          "height": 0
        },
        "id": "u7AWLR6d8Tqa",
        "outputId": "1c5b5043-9098-491b-fce0-cbd09450d803"
      },
      "execution_count": 109,
      "outputs": [
        {
          "output_type": "execute_result",
          "data": {
            "text/plain": [
              "array([[9, 9, 5],\n",
              "       [8, 8, 5]])"
            ]
          },
          "metadata": {},
          "execution_count": 109
        }
      ]
    },
    {
      "cell_type": "markdown",
      "source": [
        "35) Obracanie elementów tablicy o 90 stopni"
      ],
      "metadata": {
        "id": "bZVDuln78ijh"
      }
    },
    {
      "cell_type": "code",
      "source": [
        "macierz2"
      ],
      "metadata": {
        "colab": {
          "base_uri": "https://localhost:8080/",
          "height": 0
        },
        "id": "KFIIw4rC8m8h",
        "outputId": "93ebea29-e140-4e6d-93ff-15d8cfe52467"
      },
      "execution_count": 110,
      "outputs": [
        {
          "output_type": "execute_result",
          "data": {
            "text/plain": [
              "array([[9, 5, 8],\n",
              "       [8, 5, 9]])"
            ]
          },
          "metadata": {},
          "execution_count": 110
        }
      ]
    },
    {
      "cell_type": "code",
      "source": [
        "np.rot90(macierz2,1)                                                            # obróci tablice o 90 stopni w lewo"
      ],
      "metadata": {
        "colab": {
          "base_uri": "https://localhost:8080/",
          "height": 0
        },
        "id": "VmQU9Vz78oyJ",
        "outputId": "dc0799df-8d90-45b3-89d1-69a6f819cb45"
      },
      "execution_count": 111,
      "outputs": [
        {
          "output_type": "execute_result",
          "data": {
            "text/plain": [
              "array([[8, 9],\n",
              "       [5, 5],\n",
              "       [9, 8]])"
            ]
          },
          "metadata": {},
          "execution_count": 111
        }
      ]
    },
    {
      "cell_type": "code",
      "source": [
        "np.rot90(macierz2,2)                                                            # obróci tablice o 2x90 stopni w lewo"
      ],
      "metadata": {
        "colab": {
          "base_uri": "https://localhost:8080/",
          "height": 0
        },
        "id": "12gOFcxR81lh",
        "outputId": "9cc174be-44dc-4711-bb3a-8bc6954f35a9"
      },
      "execution_count": 112,
      "outputs": [
        {
          "output_type": "execute_result",
          "data": {
            "text/plain": [
              "array([[9, 5, 8],\n",
              "       [8, 5, 9]])"
            ]
          },
          "metadata": {},
          "execution_count": 112
        }
      ]
    },
    {
      "cell_type": "markdown",
      "source": [
        "36) Orzymanie przekatnej macierzy kwadratowej"
      ],
      "metadata": {
        "id": "ogm1IEewBfc-"
      }
    },
    {
      "cell_type": "code",
      "source": [
        "macierz17 = np.array([[1,2,3],\n",
        "                      [4,5,6],\n",
        "                      [7,8,9]])\n",
        "macierz17"
      ],
      "metadata": {
        "colab": {
          "base_uri": "https://localhost:8080/",
          "height": 0
        },
        "id": "aMWfmiUeBsXN",
        "outputId": "f4f99455-4da4-4138-9dbd-e6fa16c13154"
      },
      "execution_count": 113,
      "outputs": [
        {
          "output_type": "execute_result",
          "data": {
            "text/plain": [
              "array([[1, 2, 3],\n",
              "       [4, 5, 6],\n",
              "       [7, 8, 9]])"
            ]
          },
          "metadata": {},
          "execution_count": 113
        }
      ]
    },
    {
      "cell_type": "code",
      "source": [
        "np.diag(macierz17)"
      ],
      "metadata": {
        "colab": {
          "base_uri": "https://localhost:8080/",
          "height": 0
        },
        "id": "CeCoRvHbCAFy",
        "outputId": "f6461233-2738-42e6-94c8-5864c823e625"
      },
      "execution_count": 114,
      "outputs": [
        {
          "output_type": "execute_result",
          "data": {
            "text/plain": [
              "array([1, 5, 9])"
            ]
          },
          "metadata": {},
          "execution_count": 114
        }
      ]
    },
    {
      "cell_type": "markdown",
      "source": [
        "37) Kopiowanie tablicy"
      ],
      "metadata": {
        "id": "sBCUmbV7CGTH"
      }
    },
    {
      "cell_type": "code",
      "source": [
        "macierz17"
      ],
      "metadata": {
        "colab": {
          "base_uri": "https://localhost:8080/",
          "height": 0
        },
        "id": "wIRQgfUOCI2Q",
        "outputId": "9dff06a2-fc07-45a1-dfc5-33917467f846"
      },
      "execution_count": 115,
      "outputs": [
        {
          "output_type": "execute_result",
          "data": {
            "text/plain": [
              "array([[1, 2, 3],\n",
              "       [4, 5, 6],\n",
              "       [7, 8, 9]])"
            ]
          },
          "metadata": {},
          "execution_count": 115
        }
      ]
    },
    {
      "cell_type": "code",
      "source": [
        "macierz18 = np.copy(macierz17)\n",
        "macierz18"
      ],
      "metadata": {
        "colab": {
          "base_uri": "https://localhost:8080/",
          "height": 0
        },
        "id": "QuwQH4cPCKhn",
        "outputId": "8f13abcc-b066-4846-c3a3-7200d3a3540b"
      },
      "execution_count": 116,
      "outputs": [
        {
          "output_type": "execute_result",
          "data": {
            "text/plain": [
              "array([[1, 2, 3],\n",
              "       [4, 5, 6],\n",
              "       [7, 8, 9]])"
            ]
          },
          "metadata": {},
          "execution_count": 116
        }
      ]
    },
    {
      "cell_type": "markdown",
      "source": [
        "38) sortowanie tablicy"
      ],
      "metadata": {
        "id": "C3MDNgeiFQq9"
      }
    },
    {
      "cell_type": "code",
      "source": [
        "macierz18 = np.array([[1,4],[3,1]])\n",
        "macierz18"
      ],
      "metadata": {
        "colab": {
          "base_uri": "https://localhost:8080/",
          "height": 0
        },
        "id": "MPwrfznIFS7o",
        "outputId": "316b163d-6f81-41a1-d055-e765c759fddd"
      },
      "execution_count": 117,
      "outputs": [
        {
          "output_type": "execute_result",
          "data": {
            "text/plain": [
              "array([[1, 4],\n",
              "       [3, 1]])"
            ]
          },
          "metadata": {},
          "execution_count": 117
        }
      ]
    },
    {
      "cell_type": "code",
      "source": [
        "np.sort(macierz18)                                                              # Sortuje kazdy wiersz od najmniejsze do najwiekszej wartosci"
      ],
      "metadata": {
        "colab": {
          "base_uri": "https://localhost:8080/",
          "height": 0
        },
        "id": "pjVCvavsFnTP",
        "outputId": "b274ec65-7ce2-4dbd-82cc-93b87a35b154"
      },
      "execution_count": 118,
      "outputs": [
        {
          "output_type": "execute_result",
          "data": {
            "text/plain": [
              "array([[1, 4],\n",
              "       [1, 3]])"
            ]
          },
          "metadata": {},
          "execution_count": 118
        }
      ]
    },
    {
      "cell_type": "markdown",
      "source": [
        "39) Powtarzanie elementów tablicy - 'repeat'"
      ],
      "metadata": {
        "id": "jap0X8AyFhSL"
      }
    },
    {
      "cell_type": "code",
      "source": [
        "macierz18"
      ],
      "metadata": {
        "colab": {
          "base_uri": "https://localhost:8080/",
          "height": 0
        },
        "id": "-QbSYHQFFk_F",
        "outputId": "735ec5fe-d165-4374-ff16-81cae0e356b0"
      },
      "execution_count": 179,
      "outputs": [
        {
          "output_type": "execute_result",
          "data": {
            "text/plain": [
              "array([[1, 4],\n",
              "       [3, 1]])"
            ]
          },
          "metadata": {},
          "execution_count": 179
        }
      ]
    },
    {
      "cell_type": "code",
      "source": [
        "np.repeat(macierz18, 3)                                                         # jesli nie podamy 3 argumentu 'axis' to funkcja powtórzy i zrobi splaszczenie tablicy"
      ],
      "metadata": {
        "colab": {
          "base_uri": "https://localhost:8080/",
          "height": 0
        },
        "id": "CT0dMr6BFyqm",
        "outputId": "ee29b4e9-13dd-4654-ba78-7bf3e8484048"
      },
      "execution_count": 183,
      "outputs": [
        {
          "output_type": "execute_result",
          "data": {
            "text/plain": [
              "array([1, 1, 1, 4, 4, 4, 3, 3, 3, 1, 1, 1])"
            ]
          },
          "metadata": {},
          "execution_count": 183
        }
      ]
    },
    {
      "cell_type": "code",
      "source": [
        "np.repeat(macierz18,3, axis = 0)                                                # dla axis = 0, powtórzy po wierszach"
      ],
      "metadata": {
        "colab": {
          "base_uri": "https://localhost:8080/",
          "height": 0
        },
        "id": "Lb2_XdVkGM8p",
        "outputId": "4c722721-8cd3-462f-f6c7-34c1b2f37d30"
      },
      "execution_count": 184,
      "outputs": [
        {
          "output_type": "execute_result",
          "data": {
            "text/plain": [
              "array([[1, 4],\n",
              "       [1, 4],\n",
              "       [1, 4],\n",
              "       [3, 1],\n",
              "       [3, 1],\n",
              "       [3, 1]])"
            ]
          },
          "metadata": {},
          "execution_count": 184
        }
      ]
    },
    {
      "cell_type": "code",
      "source": [
        "np.repeat(macierz18, 4, axis = 1)                                               # dla axis = 1, powtórzy po kolumnach"
      ],
      "metadata": {
        "colab": {
          "base_uri": "https://localhost:8080/",
          "height": 0
        },
        "id": "2rYLWjl_GhLt",
        "outputId": "4b1b45e7-f555-4d58-90a4-b6a5998f0c8e"
      },
      "execution_count": 186,
      "outputs": [
        {
          "output_type": "execute_result",
          "data": {
            "text/plain": [
              "array([[1, 1, 1, 1, 4, 4, 4, 4],\n",
              "       [3, 3, 3, 3, 1, 1, 1, 1]])"
            ]
          },
          "metadata": {},
          "execution_count": 186
        }
      ]
    },
    {
      "cell_type": "markdown",
      "source": [
        "#**Dostęp do elementów**"
      ],
      "metadata": {
        "id": "XToTIBn_Ldc9"
      }
    },
    {
      "cell_type": "markdown",
      "source": [
        "Wektor/macierz ma swoje indeksy, należy pamiętać że liczone są od 0!"
      ],
      "metadata": {
        "id": "pb1bF-gYLlx5"
      }
    },
    {
      "cell_type": "code",
      "source": [
        "macierz3"
      ],
      "metadata": {
        "colab": {
          "base_uri": "https://localhost:8080/",
          "height": 0
        },
        "id": "GCAjF7iJLlVq",
        "outputId": "30710f36-a042-4405-84b1-1fb4d4251a6c"
      },
      "execution_count": 120,
      "outputs": [
        {
          "output_type": "execute_result",
          "data": {
            "text/plain": [
              "array([[ 0,  3,  6,  9],\n",
              "       [10, 13, 16, 19]])"
            ]
          },
          "metadata": {},
          "execution_count": 120
        }
      ]
    },
    {
      "cell_type": "code",
      "source": [
        "macierz3[0][0]                                                                  # element z 0-go wiersz i 0-go kolumny"
      ],
      "metadata": {
        "colab": {
          "base_uri": "https://localhost:8080/",
          "height": 0
        },
        "id": "xrFMq-yXLjEZ",
        "outputId": "1703372b-e5d2-4d58-f57e-c48ef23c641c"
      },
      "execution_count": 121,
      "outputs": [
        {
          "output_type": "execute_result",
          "data": {
            "text/plain": [
              "0"
            ]
          },
          "metadata": {},
          "execution_count": 121
        }
      ]
    },
    {
      "cell_type": "markdown",
      "source": [
        "      lub"
      ],
      "metadata": {
        "id": "DrxwEtXjMAq0"
      }
    },
    {
      "cell_type": "code",
      "source": [
        "macierz3[0,0]                                                                   # element z 0-go wiersz i 0-go kolumny"
      ],
      "metadata": {
        "colab": {
          "base_uri": "https://localhost:8080/",
          "height": 0
        },
        "id": "IsduuaxRLjB7",
        "outputId": "877824c2-6cc5-4366-f88b-bf7bb6aae338"
      },
      "execution_count": 122,
      "outputs": [
        {
          "output_type": "execute_result",
          "data": {
            "text/plain": [
              "0"
            ]
          },
          "metadata": {},
          "execution_count": 122
        }
      ]
    },
    {
      "cell_type": "code",
      "source": [
        "macierz9"
      ],
      "metadata": {
        "colab": {
          "base_uri": "https://localhost:8080/",
          "height": 0
        },
        "id": "S-NveKieLi_I",
        "outputId": "40e3ed5b-781f-4ac3-e5c0-8e2e18b4643e"
      },
      "execution_count": 123,
      "outputs": [
        {
          "output_type": "execute_result",
          "data": {
            "text/plain": [
              "array([[0.41150122, 0.42509761, 0.8850055 , 0.69167055, 0.74266158],\n",
              "       [0.76296918, 0.06539807, 0.76579257, 0.71309467, 0.95559277],\n",
              "       [0.67480664, 0.92405208, 0.715767  , 0.6274011 , 0.07732449],\n",
              "       [0.87832953, 0.24445271, 0.47910888, 0.99343768, 0.89706667],\n",
              "       [0.58782477, 0.00429302, 0.19372607, 0.06128244, 0.74677324]])"
            ]
          },
          "metadata": {},
          "execution_count": 123
        }
      ]
    },
    {
      "cell_type": "code",
      "source": [
        "macierz9[1]                                                                     # wyswietli 1 wiersz(liczymy od 0) lub zapis: macierz9[1,:]"
      ],
      "metadata": {
        "colab": {
          "base_uri": "https://localhost:8080/",
          "height": 0
        },
        "id": "lS4JFHK3Li8J",
        "outputId": "c23cdeb5-80eb-4a5d-b294-8d1562165f1a"
      },
      "execution_count": 124,
      "outputs": [
        {
          "output_type": "execute_result",
          "data": {
            "text/plain": [
              "array([0.76296918, 0.06539807, 0.76579257, 0.71309467, 0.95559277])"
            ]
          },
          "metadata": {},
          "execution_count": 124
        }
      ]
    },
    {
      "cell_type": "code",
      "source": [
        "macierz9[:,1]                                                                   # wyswietli 1 kolumne(czyli druga bo pamietamy ze kolumna pierwsza to zerowa)"
      ],
      "metadata": {
        "colab": {
          "base_uri": "https://localhost:8080/",
          "height": 0
        },
        "id": "pXeaogIWLi4J",
        "outputId": "ea05e6ee-13ff-4d9f-84c7-1d8219644ced"
      },
      "execution_count": 125,
      "outputs": [
        {
          "output_type": "execute_result",
          "data": {
            "text/plain": [
              "array([0.42509761, 0.06539807, 0.92405208, 0.24445271, 0.00429302])"
            ]
          },
          "metadata": {},
          "execution_count": 125
        }
      ]
    },
    {
      "cell_type": "markdown",
      "source": [
        "Mogą być różne kombinacje:"
      ],
      "metadata": {
        "id": "MsP3YQotOSJb"
      }
    },
    {
      "cell_type": "code",
      "source": [
        "macierz9[2:,:3]                                                                 # wyswietli macierz od 2 wiersza, ale tylko dla kolumn od 0 do 3)"
      ],
      "metadata": {
        "colab": {
          "base_uri": "https://localhost:8080/",
          "height": 0
        },
        "id": "rGJ1vq0HLior",
        "outputId": "53dbe6fb-6229-4a63-af54-b4e61f31fdb2"
      },
      "execution_count": 126,
      "outputs": [
        {
          "output_type": "execute_result",
          "data": {
            "text/plain": [
              "array([[0.67480664, 0.92405208, 0.715767  ],\n",
              "       [0.87832953, 0.24445271, 0.47910888],\n",
              "       [0.58782477, 0.00429302, 0.19372607]])"
            ]
          },
          "metadata": {},
          "execution_count": 126
        }
      ]
    },
    {
      "cell_type": "markdown",
      "source": [
        "Można również użyć metody 'flat' którwyswietli nam element który wskażemy licząć od 0 wiersz po wierszu w sposób ciągły"
      ],
      "metadata": {
        "id": "HXa00Ih6D9OL"
      }
    },
    {
      "cell_type": "code",
      "source": [
        "macierz9"
      ],
      "metadata": {
        "colab": {
          "base_uri": "https://localhost:8080/",
          "height": 0
        },
        "id": "LJMJ5KDbEL2q",
        "outputId": "7c9ce55c-2afd-4fbc-c1fd-6367f53654ee"
      },
      "execution_count": 127,
      "outputs": [
        {
          "output_type": "execute_result",
          "data": {
            "text/plain": [
              "array([[0.41150122, 0.42509761, 0.8850055 , 0.69167055, 0.74266158],\n",
              "       [0.76296918, 0.06539807, 0.76579257, 0.71309467, 0.95559277],\n",
              "       [0.67480664, 0.92405208, 0.715767  , 0.6274011 , 0.07732449],\n",
              "       [0.87832953, 0.24445271, 0.47910888, 0.99343768, 0.89706667],\n",
              "       [0.58782477, 0.00429302, 0.19372607, 0.06128244, 0.74677324]])"
            ]
          },
          "metadata": {},
          "execution_count": 127
        }
      ]
    },
    {
      "cell_type": "code",
      "source": [
        "macierz9.flat[9]"
      ],
      "metadata": {
        "colab": {
          "base_uri": "https://localhost:8080/",
          "height": 0
        },
        "id": "Wt5a8OGPEQ5W",
        "outputId": "6d417a0c-8ffb-4c44-921e-fe3a51b0051d"
      },
      "execution_count": 128,
      "outputs": [
        {
          "output_type": "execute_result",
          "data": {
            "text/plain": [
              "0.9555927747896228"
            ]
          },
          "metadata": {},
          "execution_count": 128
        }
      ]
    },
    {
      "cell_type": "markdown",
      "source": [
        "Można za pomocą tej metody zamieniąć wartości elementów\n",
        "\n",
        "\n"
      ],
      "metadata": {
        "id": "wo26PREREZXU"
      }
    },
    {
      "cell_type": "code",
      "source": [
        "macierz9"
      ],
      "metadata": {
        "colab": {
          "base_uri": "https://localhost:8080/",
          "height": 0
        },
        "id": "uXGS8964Ej0U",
        "outputId": "012c827a-bd57-402d-9b1a-c4d07ca23864"
      },
      "execution_count": 129,
      "outputs": [
        {
          "output_type": "execute_result",
          "data": {
            "text/plain": [
              "array([[0.41150122, 0.42509761, 0.8850055 , 0.69167055, 0.74266158],\n",
              "       [0.76296918, 0.06539807, 0.76579257, 0.71309467, 0.95559277],\n",
              "       [0.67480664, 0.92405208, 0.715767  , 0.6274011 , 0.07732449],\n",
              "       [0.87832953, 0.24445271, 0.47910888, 0.99343768, 0.89706667],\n",
              "       [0.58782477, 0.00429302, 0.19372607, 0.06128244, 0.74677324]])"
            ]
          },
          "metadata": {},
          "execution_count": 129
        }
      ]
    },
    {
      "cell_type": "code",
      "source": [
        "macierz9.flat = 9\n",
        "macierz9"
      ],
      "metadata": {
        "colab": {
          "base_uri": "https://localhost:8080/",
          "height": 0
        },
        "id": "F_mfU7K-Emmk",
        "outputId": "0bd87a93-6af7-4944-e570-37adc14666d0"
      },
      "execution_count": 130,
      "outputs": [
        {
          "output_type": "execute_result",
          "data": {
            "text/plain": [
              "array([[9., 9., 9., 9., 9.],\n",
              "       [9., 9., 9., 9., 9.],\n",
              "       [9., 9., 9., 9., 9.],\n",
              "       [9., 9., 9., 9., 9.],\n",
              "       [9., 9., 9., 9., 9.]])"
            ]
          },
          "metadata": {},
          "execution_count": 130
        }
      ]
    },
    {
      "cell_type": "code",
      "source": [
        "macierz9.flat[[3, 8, 13, 18, 23]] = 4\n",
        "macierz9"
      ],
      "metadata": {
        "colab": {
          "base_uri": "https://localhost:8080/",
          "height": 0
        },
        "id": "JaXWloyqEtvX",
        "outputId": "c141555f-99e0-4614-fb80-1e69c63a437f"
      },
      "execution_count": 131,
      "outputs": [
        {
          "output_type": "execute_result",
          "data": {
            "text/plain": [
              "array([[9., 9., 9., 4., 9.],\n",
              "       [9., 9., 9., 4., 9.],\n",
              "       [9., 9., 9., 4., 9.],\n",
              "       [9., 9., 9., 4., 9.],\n",
              "       [9., 9., 9., 4., 9.]])"
            ]
          },
          "metadata": {},
          "execution_count": 131
        }
      ]
    },
    {
      "cell_type": "markdown",
      "source": [
        "Można również wyświetlać elementy tylko spełniające podany warunek"
      ],
      "metadata": {
        "id": "vVIeAzRVGIx3"
      }
    },
    {
      "cell_type": "code",
      "source": [
        "macierz2"
      ],
      "metadata": {
        "colab": {
          "base_uri": "https://localhost:8080/",
          "height": 0
        },
        "id": "kRnVqAXKGSR-",
        "outputId": "d6452c4a-9585-4efb-9b2d-7fd3418a901f"
      },
      "execution_count": 187,
      "outputs": [
        {
          "output_type": "execute_result",
          "data": {
            "text/plain": [
              "array([[9, 5, 8],\n",
              "       [8, 5, 9]])"
            ]
          },
          "metadata": {},
          "execution_count": 187
        }
      ]
    },
    {
      "cell_type": "code",
      "source": [
        "macierz2[macierz2 % 2 == 0]"
      ],
      "metadata": {
        "colab": {
          "base_uri": "https://localhost:8080/",
          "height": 0
        },
        "id": "SBuebWtgHhTM",
        "outputId": "6ae452c4-d171-4d7a-a176-3772741c7ff8"
      },
      "execution_count": 194,
      "outputs": [
        {
          "output_type": "execute_result",
          "data": {
            "text/plain": [
              "array([8, 8])"
            ]
          },
          "metadata": {},
          "execution_count": 194
        }
      ]
    },
    {
      "cell_type": "markdown",
      "source": [
        "#**Operacje na macierzach/wektorach**"
      ],
      "metadata": {
        "id": "YqawyotkLNd3"
      }
    },
    {
      "cell_type": "markdown",
      "source": [
        "1) Dodawanie - należy pamietać żeby macierze wektory były tych samych wymiarów"
      ],
      "metadata": {
        "id": "bZLEKhHrPOxo"
      }
    },
    {
      "cell_type": "code",
      "source": [
        "macierz10 = np.random.random((3,3))                                             # macierz 3x3\n",
        "macierz11 = np.random.random((3,3))                                             # macierz 3x3"
      ],
      "metadata": {
        "id": "nXwoRUsDLT6R"
      },
      "execution_count": 132,
      "outputs": []
    },
    {
      "cell_type": "code",
      "source": [
        "macierz10"
      ],
      "metadata": {
        "colab": {
          "base_uri": "https://localhost:8080/",
          "height": 0
        },
        "id": "km784RdnPSWH",
        "outputId": "c7f066ce-f863-42c6-e0f0-025b8d3c903d"
      },
      "execution_count": 133,
      "outputs": [
        {
          "output_type": "execute_result",
          "data": {
            "text/plain": [
              "array([[0.54545807, 0.37039319, 0.64493252],\n",
              "       [0.65274105, 0.89700409, 0.39628136],\n",
              "       [0.3726587 , 0.25083959, 0.41603753]])"
            ]
          },
          "metadata": {},
          "execution_count": 133
        }
      ]
    },
    {
      "cell_type": "code",
      "source": [
        "macierz11"
      ],
      "metadata": {
        "colab": {
          "base_uri": "https://localhost:8080/",
          "height": 0
        },
        "id": "NTdRmrtFPzAD",
        "outputId": "1956f1e2-e987-4766-bbb1-05cc8909a334"
      },
      "execution_count": 134,
      "outputs": [
        {
          "output_type": "execute_result",
          "data": {
            "text/plain": [
              "array([[0.78319583, 0.43680837, 0.29809359],\n",
              "       [0.29815416, 0.21589895, 0.93818377],\n",
              "       [0.9424727 , 0.1153501 , 0.80431824]])"
            ]
          },
          "metadata": {},
          "execution_count": 134
        }
      ]
    },
    {
      "cell_type": "code",
      "source": [
        "macierz10 + macierz11"
      ],
      "metadata": {
        "colab": {
          "base_uri": "https://localhost:8080/",
          "height": 0
        },
        "id": "7hcRb26zP1KR",
        "outputId": "850bd658-d2b5-482c-cfa5-6a6973f650dc"
      },
      "execution_count": 135,
      "outputs": [
        {
          "output_type": "execute_result",
          "data": {
            "text/plain": [
              "array([[1.3286539 , 0.80720156, 0.94302611],\n",
              "       [0.95089521, 1.11290303, 1.33446513],\n",
              "       [1.3151314 , 0.36618969, 1.22035578]])"
            ]
          },
          "metadata": {},
          "execution_count": 135
        }
      ]
    },
    {
      "cell_type": "markdown",
      "source": [
        "      lub"
      ],
      "metadata": {
        "id": "ql3PpxNmP5n3"
      }
    },
    {
      "cell_type": "code",
      "source": [
        "np.add(macierz10, macierz11)"
      ],
      "metadata": {
        "colab": {
          "base_uri": "https://localhost:8080/",
          "height": 0
        },
        "id": "dpGG6cAbP4eK",
        "outputId": "6966abf9-9fd7-48dc-92a6-43b1db18cbe1"
      },
      "execution_count": 136,
      "outputs": [
        {
          "output_type": "execute_result",
          "data": {
            "text/plain": [
              "array([[1.3286539 , 0.80720156, 0.94302611],\n",
              "       [0.95089521, 1.11290303, 1.33446513],\n",
              "       [1.3151314 , 0.36618969, 1.22035578]])"
            ]
          },
          "metadata": {},
          "execution_count": 136
        }
      ]
    },
    {
      "cell_type": "markdown",
      "source": [
        "2) Odejmowanie"
      ],
      "metadata": {
        "id": "9vz4CIqjQN-O"
      }
    },
    {
      "cell_type": "code",
      "source": [
        "macierz10 - macierz11"
      ],
      "metadata": {
        "colab": {
          "base_uri": "https://localhost:8080/",
          "height": 0
        },
        "id": "MxVrR_ZEQK3R",
        "outputId": "53b94905-f42d-4246-e8b6-fd26da289248"
      },
      "execution_count": 137,
      "outputs": [
        {
          "output_type": "execute_result",
          "data": {
            "text/plain": [
              "array([[-0.23773776, -0.06641518,  0.34683893],\n",
              "       [ 0.35458689,  0.68110514, -0.54190241],\n",
              "       [-0.569814  ,  0.13548949, -0.38828071]])"
            ]
          },
          "metadata": {},
          "execution_count": 137
        }
      ]
    },
    {
      "cell_type": "code",
      "source": [
        "np.subtract(macierz10, macierz11)"
      ],
      "metadata": {
        "colab": {
          "base_uri": "https://localhost:8080/",
          "height": 0
        },
        "id": "wlb9Udx1QVLL",
        "outputId": "054f3151-fee2-4e6c-cea4-54d380b8019e"
      },
      "execution_count": 138,
      "outputs": [
        {
          "output_type": "execute_result",
          "data": {
            "text/plain": [
              "array([[-0.23773776, -0.06641518,  0.34683893],\n",
              "       [ 0.35458689,  0.68110514, -0.54190241],\n",
              "       [-0.569814  ,  0.13548949, -0.38828071]])"
            ]
          },
          "metadata": {},
          "execution_count": 138
        }
      ]
    },
    {
      "cell_type": "markdown",
      "source": [
        "3) Mnożenie miedzy sobą"
      ],
      "metadata": {
        "id": "AJnLZYFqQjaB"
      }
    },
    {
      "cell_type": "code",
      "source": [
        "macierz10 * macierz11"
      ],
      "metadata": {
        "colab": {
          "base_uri": "https://localhost:8080/",
          "height": 0
        },
        "id": "rK5wCKY0QYl0",
        "outputId": "c73de99e-9880-4607-8776-5c66ba67c27e"
      },
      "execution_count": 139,
      "outputs": [
        {
          "output_type": "execute_result",
          "data": {
            "text/plain": [
              "array([[0.42720049, 0.16179085, 0.19225025],\n",
              "       [0.19461746, 0.19366224, 0.37178474],\n",
              "       [0.35122065, 0.02893437, 0.33462658]])"
            ]
          },
          "metadata": {},
          "execution_count": 139
        }
      ]
    },
    {
      "cell_type": "code",
      "source": [
        "np.multiply(macierz10, macierz11)"
      ],
      "metadata": {
        "colab": {
          "base_uri": "https://localhost:8080/",
          "height": 0
        },
        "id": "6sYIr9KeQp5h",
        "outputId": "36697c6f-b6fa-48bc-9d89-456bb683d565"
      },
      "execution_count": 140,
      "outputs": [
        {
          "output_type": "execute_result",
          "data": {
            "text/plain": [
              "array([[0.42720049, 0.16179085, 0.19225025],\n",
              "       [0.19461746, 0.19366224, 0.37178474],\n",
              "       [0.35122065, 0.02893437, 0.33462658]])"
            ]
          },
          "metadata": {},
          "execution_count": 140
        }
      ]
    },
    {
      "cell_type": "markdown",
      "source": [
        "4) Mnożenie przez liczbę"
      ],
      "metadata": {
        "id": "-sL0BvLiQzfI"
      }
    },
    {
      "cell_type": "code",
      "source": [
        "macierz10 * 5"
      ],
      "metadata": {
        "colab": {
          "base_uri": "https://localhost:8080/",
          "height": 0
        },
        "id": "4x5I8c69Q9dm",
        "outputId": "4598e9ae-b06f-4937-9cb3-bd2a64f63c81"
      },
      "execution_count": 141,
      "outputs": [
        {
          "output_type": "execute_result",
          "data": {
            "text/plain": [
              "array([[2.72729035, 1.85196595, 3.2246626 ],\n",
              "       [3.26370524, 4.48502044, 1.98140679],\n",
              "       [1.86329351, 1.25419793, 2.08018766]])"
            ]
          },
          "metadata": {},
          "execution_count": 141
        }
      ]
    },
    {
      "cell_type": "code",
      "source": [
        "np.multiply(macierz10, 5)"
      ],
      "metadata": {
        "colab": {
          "base_uri": "https://localhost:8080/",
          "height": 0
        },
        "id": "QplVzsiaRXq8",
        "outputId": "c5b386a1-28cf-4c4c-e93b-5b7acaaa9139"
      },
      "execution_count": 142,
      "outputs": [
        {
          "output_type": "execute_result",
          "data": {
            "text/plain": [
              "array([[2.72729035, 1.85196595, 3.2246626 ],\n",
              "       [3.26370524, 4.48502044, 1.98140679],\n",
              "       [1.86329351, 1.25419793, 2.08018766]])"
            ]
          },
          "metadata": {},
          "execution_count": 142
        }
      ]
    },
    {
      "cell_type": "code",
      "source": [
        "np.exp(macierz10)"
      ],
      "metadata": {
        "colab": {
          "base_uri": "https://localhost:8080/",
          "height": 0
        },
        "id": "699-Rcv8Razt",
        "outputId": "f5f0094a-49a2-4ac0-b83e-7b2ce359feb6"
      },
      "execution_count": 143,
      "outputs": [
        {
          "output_type": "execute_result",
          "data": {
            "text/plain": [
              "array([[1.72539855, 1.44830396, 1.90585842],\n",
              "       [1.92079862, 2.45224538, 1.48628744],\n",
              "       [1.45158883, 1.28510392, 1.51594276]])"
            ]
          },
          "metadata": {},
          "execution_count": 143
        }
      ]
    },
    {
      "cell_type": "code",
      "source": [
        "macierz10"
      ],
      "metadata": {
        "colab": {
          "base_uri": "https://localhost:8080/",
          "height": 0
        },
        "id": "Ek6uP-j4RpXR",
        "outputId": "4deb44bb-2e08-476f-e947-8a6ad139b3f6"
      },
      "execution_count": 144,
      "outputs": [
        {
          "output_type": "execute_result",
          "data": {
            "text/plain": [
              "array([[0.54545807, 0.37039319, 0.64493252],\n",
              "       [0.65274105, 0.89700409, 0.39628136],\n",
              "       [0.3726587 , 0.25083959, 0.41603753]])"
            ]
          },
          "metadata": {},
          "execution_count": 144
        }
      ]
    },
    {
      "cell_type": "markdown",
      "source": [
        "5) Dzielenie miedzy sobą"
      ],
      "metadata": {
        "id": "ykzoQjYqSABw"
      }
    },
    {
      "cell_type": "code",
      "source": [
        "macierz10 / macierz11"
      ],
      "metadata": {
        "colab": {
          "base_uri": "https://localhost:8080/",
          "height": 0
        },
        "id": "-2ucUt9qS_7O",
        "outputId": "6b170be7-91d6-4523-dac3-4ef33dd093d6"
      },
      "execution_count": 145,
      "outputs": [
        {
          "output_type": "execute_result",
          "data": {
            "text/plain": [
              "array([[0.6964517 , 0.84795351, 2.16352364],\n",
              "       [2.18927367, 4.15474048, 0.42239204],\n",
              "       [0.3954053 , 2.17459356, 0.51725487]])"
            ]
          },
          "metadata": {},
          "execution_count": 145
        }
      ]
    },
    {
      "cell_type": "code",
      "source": [
        "np.divide(macierz10, macierz11)"
      ],
      "metadata": {
        "colab": {
          "base_uri": "https://localhost:8080/",
          "height": 0
        },
        "id": "wfmz1ic5TCAi",
        "outputId": "e6e922d7-25cf-47e9-b3b4-e632aaebed2e"
      },
      "execution_count": 146,
      "outputs": [
        {
          "output_type": "execute_result",
          "data": {
            "text/plain": [
              "array([[0.6964517 , 0.84795351, 2.16352364],\n",
              "       [2.18927367, 4.15474048, 0.42239204],\n",
              "       [0.3954053 , 2.17459356, 0.51725487]])"
            ]
          },
          "metadata": {},
          "execution_count": 146
        }
      ]
    },
    {
      "cell_type": "markdown",
      "source": [
        "6) Transpozycja macierzy czyli zamiana wierszy na kolumny i odwrotnie"
      ],
      "metadata": {
        "id": "VCUyXV77ZtJ8"
      }
    },
    {
      "cell_type": "code",
      "source": [
        "macierz10"
      ],
      "metadata": {
        "colab": {
          "base_uri": "https://localhost:8080/",
          "height": 0
        },
        "id": "CuJXed7LZyUU",
        "outputId": "564c5d01-a3f3-42c0-8c45-eece8157ad1a"
      },
      "execution_count": 147,
      "outputs": [
        {
          "output_type": "execute_result",
          "data": {
            "text/plain": [
              "array([[0.54545807, 0.37039319, 0.64493252],\n",
              "       [0.65274105, 0.89700409, 0.39628136],\n",
              "       [0.3726587 , 0.25083959, 0.41603753]])"
            ]
          },
          "metadata": {},
          "execution_count": 147
        }
      ]
    },
    {
      "cell_type": "code",
      "source": [
        "macierz10.T"
      ],
      "metadata": {
        "colab": {
          "base_uri": "https://localhost:8080/",
          "height": 0
        },
        "id": "4rxw28q9Z07R",
        "outputId": "0931dcb4-356e-4c9f-872c-d65b7f5f97ea"
      },
      "execution_count": 148,
      "outputs": [
        {
          "output_type": "execute_result",
          "data": {
            "text/plain": [
              "array([[0.54545807, 0.65274105, 0.3726587 ],\n",
              "       [0.37039319, 0.89700409, 0.25083959],\n",
              "       [0.64493252, 0.39628136, 0.41603753]])"
            ]
          },
          "metadata": {},
          "execution_count": 148
        }
      ]
    },
    {
      "cell_type": "markdown",
      "source": [
        "7) Macierz odwrotna - macierz musi byc kwadratowa, a wyznacznik niezerowy"
      ],
      "metadata": {
        "id": "PkQ1t_yEZ-Vg"
      }
    },
    {
      "cell_type": "code",
      "source": [
        "np.linalg.inv(macierz10)"
      ],
      "metadata": {
        "colab": {
          "base_uri": "https://localhost:8080/",
          "height": 0
        },
        "id": "NvcAwuG1aBoO",
        "outputId": "066ad4b1-eb04-45d4-ce9b-8ae4e54b56f3"
      },
      "execution_count": 149,
      "outputs": [
        {
          "output_type": "execute_result",
          "data": {
            "text/plain": [
              "array([[-41.87682929,  -1.17426081,  66.03506802],\n",
              "       [ 18.9492156 ,   2.05093295, -31.32821168],\n",
              "       [ 26.08551051,  -0.18473493, -37.85761096]])"
            ]
          },
          "metadata": {},
          "execution_count": 149
        }
      ]
    },
    {
      "cell_type": "markdown",
      "source": [
        "8) Do sprawdzenia \n",
        "  * np.exp()\n",
        "  * np.sqrt()\n",
        "  * np.sin()\n",
        "  * np.cos()\n",
        "  * np.log()"
      ],
      "metadata": {
        "id": "WWf9qG-YTFMM"
      }
    },
    {
      "cell_type": "markdown",
      "source": [
        "#**Liczby losowe**"
      ],
      "metadata": {
        "id": "k9K2ZQ52Tdxp"
      }
    },
    {
      "cell_type": "markdown",
      "source": [
        "1) Losowa liczba z rozkładu normalnego (Gaussa)"
      ],
      "metadata": {
        "id": "biLVixqLT-3s"
      }
    },
    {
      "cell_type": "code",
      "source": [
        "np.random.normal()"
      ],
      "metadata": {
        "colab": {
          "base_uri": "https://localhost:8080/",
          "height": 0
        },
        "id": "CFM2n0g4UPm8",
        "outputId": "6c258cb9-d79b-429a-a50c-5af521c4875c"
      },
      "execution_count": 150,
      "outputs": [
        {
          "output_type": "execute_result",
          "data": {
            "text/plain": [
              "0.6158380055938681"
            ]
          },
          "metadata": {},
          "execution_count": 150
        }
      ]
    },
    {
      "cell_type": "markdown",
      "source": [
        "2) Losowy array z rozkładu normlanego"
      ],
      "metadata": {
        "id": "B8rZO97aUIIE"
      }
    },
    {
      "cell_type": "code",
      "source": [
        "np.random.normal(size=4)                                                        # 4 elementy z rozkladu normalengo"
      ],
      "metadata": {
        "colab": {
          "base_uri": "https://localhost:8080/",
          "height": 0
        },
        "id": "1ijzeaj7UoKJ",
        "outputId": "fce21fe9-1935-4cbc-bc38-8301452954ed"
      },
      "execution_count": 151,
      "outputs": [
        {
          "output_type": "execute_result",
          "data": {
            "text/plain": [
              "array([ 0.66539389, -0.67225726, -0.46542724,  1.19212646])"
            ]
          },
          "metadata": {},
          "execution_count": 151
        }
      ]
    },
    {
      "cell_type": "markdown",
      "source": [
        "3) Losowy zestaw licz z układu jednolitego"
      ],
      "metadata": {
        "id": "wwmI-7opUsui"
      }
    },
    {
      "cell_type": "code",
      "source": [
        "np.random.uniform(size=6)"
      ],
      "metadata": {
        "colab": {
          "base_uri": "https://localhost:8080/",
          "height": 0
        },
        "id": "_2a9J1xMU4H_",
        "outputId": "bbfd184d-937e-46ba-ab5b-9b56e0f83aec"
      },
      "execution_count": 152,
      "outputs": [
        {
          "output_type": "execute_result",
          "data": {
            "text/plain": [
              "array([0.59933126, 0.40322162, 0.18696778, 0.12296284, 0.94948072,\n",
              "       0.36535054])"
            ]
          },
          "metadata": {},
          "execution_count": 152
        }
      ]
    },
    {
      "cell_type": "markdown",
      "source": [
        "      lub z przedziału"
      ],
      "metadata": {
        "id": "0I66rjeCVFYY"
      }
    },
    {
      "cell_type": "code",
      "source": [
        "np.random.uniform(3, 30, size = 5)"
      ],
      "metadata": {
        "colab": {
          "base_uri": "https://localhost:8080/",
          "height": 0
        },
        "id": "0zSxq_lqVPzO",
        "outputId": "e006409c-5ef3-4183-e1b9-a725d283dd86"
      },
      "execution_count": 153,
      "outputs": [
        {
          "output_type": "execute_result",
          "data": {
            "text/plain": [
              "array([20.96354382,  7.97317075, 25.72470391, 29.03911783,  4.42019454])"
            ]
          },
          "metadata": {},
          "execution_count": 153
        }
      ]
    },
    {
      "cell_type": "markdown",
      "source": [
        "4) Losowa liczba zmiennoprzecinkowa"
      ],
      "metadata": {
        "id": "FOVv-xYdVWgQ"
      }
    },
    {
      "cell_type": "code",
      "source": [
        "np.random.random()                                                              # z przedzialu od 0 (wlacznie) do 1 (przedzial otwarty)"
      ],
      "metadata": {
        "colab": {
          "base_uri": "https://localhost:8080/",
          "height": 0
        },
        "id": "_wTHN2pkVeB0",
        "outputId": "a90f7d15-d1bf-4b89-c65a-5f58628e1f79"
      },
      "execution_count": 154,
      "outputs": [
        {
          "output_type": "execute_result",
          "data": {
            "text/plain": [
              "0.05228883251593697"
            ]
          },
          "metadata": {},
          "execution_count": 154
        }
      ]
    },
    {
      "cell_type": "markdown",
      "source": [
        "      lub zestaw"
      ],
      "metadata": {
        "id": "c0ddwEOgVrdd"
      }
    },
    {
      "cell_type": "code",
      "source": [
        "np.random.random(size = 4)"
      ],
      "metadata": {
        "colab": {
          "base_uri": "https://localhost:8080/",
          "height": 0
        },
        "id": "WKpp2_UhVhY6",
        "outputId": "e593915a-fb75-4ec7-af5d-3dfe9f2bb61e"
      },
      "execution_count": 155,
      "outputs": [
        {
          "output_type": "execute_result",
          "data": {
            "text/plain": [
              "array([0.08346624, 0.77581075, 0.72496493, 0.49703439])"
            ]
          },
          "metadata": {},
          "execution_count": 155
        }
      ]
    },
    {
      "cell_type": "markdown",
      "source": [
        "      lub array 2-wymiarowy"
      ],
      "metadata": {
        "id": "OmuDcoVoYq38"
      }
    },
    {
      "cell_type": "code",
      "source": [
        "np.random.random((2,3))                                                         # stworzy macierz dwuwymiarową w tym przypadku 2x3 z elementami losowymi"
      ],
      "metadata": {
        "colab": {
          "base_uri": "https://localhost:8080/",
          "height": 0
        },
        "id": "0NTSUAIdY0i2",
        "outputId": "4e13e502-e77b-4066-e91b-61047e2a4784"
      },
      "execution_count": 156,
      "outputs": [
        {
          "output_type": "execute_result",
          "data": {
            "text/plain": [
              "array([[0.2223691 , 0.17690076, 0.09854059],\n",
              "       [0.33919855, 0.8555744 , 0.34282367]])"
            ]
          },
          "metadata": {},
          "execution_count": 156
        }
      ]
    },
    {
      "cell_type": "markdown",
      "source": [
        "5) Losowa liczba calkowita"
      ],
      "metadata": {
        "id": "2AWeBeiSVlOu"
      }
    },
    {
      "cell_type": "code",
      "source": [
        "np.random.randint(10,20)                                                        # trzeba podac zakres"
      ],
      "metadata": {
        "colab": {
          "base_uri": "https://localhost:8080/",
          "height": 0
        },
        "id": "Pwio925JWt0L",
        "outputId": "48b8476c-ca07-45c8-9545-b22eb34156c4"
      },
      "execution_count": 157,
      "outputs": [
        {
          "output_type": "execute_result",
          "data": {
            "text/plain": [
              "17"
            ]
          },
          "metadata": {},
          "execution_count": 157
        }
      ]
    },
    {
      "cell_type": "markdown",
      "source": [
        "      lub zestaw"
      ],
      "metadata": {
        "id": "CKSwnR2JWwOk"
      }
    },
    {
      "cell_type": "code",
      "source": [
        "np.random.randint(1, 11, size=5)"
      ],
      "metadata": {
        "colab": {
          "base_uri": "https://localhost:8080/",
          "height": 0
        },
        "id": "aMHFD-BvXAG9",
        "outputId": "a5442853-9ebc-4db6-b7a1-eead2533cd8c"
      },
      "execution_count": 158,
      "outputs": [
        {
          "output_type": "execute_result",
          "data": {
            "text/plain": [
              "array([7, 5, 7, 5, 9])"
            ]
          },
          "metadata": {},
          "execution_count": 158
        }
      ]
    },
    {
      "cell_type": "code",
      "source": [
        "np.random.randint([2, 3, 10], 20)                           # wygeneruje macierz 1x3 gdzie lista w tym przypadku [2, 3, 10] to dolny granica przedziału, a 20 górna granica. \n",
        "                                                            # Jeśli chcemy wiekszą macierz to dodajemy liczby w zakresie"
      ],
      "metadata": {
        "colab": {
          "base_uri": "https://localhost:8080/",
          "height": 0
        },
        "id": "2d8oLcU2XFgS",
        "outputId": "b1a44e19-b1fc-4a68-b076-7e65141691d4"
      },
      "execution_count": 159,
      "outputs": [
        {
          "output_type": "execute_result",
          "data": {
            "text/plain": [
              "array([15, 17, 18])"
            ]
          },
          "metadata": {},
          "execution_count": 159
        }
      ]
    },
    {
      "cell_type": "code",
      "source": [
        "np.random.randint([2, 3, 10, 15], 20)"
      ],
      "metadata": {
        "colab": {
          "base_uri": "https://localhost:8080/",
          "height": 0
        },
        "id": "RcP3zPYCXRpC",
        "outputId": "45bfaf40-361d-4aac-d388-436eeae3cefc"
      },
      "execution_count": 160,
      "outputs": [
        {
          "output_type": "execute_result",
          "data": {
            "text/plain": [
              "array([ 6, 13, 16, 15])"
            ]
          },
          "metadata": {},
          "execution_count": 160
        }
      ]
    },
    {
      "cell_type": "code",
      "source": [
        "np.random.randint(7, [20, 30, 10])                         # wygeneruje macierz 1x3 gdzie lista w tym przypadku [20, 30, 10] to górna granica przedziału, a 7 dolna granica. \n",
        "                                                           # Jeśli chcemy wiekszą macierz to dodajemy liczby w zakresie"
      ],
      "metadata": {
        "colab": {
          "base_uri": "https://localhost:8080/",
          "height": 0
        },
        "id": "mnFuhTN6XtrC",
        "outputId": "74bedfae-f1f4-4f8e-f8a3-dc4ed8ea8fc7"
      },
      "execution_count": 161,
      "outputs": [
        {
          "output_type": "execute_result",
          "data": {
            "text/plain": [
              "array([17, 21,  8])"
            ]
          },
          "metadata": {},
          "execution_count": 161
        }
      ]
    },
    {
      "cell_type": "code",
      "source": [
        "np.random.randint(1, 5, size=(2, 4))                                            # stworzy macierz 2x4, z losowymi elementami z przedzialu od 1 do 5"
      ],
      "metadata": {
        "colab": {
          "base_uri": "https://localhost:8080/",
          "height": 0
        },
        "id": "ic74iDgmX-HV",
        "outputId": "c9b0b997-1ab6-4645-89c5-615872c54baa"
      },
      "execution_count": 162,
      "outputs": [
        {
          "output_type": "execute_result",
          "data": {
            "text/plain": [
              "array([[4, 4, 2, 1],\n",
              "       [1, 3, 1, 2]])"
            ]
          },
          "metadata": {},
          "execution_count": 162
        }
      ]
    },
    {
      "cell_type": "markdown",
      "source": [
        "# ***STATYSTYKA***"
      ],
      "metadata": {
        "id": "m4tP2J3-YVb3"
      }
    },
    {
      "cell_type": "markdown",
      "source": [
        "1) Różnica max - min wartośći dla tablicy (lub kazdego wiersza/kolumny)"
      ],
      "metadata": {
        "id": "2A9CH1TAIQTH"
      }
    },
    {
      "cell_type": "code",
      "source": [
        "macierz2"
      ],
      "metadata": {
        "colab": {
          "base_uri": "https://localhost:8080/",
          "height": 0
        },
        "id": "5ixLOkwCIeSo",
        "outputId": "d75f9df5-a0ac-4711-c150-7af4a81fc294"
      },
      "execution_count": 163,
      "outputs": [
        {
          "output_type": "execute_result",
          "data": {
            "text/plain": [
              "array([[9, 5, 8],\n",
              "       [8, 5, 9]])"
            ]
          },
          "metadata": {},
          "execution_count": 163
        }
      ]
    },
    {
      "cell_type": "code",
      "source": [
        "np.ptp(macierz2)                                                                # max = 9, min = 5, 9 - 5 = 4"
      ],
      "metadata": {
        "colab": {
          "base_uri": "https://localhost:8080/",
          "height": 0
        },
        "id": "aNq7T0FWImSg",
        "outputId": "0a4bd0ea-a8a0-4ae0-a717-f00fd6a290b9"
      },
      "execution_count": 164,
      "outputs": [
        {
          "output_type": "execute_result",
          "data": {
            "text/plain": [
              "4"
            ]
          },
          "metadata": {},
          "execution_count": 164
        }
      ]
    },
    {
      "cell_type": "code",
      "source": [
        "np.ptp(macierz2, axis = 0)                                                      # różnica dla kazdej kolumny bo drugi argument to 0"
      ],
      "metadata": {
        "colab": {
          "base_uri": "https://localhost:8080/",
          "height": 0
        },
        "id": "LAXLGKETItGk",
        "outputId": "7b4a3d6e-ba77-43fe-da55-fce82f3bc75c"
      },
      "execution_count": 165,
      "outputs": [
        {
          "output_type": "execute_result",
          "data": {
            "text/plain": [
              "array([1, 0, 1])"
            ]
          },
          "metadata": {},
          "execution_count": 165
        }
      ]
    },
    {
      "cell_type": "code",
      "source": [
        "np.ptp(macierz2, axis = 1)                                                      # różnica dla kazdego wiersza bo drugi argument to 1"
      ],
      "metadata": {
        "colab": {
          "base_uri": "https://localhost:8080/",
          "height": 0
        },
        "id": "6GFlPqJWJAaJ",
        "outputId": "98f1b1ba-ce8e-4b3c-fd70-f50d84a9beb0"
      },
      "execution_count": 166,
      "outputs": [
        {
          "output_type": "execute_result",
          "data": {
            "text/plain": [
              "array([4, 4])"
            ]
          },
          "metadata": {},
          "execution_count": 166
        }
      ]
    },
    {
      "cell_type": "markdown",
      "source": [
        "2) Mediana"
      ],
      "metadata": {
        "id": "sThDMCXsJJpc"
      }
    },
    {
      "cell_type": "code",
      "source": [
        "macierz2"
      ],
      "metadata": {
        "colab": {
          "base_uri": "https://localhost:8080/",
          "height": 0
        },
        "id": "fWB1RLbDJ-Ds",
        "outputId": "9752f3b2-1ec7-4856-8848-69a9cc266364"
      },
      "execution_count": 167,
      "outputs": [
        {
          "output_type": "execute_result",
          "data": {
            "text/plain": [
              "array([[9, 5, 8],\n",
              "       [8, 5, 9]])"
            ]
          },
          "metadata": {},
          "execution_count": 167
        }
      ]
    },
    {
      "cell_type": "code",
      "source": [
        "np.median(macierz2)                                                             # mediana dla calej tablicy"
      ],
      "metadata": {
        "colab": {
          "base_uri": "https://localhost:8080/",
          "height": 0
        },
        "id": "vVRVWrNPKF56",
        "outputId": "d29dd5c3-2c42-4f72-fc7d-ba04c8879897"
      },
      "execution_count": 168,
      "outputs": [
        {
          "output_type": "execute_result",
          "data": {
            "text/plain": [
              "8.0"
            ]
          },
          "metadata": {},
          "execution_count": 168
        }
      ]
    },
    {
      "cell_type": "code",
      "source": [
        "np.median(macierz2, axis = 0)                                                   # mediana dla kazdej kolumny bo drugi argument to 0"
      ],
      "metadata": {
        "colab": {
          "base_uri": "https://localhost:8080/",
          "height": 0
        },
        "id": "wr_dogI4KLzx",
        "outputId": "ec41b8c2-44b6-4222-d607-935648aedffc"
      },
      "execution_count": 169,
      "outputs": [
        {
          "output_type": "execute_result",
          "data": {
            "text/plain": [
              "array([8.5, 5. , 8.5])"
            ]
          },
          "metadata": {},
          "execution_count": 169
        }
      ]
    },
    {
      "cell_type": "code",
      "source": [
        "np.median(macierz2, axis = 1)                                                   # mediana dla kazdego wiersza bo drugi argument to 1"
      ],
      "metadata": {
        "colab": {
          "base_uri": "https://localhost:8080/",
          "height": 0
        },
        "id": "AOrA_sx0KV6V",
        "outputId": "98697741-eb68-4582-809d-5137e46055d9"
      },
      "execution_count": 170,
      "outputs": [
        {
          "output_type": "execute_result",
          "data": {
            "text/plain": [
              "array([8., 8.])"
            ]
          },
          "metadata": {},
          "execution_count": 170
        }
      ]
    },
    {
      "cell_type": "markdown",
      "source": [
        "3) średnia"
      ],
      "metadata": {
        "id": "7bv6IScxKm1H"
      }
    },
    {
      "cell_type": "code",
      "source": [
        "macierz2"
      ],
      "metadata": {
        "colab": {
          "base_uri": "https://localhost:8080/",
          "height": 0
        },
        "id": "XVDwNlqzK-3p",
        "outputId": "06067965-5d8d-43cc-92f3-58bcffeeb0bf"
      },
      "execution_count": 171,
      "outputs": [
        {
          "output_type": "execute_result",
          "data": {
            "text/plain": [
              "array([[9, 5, 8],\n",
              "       [8, 5, 9]])"
            ]
          },
          "metadata": {},
          "execution_count": 171
        }
      ]
    },
    {
      "cell_type": "code",
      "source": [
        "np.mean(macierz2)                                                               # średnia dla calej tablicy"
      ],
      "metadata": {
        "colab": {
          "base_uri": "https://localhost:8080/",
          "height": 0
        },
        "id": "-vJrGR89K_td",
        "outputId": "5386fc0d-d402-4605-9012-75f78e6a8c3b"
      },
      "execution_count": 172,
      "outputs": [
        {
          "output_type": "execute_result",
          "data": {
            "text/plain": [
              "7.333333333333333"
            ]
          },
          "metadata": {},
          "execution_count": 172
        }
      ]
    },
    {
      "cell_type": "code",
      "source": [
        "np.mean(macierz2, axis = 0)                                                     # średnia dla kazdej kolumny bo drugi argument to 0"
      ],
      "metadata": {
        "colab": {
          "base_uri": "https://localhost:8080/",
          "height": 0
        },
        "id": "9zBvr5qaLBtt",
        "outputId": "9843dcd1-501e-4735-f5d2-e0d082834817"
      },
      "execution_count": 173,
      "outputs": [
        {
          "output_type": "execute_result",
          "data": {
            "text/plain": [
              "array([8.5, 5. , 8.5])"
            ]
          },
          "metadata": {},
          "execution_count": 173
        }
      ]
    },
    {
      "cell_type": "code",
      "source": [
        "np.mean(macierz2, axis = 1)                                                     # średnia dla kazdego wiersza bo drugi argument to 1"
      ],
      "metadata": {
        "colab": {
          "base_uri": "https://localhost:8080/",
          "height": 0
        },
        "id": "BzHTwfYLLOXH",
        "outputId": "30f79748-6393-4ac6-a0dc-5a4e74b27678"
      },
      "execution_count": 174,
      "outputs": [
        {
          "output_type": "execute_result",
          "data": {
            "text/plain": [
              "array([7.33333333, 7.33333333])"
            ]
          },
          "metadata": {},
          "execution_count": 174
        }
      ]
    },
    {
      "cell_type": "markdown",
      "source": [
        "4) Odchylenie standardowe"
      ],
      "metadata": {
        "id": "IQHVtwfyLcAd"
      }
    },
    {
      "cell_type": "code",
      "source": [
        "macierz2"
      ],
      "metadata": {
        "colab": {
          "base_uri": "https://localhost:8080/",
          "height": 0
        },
        "id": "6F42Du7YL_AI",
        "outputId": "8dc36c33-7ff1-4f55-caa7-08bf31a442e5"
      },
      "execution_count": 175,
      "outputs": [
        {
          "output_type": "execute_result",
          "data": {
            "text/plain": [
              "array([[9, 5, 8],\n",
              "       [8, 5, 9]])"
            ]
          },
          "metadata": {},
          "execution_count": 175
        }
      ]
    },
    {
      "cell_type": "code",
      "source": [
        "np.std(macierz2)"
      ],
      "metadata": {
        "colab": {
          "base_uri": "https://localhost:8080/",
          "height": 0
        },
        "id": "8AdxwxE0MA9J",
        "outputId": "82098020-943b-45d5-ccd9-a4e3ebb8d899"
      },
      "execution_count": 176,
      "outputs": [
        {
          "output_type": "execute_result",
          "data": {
            "text/plain": [
              "1.699673171197595"
            ]
          },
          "metadata": {},
          "execution_count": 176
        }
      ]
    },
    {
      "cell_type": "markdown",
      "source": [
        "5) Wariancja"
      ],
      "metadata": {
        "id": "Vdh0WdUaMDC0"
      }
    },
    {
      "cell_type": "code",
      "source": [
        "macierz2"
      ],
      "metadata": {
        "colab": {
          "base_uri": "https://localhost:8080/",
          "height": 0
        },
        "id": "isPJDNunMOJb",
        "outputId": "31c239c3-5718-44dc-ff11-f1af935250ae"
      },
      "execution_count": 177,
      "outputs": [
        {
          "output_type": "execute_result",
          "data": {
            "text/plain": [
              "array([[9, 5, 8],\n",
              "       [8, 5, 9]])"
            ]
          },
          "metadata": {},
          "execution_count": 177
        }
      ]
    },
    {
      "cell_type": "code",
      "source": [
        "np.var(macierz2)"
      ],
      "metadata": {
        "colab": {
          "base_uri": "https://localhost:8080/",
          "height": 0
        },
        "id": "0nDB0nbrMOve",
        "outputId": "88a25b28-6d74-481b-cefe-b5b61be4cec5"
      },
      "execution_count": 178,
      "outputs": [
        {
          "output_type": "execute_result",
          "data": {
            "text/plain": [
              "2.888888888888889"
            ]
          },
          "metadata": {},
          "execution_count": 178
        }
      ]
    },
    {
      "cell_type": "code",
      "source": [],
      "metadata": {
        "id": "uiInYXNVMRBH"
      },
      "execution_count": 178,
      "outputs": []
    }
  ]
}